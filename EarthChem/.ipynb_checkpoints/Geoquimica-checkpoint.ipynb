{
 "cells": [
  {
   "cell_type": "code",
   "execution_count": 1,
   "id": "901d81c3",
   "metadata": {},
   "outputs": [],
   "source": [
    "# importing packages \n",
    "import pandas as pd \n",
    "import geopandas as gpd\n",
    "import numpy as np\n",
    "import seaborn as sns\n",
    "import matplotlib.pyplot as plt\n",
    "import os \n",
    "import json\n",
    "\n",
    "%matplotlib inline \n",
    "#%matplotlib qt "
   ]
  },
  {
   "cell_type": "code",
   "execution_count": 2,
   "id": "93fb0e6f",
   "metadata": {},
   "outputs": [],
   "source": [
    "cwd = os.getcwd()"
   ]
  },
  {
   "cell_type": "code",
   "execution_count": 3,
   "id": "903743e6",
   "metadata": {},
   "outputs": [
    {
     "name": "stderr",
     "output_type": "stream",
     "text": [
      "C:\\Programs\\Anaconda3\\lib\\site-packages\\IPython\\core\\interactiveshell.py:3437: DtypeWarning: Columns (1,43,44,51,69,85,86,118,119,127,128,136,137,139,140,141,142,143,144,145,146,148,149,154,155,160,161,163,164,169,170,172,173,175,176,178,179,181,182,184,185,186,187,188,190,191,193,194,196,197,199,200,202,203,205,206,207,208,209,210,211,212,214,215,216,217,218,219,220,221,223,224,225,226,227,229,230,232,233,286,287,289,290,292,293,295,296,298,299,304,305,310,311,313,314,346,347,352,353,355,356,358,359,370,371,378,379,380,382,383,388,389,391,392,396,397,398,400,401,403,404,415,416,456,457,458,460,461,463,464,465,466,467,469,470,481,482,496,497) have mixed types.Specify dtype option on import or set low_memory=False.\n",
      "  exec(code_obj, self.user_global_ns, self.user_ns)\n"
     ]
    },
    {
     "data": {
      "text/plain": [
       "SAMPLE ID             ALMARAB-JO-1\n",
       "IGSN                           NaN\n",
       "EXPEDITION ID                   nr\n",
       "REFERENCES         AL-MISHWAT,2004\n",
       "LATITUDE                       NaN\n",
       "                        ...       \n",
       "H2O_P Units.2                  NaN\n",
       "H2O_P Method.2                 NaN\n",
       "INDIUM.1                       NaN\n",
       "INDIUM Units.1                 NaN\n",
       "INDIUM Method.1                NaN\n",
       "Name: 0, Length: 498, dtype: object"
      ]
     },
     "execution_count": 3,
     "metadata": {},
     "output_type": "execute_result"
    }
   ],
   "source": [
    "df = pd.read_csv(cwd + \"\\\\earth.csv\", delimiter= ';', decimal=\",\")\n",
    "#elimino datos no necesarios\n",
    "#gdf.drop(['Label', 'SubLabel', 'Codigo','Shape_Leng', 'geometry'], axis=1, inplace=True)\n",
    "df.shape\n",
    "\n",
    "# remove special character\n",
    "df.iloc[0,:].str.replace(' ', '')"
   ]
  },
  {
   "cell_type": "code",
   "execution_count": 4,
   "id": "52eda58c",
   "metadata": {},
   "outputs": [],
   "source": [
    "#concatenar datasets\n",
    "#df= pd.concat([df, df], ignore_index=True)"
   ]
  },
  {
   "cell_type": "code",
   "execution_count": 5,
   "id": "0801d64c",
   "metadata": {},
   "outputs": [],
   "source": [
    "lista = df.columns.to_list()"
   ]
  },
  {
   "cell_type": "code",
   "execution_count": 6,
   "id": "fa82b237",
   "metadata": {
    "scrolled": false
   },
   "outputs": [
    {
     "data": {
      "text/plain": [
       "12.65"
      ]
     },
     "execution_count": 6,
     "metadata": {},
     "output_type": "execute_result"
    }
   ],
   "source": [
    "df['CAO'] = df['CAO'].str.replace(',', '.').astype(float)\n",
    "df['CAO'][0]\n"
   ]
  },
  {
   "cell_type": "code",
   "execution_count": 7,
   "id": "31fa7c0d",
   "metadata": {},
   "outputs": [
    {
     "data": {
      "text/plain": [
       "93"
      ]
     },
     "execution_count": 7,
     "metadata": {},
     "output_type": "execute_result"
    }
   ],
   "source": [
    "elemento=['SIO2', 'TIO2', 'AL2O3', 'CR2O3', 'FE2O3', 'FE2O3T', 'FEO', 'FEOT', 'NIO', 'MNO', 'MGO', 'CAO', 'SRO', 'NA2O',\n",
    " 'K2O', 'P2O5', 'BAO', 'LOI', 'H2O', 'H2O_M', 'H2O_P', 'SO3', 'COO', 'MN', 'NI', 'CO', 'CU', 'CD', 'ZN', 'AS', 'AG', 'S',\n",
    " 'ZRO2', 'AL', 'CA', 'HE', 'HE3', 'LA', 'CE', 'PR', 'ND', 'SM', 'EU', 'GD', 'TB', 'DY', 'HO', 'ER', 'TM', 'YB', 'LU', 'CO2',\n",
    " 'F', 'CL', 'AU', 'B', 'BA', 'BE', 'BI', 'CR', 'CS', 'GA', 'GER', 'HF', 'INDIUM', 'IR', 'K', 'LI', 'MO', 'NA', 'NB', 'OS', 'P',\n",
    " 'PB', 'PD', 'PT', 'RB', 'RE', 'RH', 'RU', 'SB', 'SC', 'SN', 'SR', 'TA', 'TH', 'TI', 'TL', 'U', 'V', 'W', 'Y', 'ZR']\n",
    "len(elemento)"
   ]
  },
  {
   "cell_type": "code",
   "execution_count": null,
   "id": "732dbd34",
   "metadata": {},
   "outputs": [],
   "source": [
    "to =int(len(elemento)/10)\n",
    "to =1\n",
    "\n",
    "for i in range(7):\n",
    "    for j in range(7):\n",
    "        #print(i+j)\n",
    "        dfni = df.iloc[:,:][df[elemento[i+to]].isna()==False]\n",
    "        dfti = dfni.iloc[:,:][df[elemento[j+to]].isna()==False]\n",
    "        #plt.subplot(7,7,i*10+j+1)\n",
    "        #plt.scatter(x=dfti[elemento[i+to]], y= dfti[elemento[j+to]], alpha=0.2)\n",
    "        #plt.title(elemento[i+to]+' vs '+ elemento[j+to])\n",
    "\n",
    "#plt.rcParams[\"figure.figsize\"] = (30,20)\n",
    "#plt.show()  \n",
    "#dfti.head()        \n",
    "        \n",
    "\n",
    "        "
   ]
  },
  {
   "cell_type": "code",
   "execution_count": 8,
   "id": "6f5f5261",
   "metadata": {},
   "outputs": [],
   "source": [
    "oxidos=['SIO2', 'TIO2', 'AL2O3', 'CR2O3', 'FE2O3', 'FE2O3T', 'FEO', 'FEOT', 'NIO', 'MNO', 'MGO', 'CAO', 'SRO', 'NA2O']"
   ]
  },
  {
   "cell_type": "code",
   "execution_count": null,
   "id": "3fce6298",
   "metadata": {},
   "outputs": [],
   "source": [
    "elemento = ['AU', 'TIO2']\n",
    "dfni = df.iloc[:,:][df[elemento[0]].isna()==False]\n",
    "dfti = dfni.iloc[:,:][df[elemento[1]].isna()==False]\n",
    "#dfti.reset_index(drop=True, inplace=True)\n",
    "\n",
    "#elemento = elemento.astype(np.float)\n",
    "plt.rcParams[\"figure.figsize\"] = (15,8)\n",
    "\n",
    "plt.scatter(x=dfti[elemento[0]], y= dfti[elemento[1]],zorder=2, alpha = 0.2)\n",
    "#plot = dfni.plot(kind='scatter', x=dfti[elemento[0]].to_list(), y= dfti[elemento[1]].to_list(),zorder=2, legend=None)\n",
    "# Turn on the grid\n",
    "\n",
    "plt.tick_params(\n",
    "    axis='both',          # changes apply to the x-axis\n",
    "    which='both',      # both major and minor ticks are affected\n",
    "    bottom=True,      # ticks along the bottom edge are off\n",
    "    top=False,         # ticks along the top edge are off\n",
    "    labelbottom=True,\n",
    "    labelleft=True) # labels along the bottom edge are off\n",
    "\n",
    "\n",
    "#plt.grid(axis = 'y', linestyle='solid',zorder=0)\n",
    "#plt.grid(which='major', linestyle=':', linewidth='0.2', color='green')\n",
    "#plt.grid(which='minor', linestyle=':', linewidth='0.5', color='black')\n",
    "\n",
    "plt.title(\"... Vs Otros elementos\",fontsize=25,fontweight=300)\n",
    "plt.xlabel(elemento[0],fontsize=15,rotation=0)\n",
    "\n",
    "#FUNCIÓN PARA AGREGAR ETIQUETAS DE DATOS\n",
    "#add_value_labels(plot)\n",
    "\n",
    "plt.ylabel(elemento[1])\n",
    "#plt.grid()\n",
    "\n",
    "\n",
    "\n",
    "\n",
    "elemento = ['AU', 'AL2O3']\n",
    "dfni = df.iloc[:,:][df[elemento[0]].isna()==False]\n",
    "dfti = dfni.iloc[:,:][df[elemento[1]].isna()==False]\n",
    "plt.scatter(x=dfti[elemento[0]], y= dfti[elemento[1]],zorder=2, color='r', alpha = 0.2)\n",
    "\n",
    "elemento = ['AU', 'FE2O3']\n",
    "dfni = df.iloc[:,:][df[elemento[0]].isna()==False]\n",
    "dfti = dfni.iloc[:,:][df[elemento[1]].isna()==False]\n",
    "plt.scatter(x=dfti[elemento[0]], y= dfti[elemento[1]],zorder=2, color='k', alpha = 0.2)\n",
    "\n",
    "elemento = ['AU', 'AL2O3']\n",
    "dfni = df.iloc[:,:][df[elemento[0]].isna()==False]\n",
    "dfti = dfni.iloc[:,:][df[elemento[1]].isna()==False]\n",
    "plt.scatter(x=dfti[elemento[0]], y= dfti[elemento[1]],zorder=2, color='m', alpha = 0.2)\n",
    "\n",
    "\n",
    "\n",
    "#plt.bar(dic.keys(), dic.values([0][0]))\n",
    "plt.show()"
   ]
  },
  {
   "cell_type": "code",
   "execution_count": null,
   "id": "2d5003bc",
   "metadata": {},
   "outputs": [],
   "source": []
  },
  {
   "cell_type": "code",
   "execution_count": null,
   "id": "31961da3",
   "metadata": {},
   "outputs": [],
   "source": []
  },
  {
   "cell_type": "code",
   "execution_count": null,
   "id": "346189ba",
   "metadata": {},
   "outputs": [],
   "source": []
  },
  {
   "cell_type": "code",
   "execution_count": null,
   "id": "d8b83217",
   "metadata": {},
   "outputs": [],
   "source": [
    "elemento = 'EU'\n",
    "dfg = dfni.iloc[:,:][dfni[elemento].isna()==False]\n",
    "\n",
    "plt.rcParams[\"figure.figsize\"] = (15,8)\n",
    "\n",
    "plot = dfni.plot(kind='scatter', x='EU', y='YB',zorder=2, legend=None)\n",
    "# Turn on the grid\n",
    "\n",
    "plt.tick_params(\n",
    "    axis='both',          # changes apply to the x-axis\n",
    "    which='both',      # both major and minor ticks are affected\n",
    "    bottom=False,      # ticks along the bottom edge are off\n",
    "    top=False,         # ticks along the top edge are off\n",
    "    labelbottom=False,\n",
    "    labelleft=False) # labels along the bottom edge are off\n",
    "\n",
    "\n",
    "#plt.grid(axis = 'y', linestyle='solid',zorder=0)\n",
    "#plt.grid(which='major', linestyle=':', linewidth='0.2', color='green')\n",
    "#plt.grid(which='minor', linestyle=':', linewidth='0.5', color='black')\n",
    "\n",
    "plt.title(\"Área de Unidades Geológicas mayores a 5.000 Km2\",fontsize=25,fontweight=300)\n",
    "plt.xlabel(\"Unidades\",fontsize=15,rotation=0)\n",
    "\n",
    "#FUNCIÓN PARA AGREGAR ETIQUETAS DE DATOS\n",
    "#add_value_labels(plot)\n",
    "\n",
    "plt.ylabel(\"Área Km2\")\n",
    "#plt.grid()\n",
    "\n",
    "#plt.bar(dic.keys(), dic.values([0][0]))\n",
    "plt.show()"
   ]
  },
  {
   "cell_type": "markdown",
   "id": "6093e42e",
   "metadata": {},
   "source": [
    "# Comienzo modelo de Random Forest para regresión\n"
   ]
  },
  {
   "cell_type": "code",
   "execution_count": 9,
   "id": "f37101d5",
   "metadata": {},
   "outputs": [
    {
     "name": "stdout",
     "output_type": "stream",
     "text": [
      "Tamaño del dataset: 3499\n",
      "Ocurrencias de CU en la muestra: 1375\n"
     ]
    },
    {
     "data": {
      "text/html": [
       "<div>\n",
       "<style scoped>\n",
       "    .dataframe tbody tr th:only-of-type {\n",
       "        vertical-align: middle;\n",
       "    }\n",
       "\n",
       "    .dataframe tbody tr th {\n",
       "        vertical-align: top;\n",
       "    }\n",
       "\n",
       "    .dataframe thead th {\n",
       "        text-align: right;\n",
       "    }\n",
       "</style>\n",
       "<table border=\"1\" class=\"dataframe\">\n",
       "  <thead>\n",
       "    <tr style=\"text-align: right;\">\n",
       "      <th></th>\n",
       "      <th>ROCK NAME</th>\n",
       "      <th>MINERAL</th>\n",
       "      <th>SIO2</th>\n",
       "      <th>TIO2</th>\n",
       "      <th>AL2O3</th>\n",
       "      <th>FE2O3</th>\n",
       "      <th>FEO</th>\n",
       "      <th>NIO</th>\n",
       "      <th>MNO</th>\n",
       "      <th>MGO</th>\n",
       "      <th>CAO</th>\n",
       "      <th>SRO</th>\n",
       "      <th>NA2O</th>\n",
       "      <th>K2O</th>\n",
       "      <th>P2O5</th>\n",
       "      <th>MN</th>\n",
       "      <th>NI</th>\n",
       "      <th>CO</th>\n",
       "      <th>CU</th>\n",
       "    </tr>\n",
       "  </thead>\n",
       "  <tbody>\n",
       "    <tr>\n",
       "      <th>0</th>\n",
       "      <td>GABBRONORITE</td>\n",
       "      <td>NaN</td>\n",
       "      <td>49.80</td>\n",
       "      <td>1.15</td>\n",
       "      <td>10.85</td>\n",
       "      <td>2.20</td>\n",
       "      <td>7.40</td>\n",
       "      <td>NaN</td>\n",
       "      <td>0.21</td>\n",
       "      <td>12.72</td>\n",
       "      <td>12.65</td>\n",
       "      <td>NaN</td>\n",
       "      <td>1.40</td>\n",
       "      <td>0.31</td>\n",
       "      <td>0.18</td>\n",
       "      <td>NaN</td>\n",
       "      <td>250.0</td>\n",
       "      <td>NaN</td>\n",
       "      <td>NaN</td>\n",
       "    </tr>\n",
       "    <tr>\n",
       "      <th>1</th>\n",
       "      <td>NORITE</td>\n",
       "      <td>NaN</td>\n",
       "      <td>49.25</td>\n",
       "      <td>1.38</td>\n",
       "      <td>18.75</td>\n",
       "      <td>2.10</td>\n",
       "      <td>7.78</td>\n",
       "      <td>NaN</td>\n",
       "      <td>0.16</td>\n",
       "      <td>6.60</td>\n",
       "      <td>10.75</td>\n",
       "      <td>NaN</td>\n",
       "      <td>1.94</td>\n",
       "      <td>0.40</td>\n",
       "      <td>0.22</td>\n",
       "      <td>NaN</td>\n",
       "      <td>121.0</td>\n",
       "      <td>NaN</td>\n",
       "      <td>NaN</td>\n",
       "    </tr>\n",
       "    <tr>\n",
       "      <th>2</th>\n",
       "      <td>GABBRONORITE</td>\n",
       "      <td>NaN</td>\n",
       "      <td>49.30</td>\n",
       "      <td>0.97</td>\n",
       "      <td>11.35</td>\n",
       "      <td>2.55</td>\n",
       "      <td>7.82</td>\n",
       "      <td>NaN</td>\n",
       "      <td>0.21</td>\n",
       "      <td>12.72</td>\n",
       "      <td>12.60</td>\n",
       "      <td>NaN</td>\n",
       "      <td>1.35</td>\n",
       "      <td>0.29</td>\n",
       "      <td>0.17</td>\n",
       "      <td>NaN</td>\n",
       "      <td>176.0</td>\n",
       "      <td>NaN</td>\n",
       "      <td>NaN</td>\n",
       "    </tr>\n",
       "    <tr>\n",
       "      <th>3</th>\n",
       "      <td>GABBRONORITE</td>\n",
       "      <td>NaN</td>\n",
       "      <td>49.60</td>\n",
       "      <td>0.75</td>\n",
       "      <td>13.50</td>\n",
       "      <td>3.30</td>\n",
       "      <td>6.95</td>\n",
       "      <td>NaN</td>\n",
       "      <td>0.10</td>\n",
       "      <td>11.62</td>\n",
       "      <td>11.75</td>\n",
       "      <td>NaN</td>\n",
       "      <td>1.10</td>\n",
       "      <td>0.25</td>\n",
       "      <td>0.27</td>\n",
       "      <td>NaN</td>\n",
       "      <td>126.0</td>\n",
       "      <td>NaN</td>\n",
       "      <td>NaN</td>\n",
       "    </tr>\n",
       "    <tr>\n",
       "      <th>4</th>\n",
       "      <td>GABBRONORITE</td>\n",
       "      <td>NaN</td>\n",
       "      <td>50.10</td>\n",
       "      <td>0.78</td>\n",
       "      <td>12.45</td>\n",
       "      <td>2.15</td>\n",
       "      <td>6.45</td>\n",
       "      <td>NaN</td>\n",
       "      <td>0.20</td>\n",
       "      <td>11.98</td>\n",
       "      <td>12.10</td>\n",
       "      <td>NaN</td>\n",
       "      <td>1.35</td>\n",
       "      <td>0.12</td>\n",
       "      <td>0.35</td>\n",
       "      <td>NaN</td>\n",
       "      <td>235.0</td>\n",
       "      <td>NaN</td>\n",
       "      <td>NaN</td>\n",
       "    </tr>\n",
       "  </tbody>\n",
       "</table>\n",
       "</div>"
      ],
      "text/plain": [
       "      ROCK NAME  MINERAL   SIO2  TIO2  AL2O3  FE2O3   FEO  NIO   MNO    MGO  \\\n",
       "0  GABBRONORITE      NaN  49.80  1.15  10.85   2.20  7.40  NaN  0.21  12.72   \n",
       "1        NORITE      NaN  49.25  1.38  18.75   2.10  7.78  NaN  0.16   6.60   \n",
       "2  GABBRONORITE      NaN  49.30  0.97  11.35   2.55  7.82  NaN  0.21  12.72   \n",
       "3  GABBRONORITE      NaN  49.60  0.75  13.50   3.30  6.95  NaN  0.10  11.62   \n",
       "4  GABBRONORITE      NaN  50.10  0.78  12.45   2.15  6.45  NaN  0.20  11.98   \n",
       "\n",
       "     CAO  SRO  NA2O   K2O  P2O5  MN     NI  CO  CU  \n",
       "0  12.65  NaN  1.40  0.31  0.18 NaN  250.0 NaN NaN  \n",
       "1  10.75  NaN  1.94  0.40  0.22 NaN  121.0 NaN NaN  \n",
       "2  12.60  NaN  1.35  0.29  0.17 NaN  176.0 NaN NaN  \n",
       "3  11.75  NaN  1.10  0.25  0.27 NaN  126.0 NaN NaN  \n",
       "4  12.10  NaN  1.35  0.12  0.35 NaN  235.0 NaN NaN  "
      ]
     },
     "execution_count": 9,
     "metadata": {},
     "output_type": "execute_result"
    }
   ],
   "source": [
    "#elemento a predecir:\n",
    "elemento = 'CU'\n",
    "\n",
    "columnas = df.columns.to_list()\n",
    "columnasInteres = ['ROCK NAME', 'MINERAL', 'SIO2',\n",
    " 'TIO2',  'AL2O3',\n",
    " 'FE2O3',\n",
    " 'FEO',\n",
    " 'NIO',\n",
    " 'MNO',\n",
    " 'MGO',\n",
    " 'SRO',\n",
    " 'NA2O',\n",
    " 'K2O',\n",
    " 'P2O5',\n",
    " 'MN',\n",
    " 'NI',\n",
    " 'CO',\n",
    " 'CAO',\n",
    " elemento]\n",
    "\n",
    "setC = set(columnas)\n",
    "setCI = set(columnasInteres)\n",
    "\n",
    "ExtractColumns = list(setC-setCI)\n",
    "\n",
    "#Extraigo columnas que no me interesan del dataframe\n",
    "dfmod = df.drop(ExtractColumns, axis =1)\n",
    "#dfmod = dfmod.iloc[:,:][df[elemento].isna()==False]\n",
    "\n",
    "print(\"Tamaño del dataset: {}\".format(dfmod.shape[0]))\n",
    "print(\"Ocurrencias de {} en la muestra: {}\".format(elemento, dfmod[elemento].count()))\n",
    "\n",
    "dfmod.head()\n"
   ]
  },
  {
   "cell_type": "code",
   "execution_count": 10,
   "id": "26a299ac",
   "metadata": {},
   "outputs": [
    {
     "name": "stdout",
     "output_type": "stream",
     "text": [
      "R-squared: 0.7606\n"
     ]
    }
   ],
   "source": [
    "# determino matriz de características (X) y valor a predecir (y)\n",
    "X = dfmod.iloc[:, 2:18].values\n",
    "y = dfmod.iloc[:, 18].values\n",
    "\n",
    "np.nan_to_num(X, copy=False)\n",
    "np.nan_to_num(y, copy=False)\n",
    "\n",
    "# Dividir el data set en conjunto de entrenamiento y conjunto de testing\n",
    "from sklearn.model_selection import train_test_split\n",
    "X_train, X_test, y_train, y_test = train_test_split(X, y, test_size = 0.2)\n",
    "\n",
    "# Escalado de variables\n",
    "#from sklearn.preprocessing import StandardScaler\n",
    "#sc_X = StandardScaler()\n",
    "#sc_y = StandardScaler()\n",
    "#X_train = sc_X.fit_transform(X_train)\n",
    "#X_test = sc_X.transform(X_test)\n",
    "\n",
    "\n",
    "# Ajustar el Random Forest con el dataset\n",
    "from sklearn.ensemble import RandomForestRegressor\n",
    "regression = RandomForestRegressor(n_estimators = 300)\n",
    "regression.fit(X_train, y_train)\n",
    "\n",
    "\n",
    "y_pred = regression.predict(X_test)\n",
    "\n",
    "\n",
    "# observamos Accurancy\n",
    "scoreRF = regression.score(X_test, y_test)\n",
    "print(\"R-squared:\", round(scoreRF,4))"
   ]
  },
  {
   "cell_type": "code",
   "execution_count": 11,
   "id": "a2f6c5cd",
   "metadata": {},
   "outputs": [
    {
     "name": "stdout",
     "output_type": "stream",
     "text": [
      "MSE:  2176.4530040929276\n",
      "RMSE:  1088.2265020464638\n"
     ]
    }
   ],
   "source": [
    "from sklearn.metrics import mean_squared_error\n",
    "mse = mean_squared_error(y_test, y_pred)\n",
    "print(\"MSE: \", mse)\n",
    "print(\"RMSE: \", mse*(1/2.0)) "
   ]
  },
  {
   "cell_type": "code",
   "execution_count": 12,
   "id": "db8b33a4",
   "metadata": {},
   "outputs": [
    {
     "data": {
      "image/png": "[encoded data removed]",
      "text/plain": [
       "<Figure size 1080x576 with 1 Axes>"
      ]
     },
     "metadata": {
      "needs_background": "light"
     },
     "output_type": "display_data"
    }
   ],
   "source": [
    "plt.rcParams[\"figure.figsize\"] = (15,8)\n",
    "x_ax = range(len(y_test))\n",
    "plt.plot(x_ax, y_test, linewidth=1, label=\"original\")\n",
    "plt.plot(x_ax, y_pred, linewidth=1.1, label=\"predicted\")\n",
    "plt.title(\"y-test and y-predicted data score: {}%\".format(round(scoreRF,4)*100))\n",
    "plt.xlabel('Observaciones del conjunto')\n",
    "plt.ylabel('{} en ppm'.format(elemento))\n",
    "plt.legend(loc='best',fancybox=True, shadow=True)\n",
    "plt.grid(True)\n",
    "plt.show() \n"
   ]
  },
  {
   "cell_type": "code",
   "execution_count": 13,
   "id": "1601f2f6",
   "metadata": {},
   "outputs": [
    {
     "data": {
      "text/plain": [
       "array([39.45])"
      ]
     },
     "execution_count": 13,
     "metadata": {},
     "output_type": "execute_result"
    }
   ],
   "source": [
    "pru =[[45.22,3.94,16.23,12.53,0,0,0.18,5.17,10.57,0,3.67,0.73,1.29,0,109.0,0]]\n",
    "\n",
    "y = regression.predict(pru)\n",
    "y"
   ]
  },
  {
   "cell_type": "markdown",
   "id": "0773d616",
   "metadata": {},
   "source": [
    "## Modelo SVR no sirve porque el problema no es lineal\n"
   ]
  },
  {
   "cell_type": "code",
   "execution_count": null,
   "id": "b38e7349",
   "metadata": {},
   "outputs": [],
   "source": [
    "from sklearn.svm import SVR\n",
    "regression = SVR(kernel = \"linear\")\n",
    "regression.fit(X_train, y_train)\n",
    "\n",
    "# observamos Accurancy\n",
    "scoreSVM = regression.score(X_test, y_test)\n",
    "print(\"R-squared SVM:\", scoreSVM)\n",
    "print(\"R-squared RF:\", scoreRF)"
   ]
  },
  {
   "cell_type": "code",
   "execution_count": null,
   "id": "2a35b8ab",
   "metadata": {},
   "outputs": [],
   "source": [
    "y_pred = regression.predict(X_test)\n",
    "\n",
    "\n",
    "plt.rcParams[\"figure.figsize\"] = (15,8)\n",
    "x_ax = range(len(y_test))\n",
    "plt.plot(x_ax, y_test, linewidth=1, label=\"original\")\n",
    "plt.plot(x_ax, y_pred, linewidth=1.5, label=\"predicted\")\n",
    "plt.title(\"y-test and y-predicted data\")\n",
    "plt.xlabel('Observaciones del conjunto')\n",
    "plt.ylabel('{} en ppm'.format(elemento))\n",
    "plt.legend(loc='best',fancybox=True, shadow=True)\n",
    "plt.grid(True)\n",
    "plt.show() \n"
   ]
  },
  {
   "cell_type": "code",
   "execution_count": 16,
   "id": "cdc3c24e",
   "metadata": {},
   "outputs": [
    {
     "ename": "AttributeError",
     "evalue": "'SVR' object has no attribute 'socore'",
     "output_type": "error",
     "traceback": [
      "\u001b[1;31m---------------------------------------------------------------------------\u001b[0m",
      "\u001b[1;31mAttributeError\u001b[0m                            Traceback (most recent call last)",
      "\u001b[1;32m<ipython-input-16-8cd591c01e15>\u001b[0m in \u001b[0;36m<module>\u001b[1;34m\u001b[0m\n\u001b[1;32m----> 1\u001b[1;33m \u001b[0mregression\u001b[0m\u001b[1;33m.\u001b[0m\u001b[0msocore\u001b[0m\u001b[1;33m(\u001b[0m\u001b[0mpredTree\u001b[0m\u001b[1;33m,\u001b[0m \u001b[0my_test\u001b[0m\u001b[1;33m)\u001b[0m\u001b[1;33m\u001b[0m\u001b[1;33m\u001b[0m\u001b[0m\n\u001b[0m",
      "\u001b[1;31mAttributeError\u001b[0m: 'SVR' object has no attribute 'socore'"
     ]
    }
   ],
   "source": [
    "regression.socore(predTree, y_test)"
   ]
  },
  {
   "cell_type": "code",
   "execution_count": null,
   "id": "ce90eb78",
   "metadata": {},
   "outputs": [],
   "source": []
  },
  {
   "cell_type": "markdown",
   "id": "6bc7f0d5",
   "metadata": {},
   "source": [
    "## Probanado Regresión Logística para el elemento y saber si tiene más de un valor deseado"
   ]
  },
  {
   "cell_type": "code",
   "execution_count": 17,
   "id": "355cf735",
   "metadata": {},
   "outputs": [
    {
     "data": {
      "text/html": [
       "<div>\n",
       "<style scoped>\n",
       "    .dataframe tbody tr th:only-of-type {\n",
       "        vertical-align: middle;\n",
       "    }\n",
       "\n",
       "    .dataframe tbody tr th {\n",
       "        vertical-align: top;\n",
       "    }\n",
       "\n",
       "    .dataframe thead th {\n",
       "        text-align: right;\n",
       "    }\n",
       "</style>\n",
       "<table border=\"1\" class=\"dataframe\">\n",
       "  <thead>\n",
       "    <tr style=\"text-align: right;\">\n",
       "      <th></th>\n",
       "      <th>ROCK NAME</th>\n",
       "      <th>MINERAL</th>\n",
       "      <th>SIO2</th>\n",
       "      <th>TIO2</th>\n",
       "      <th>AL2O3</th>\n",
       "      <th>FE2O3</th>\n",
       "      <th>FEO</th>\n",
       "      <th>NIO</th>\n",
       "      <th>MNO</th>\n",
       "      <th>MGO</th>\n",
       "      <th>CAO</th>\n",
       "      <th>SRO</th>\n",
       "      <th>NA2O</th>\n",
       "      <th>K2O</th>\n",
       "      <th>P2O5</th>\n",
       "      <th>MN</th>\n",
       "      <th>NI</th>\n",
       "      <th>CO</th>\n",
       "      <th>CU</th>\n",
       "      <th>class</th>\n",
       "    </tr>\n",
       "  </thead>\n",
       "  <tbody>\n",
       "    <tr>\n",
       "      <th>0</th>\n",
       "      <td>GABBRONORITE</td>\n",
       "      <td>NaN</td>\n",
       "      <td>49.80</td>\n",
       "      <td>1.15</td>\n",
       "      <td>10.85</td>\n",
       "      <td>2.20</td>\n",
       "      <td>7.40</td>\n",
       "      <td>NaN</td>\n",
       "      <td>0.21</td>\n",
       "      <td>12.72</td>\n",
       "      <td>12.65</td>\n",
       "      <td>NaN</td>\n",
       "      <td>1.40</td>\n",
       "      <td>0.31</td>\n",
       "      <td>0.18</td>\n",
       "      <td>NaN</td>\n",
       "      <td>250.0</td>\n",
       "      <td>NaN</td>\n",
       "      <td>0.0</td>\n",
       "      <td>0</td>\n",
       "    </tr>\n",
       "    <tr>\n",
       "      <th>1</th>\n",
       "      <td>NORITE</td>\n",
       "      <td>NaN</td>\n",
       "      <td>49.25</td>\n",
       "      <td>1.38</td>\n",
       "      <td>18.75</td>\n",
       "      <td>2.10</td>\n",
       "      <td>7.78</td>\n",
       "      <td>NaN</td>\n",
       "      <td>0.16</td>\n",
       "      <td>6.60</td>\n",
       "      <td>10.75</td>\n",
       "      <td>NaN</td>\n",
       "      <td>1.94</td>\n",
       "      <td>0.40</td>\n",
       "      <td>0.22</td>\n",
       "      <td>NaN</td>\n",
       "      <td>121.0</td>\n",
       "      <td>NaN</td>\n",
       "      <td>0.0</td>\n",
       "      <td>0</td>\n",
       "    </tr>\n",
       "    <tr>\n",
       "      <th>2</th>\n",
       "      <td>GABBRONORITE</td>\n",
       "      <td>NaN</td>\n",
       "      <td>49.30</td>\n",
       "      <td>0.97</td>\n",
       "      <td>11.35</td>\n",
       "      <td>2.55</td>\n",
       "      <td>7.82</td>\n",
       "      <td>NaN</td>\n",
       "      <td>0.21</td>\n",
       "      <td>12.72</td>\n",
       "      <td>12.60</td>\n",
       "      <td>NaN</td>\n",
       "      <td>1.35</td>\n",
       "      <td>0.29</td>\n",
       "      <td>0.17</td>\n",
       "      <td>NaN</td>\n",
       "      <td>176.0</td>\n",
       "      <td>NaN</td>\n",
       "      <td>0.0</td>\n",
       "      <td>0</td>\n",
       "    </tr>\n",
       "    <tr>\n",
       "      <th>3</th>\n",
       "      <td>GABBRONORITE</td>\n",
       "      <td>NaN</td>\n",
       "      <td>49.60</td>\n",
       "      <td>0.75</td>\n",
       "      <td>13.50</td>\n",
       "      <td>3.30</td>\n",
       "      <td>6.95</td>\n",
       "      <td>NaN</td>\n",
       "      <td>0.10</td>\n",
       "      <td>11.62</td>\n",
       "      <td>11.75</td>\n",
       "      <td>NaN</td>\n",
       "      <td>1.10</td>\n",
       "      <td>0.25</td>\n",
       "      <td>0.27</td>\n",
       "      <td>NaN</td>\n",
       "      <td>126.0</td>\n",
       "      <td>NaN</td>\n",
       "      <td>0.0</td>\n",
       "      <td>0</td>\n",
       "    </tr>\n",
       "    <tr>\n",
       "      <th>4</th>\n",
       "      <td>GABBRONORITE</td>\n",
       "      <td>NaN</td>\n",
       "      <td>50.10</td>\n",
       "      <td>0.78</td>\n",
       "      <td>12.45</td>\n",
       "      <td>2.15</td>\n",
       "      <td>6.45</td>\n",
       "      <td>NaN</td>\n",
       "      <td>0.20</td>\n",
       "      <td>11.98</td>\n",
       "      <td>12.10</td>\n",
       "      <td>NaN</td>\n",
       "      <td>1.35</td>\n",
       "      <td>0.12</td>\n",
       "      <td>0.35</td>\n",
       "      <td>NaN</td>\n",
       "      <td>235.0</td>\n",
       "      <td>NaN</td>\n",
       "      <td>0.0</td>\n",
       "      <td>0</td>\n",
       "    </tr>\n",
       "  </tbody>\n",
       "</table>\n",
       "</div>"
      ],
      "text/plain": [
       "      ROCK NAME  MINERAL   SIO2  TIO2  AL2O3  FE2O3   FEO  NIO   MNO    MGO  \\\n",
       "0  GABBRONORITE      NaN  49.80  1.15  10.85   2.20  7.40  NaN  0.21  12.72   \n",
       "1        NORITE      NaN  49.25  1.38  18.75   2.10  7.78  NaN  0.16   6.60   \n",
       "2  GABBRONORITE      NaN  49.30  0.97  11.35   2.55  7.82  NaN  0.21  12.72   \n",
       "3  GABBRONORITE      NaN  49.60  0.75  13.50   3.30  6.95  NaN  0.10  11.62   \n",
       "4  GABBRONORITE      NaN  50.10  0.78  12.45   2.15  6.45  NaN  0.20  11.98   \n",
       "\n",
       "     CAO  SRO  NA2O   K2O  P2O5  MN     NI  CO   CU  class  \n",
       "0  12.65  NaN  1.40  0.31  0.18 NaN  250.0 NaN  0.0      0  \n",
       "1  10.75  NaN  1.94  0.40  0.22 NaN  121.0 NaN  0.0      0  \n",
       "2  12.60  NaN  1.35  0.29  0.17 NaN  176.0 NaN  0.0      0  \n",
       "3  11.75  NaN  1.10  0.25  0.27 NaN  126.0 NaN  0.0      0  \n",
       "4  12.10  NaN  1.35  0.12  0.35 NaN  235.0 NaN  0.0      0  "
      ]
     },
     "execution_count": 17,
     "metadata": {},
     "output_type": "execute_result"
    }
   ],
   "source": [
    "#dfmod[elemento].apply(1 if dfmod[elemento]>0 else 0)\n",
    "valorClase = 3\n",
    "\n",
    "dfmod.loc[dfmod[elemento]>valorClase,'class']=1\n",
    "dfmod.loc[dfmod[elemento]<=valorClase,'class']=0\n",
    "dfmod['class']=pd.to_numeric(dfmod['class'], downcast='integer')\n",
    "\n",
    "dfmod.head()"
   ]
  },
  {
   "cell_type": "code",
   "execution_count": 18,
   "id": "e6f957ce",
   "metadata": {},
   "outputs": [
    {
     "name": "stderr",
     "output_type": "stream",
     "text": [
      "C:\\Programs\\Anaconda3\\lib\\site-packages\\sklearn\\linear_model\\_logistic.py:763: ConvergenceWarning: lbfgs failed to converge (status=1):\n",
      "STOP: TOTAL NO. of ITERATIONS REACHED LIMIT.\n",
      "\n",
      "Increase the number of iterations (max_iter) or scale the data as shown in:\n",
      "    https://scikit-learn.org/stable/modules/preprocessing.html\n",
      "Please also refer to the documentation for alternative solver options:\n",
      "    https://scikit-learn.org/stable/modules/linear_model.html#logistic-regression\n",
      "  n_iter_i = _check_optimize_result(\n"
     ]
    },
    {
     "data": {
      "text/plain": [
       "LogisticRegression(random_state=0)"
      ]
     },
     "execution_count": 18,
     "metadata": {},
     "output_type": "execute_result"
    }
   ],
   "source": [
    "# determino matriz de características (X) y valor a predecir (y)\n",
    "X = dfmod.iloc[:, 2:18].values\n",
    "y = dfmod.iloc[:, 19].values\n",
    "\n",
    "np.nan_to_num(X, copy=False)\n",
    "np.nan_to_num(y, copy=False)\n",
    "\n",
    "# Dividir el data set en conjunto de entrenamiento y conjunto de testing\n",
    "from sklearn.model_selection import train_test_split\n",
    "X_train, X_test, y_train, y_test = train_test_split(X, y, test_size = 0.2)\n",
    "\n",
    "\n",
    "# Ajustar el modelo de Regresión Logística en el Conjunto de Entrenamiento\n",
    "from sklearn.linear_model import LogisticRegression\n",
    "classifier = LogisticRegression(random_state = 0)\n",
    "classifier.fit(X_train, y_train)"
   ]
  },
  {
   "cell_type": "code",
   "execution_count": 19,
   "id": "fd12f833",
   "metadata": {},
   "outputs": [
    {
     "data": {
      "text/plain": [
       "array([[390,  47],\n",
       "       [ 59, 204]], dtype=int64)"
      ]
     },
     "execution_count": 19,
     "metadata": {},
     "output_type": "execute_result"
    }
   ],
   "source": [
    "# Predicción de los resultados con el Conjunto de Testing\n",
    "y_pred  = classifier.predict(X_test)\n",
    "\n",
    "# Elaborar una matriz de confusión\n",
    "from sklearn.metrics import confusion_matrix\n",
    "cm = confusion_matrix(y_test, y_pred)\n",
    "cm"
   ]
  },
  {
   "cell_type": "code",
   "execution_count": 20,
   "id": "3b6a87bb",
   "metadata": {},
   "outputs": [
    {
     "name": "stdout",
     "output_type": "stream",
     "text": [
      "0.8486\n"
     ]
    }
   ],
   "source": [
    "scoreLR = round(classifier.score(X_test, y_test),4)\n",
    "print(scoreLR)"
   ]
  },
  {
   "cell_type": "code",
   "execution_count": 21,
   "id": "4b760e5a",
   "metadata": {
    "scrolled": true
   },
   "outputs": [
    {
     "data": {
      "image/png": "[encoded data removed]",
      "text/plain": [
       "<Figure size 360x360 with 2 Axes>"
      ]
     },
     "metadata": {
      "needs_background": "light"
     },
     "output_type": "display_data"
    }
   ],
   "source": [
    "# MATRIZ DE CONFUSION \n",
    "\n",
    "plt.figure(figsize=(5,5))\n",
    "sns.set(font_scale=1.5)\n",
    "sns.heatmap(cm, annot=True, fmt=\".0f\", linewidths=.5, square = True, cmap = 'Blues_r');\n",
    "plt.ylabel('Valor Real');\n",
    "plt.xlabel('Valor Predicho');\n",
    "all_sample_title = 'Accuracy Score: {}%'.format(round(scoreLR*100,4))\n",
    "plt.title(all_sample_title, size = 15);"
   ]
  },
  {
   "cell_type": "code",
   "execution_count": 22,
   "id": "9a6c1d60",
   "metadata": {},
   "outputs": [
    {
     "data": {
      "image/png": "[encoded data removed]",
      "text/plain": [
       "<Figure size 288x288 with 2 Axes>"
      ]
     },
     "metadata": {},
     "output_type": "display_data"
    }
   ],
   "source": [
    "plt.figure(figsize=(4,4))\n",
    "plt.imshow(cm, interpolation='nearest', cmap='Pastel1')\n",
    "plt.title('Confusion matrix', size = 15)\n",
    "plt.colorbar()\n",
    "tick_marks = np.arange(2)\n",
    "plt.xticks(tick_marks, [\"0\", \"1\"], size = 20)\n",
    "plt.yticks(tick_marks, [\"0\", \"1\"], size = 20)\n",
    "plt.tight_layout()\n",
    "plt.ylabel('Actual label', size = 15)\n",
    "plt.xlabel('Predicted label', size = 15)\n",
    "width, height = cm.shape\n",
    "\n",
    "for x in range(width):\n",
    "    for y in range(height):\n",
    "        plt.annotate(str(cm[x][y]), xy=(y, x), \n",
    "        horizontalalignment='center',\n",
    "        verticalalignment='center',\n",
    "        size=20)"
   ]
  },
  {
   "cell_type": "code",
   "execution_count": 23,
   "id": "2579778d",
   "metadata": {
    "scrolled": true
   },
   "outputs": [
    {
     "ename": "ValueError",
     "evalue": "X has 2 features per sample; expecting 16",
     "output_type": "error",
     "traceback": [
      "\u001b[1;31m---------------------------------------------------------------------------\u001b[0m",
      "\u001b[1;31mValueError\u001b[0m                                Traceback (most recent call last)",
      "\u001b[1;32m<ipython-input-23-83e1ac0a69fe>\u001b[0m in \u001b[0;36m<module>\u001b[1;34m\u001b[0m\n\u001b[0;32m      4\u001b[0m X1, X2 = np.meshgrid(np.arange(start = X_set[:, 0].min() - 1, stop = X_set[:, 0].max() + 1, step = 0.01),\n\u001b[0;32m      5\u001b[0m                      np.arange(start = X_set[:, 1].min() - 1, stop = X_set[:, 1].max() + 1, step = 0.01))\n\u001b[1;32m----> 6\u001b[1;33m plt.contourf(X1, X2, classifier.predict(np.array([X1.ravel(), X2.ravel()]).T).reshape(X1.shape),\n\u001b[0m\u001b[0;32m      7\u001b[0m              alpha = 0.75, cmap = ListedColormap(('red', 'green')))\n\u001b[0;32m      8\u001b[0m \u001b[0mplt\u001b[0m\u001b[1;33m.\u001b[0m\u001b[0mxlim\u001b[0m\u001b[1;33m(\u001b[0m\u001b[0mX1\u001b[0m\u001b[1;33m.\u001b[0m\u001b[0mmin\u001b[0m\u001b[1;33m(\u001b[0m\u001b[1;33m)\u001b[0m\u001b[1;33m,\u001b[0m \u001b[0mX1\u001b[0m\u001b[1;33m.\u001b[0m\u001b[0mmax\u001b[0m\u001b[1;33m(\u001b[0m\u001b[1;33m)\u001b[0m\u001b[1;33m)\u001b[0m\u001b[1;33m\u001b[0m\u001b[1;33m\u001b[0m\u001b[0m\n",
      "\u001b[1;32mC:\\Programs\\Anaconda3\\lib\\site-packages\\sklearn\\linear_model\\_base.py\u001b[0m in \u001b[0;36mpredict\u001b[1;34m(self, X)\u001b[0m\n\u001b[0;32m    307\u001b[0m             \u001b[0mPredicted\u001b[0m \u001b[1;32mclass\u001b[0m \u001b[0mlabel\u001b[0m \u001b[0mper\u001b[0m \u001b[0msample\u001b[0m\u001b[1;33m.\u001b[0m\u001b[1;33m\u001b[0m\u001b[1;33m\u001b[0m\u001b[0m\n\u001b[0;32m    308\u001b[0m         \"\"\"\n\u001b[1;32m--> 309\u001b[1;33m         \u001b[0mscores\u001b[0m \u001b[1;33m=\u001b[0m \u001b[0mself\u001b[0m\u001b[1;33m.\u001b[0m\u001b[0mdecision_function\u001b[0m\u001b[1;33m(\u001b[0m\u001b[0mX\u001b[0m\u001b[1;33m)\u001b[0m\u001b[1;33m\u001b[0m\u001b[1;33m\u001b[0m\u001b[0m\n\u001b[0m\u001b[0;32m    310\u001b[0m         \u001b[1;32mif\u001b[0m \u001b[0mlen\u001b[0m\u001b[1;33m(\u001b[0m\u001b[0mscores\u001b[0m\u001b[1;33m.\u001b[0m\u001b[0mshape\u001b[0m\u001b[1;33m)\u001b[0m \u001b[1;33m==\u001b[0m \u001b[1;36m1\u001b[0m\u001b[1;33m:\u001b[0m\u001b[1;33m\u001b[0m\u001b[1;33m\u001b[0m\u001b[0m\n\u001b[0;32m    311\u001b[0m             \u001b[0mindices\u001b[0m \u001b[1;33m=\u001b[0m \u001b[1;33m(\u001b[0m\u001b[0mscores\u001b[0m \u001b[1;33m>\u001b[0m \u001b[1;36m0\u001b[0m\u001b[1;33m)\u001b[0m\u001b[1;33m.\u001b[0m\u001b[0mastype\u001b[0m\u001b[1;33m(\u001b[0m\u001b[0mint\u001b[0m\u001b[1;33m)\u001b[0m\u001b[1;33m\u001b[0m\u001b[1;33m\u001b[0m\u001b[0m\n",
      "\u001b[1;32mC:\\Programs\\Anaconda3\\lib\\site-packages\\sklearn\\linear_model\\_base.py\u001b[0m in \u001b[0;36mdecision_function\u001b[1;34m(self, X)\u001b[0m\n\u001b[0;32m    286\u001b[0m         \u001b[0mn_features\u001b[0m \u001b[1;33m=\u001b[0m \u001b[0mself\u001b[0m\u001b[1;33m.\u001b[0m\u001b[0mcoef_\u001b[0m\u001b[1;33m.\u001b[0m\u001b[0mshape\u001b[0m\u001b[1;33m[\u001b[0m\u001b[1;36m1\u001b[0m\u001b[1;33m]\u001b[0m\u001b[1;33m\u001b[0m\u001b[1;33m\u001b[0m\u001b[0m\n\u001b[0;32m    287\u001b[0m         \u001b[1;32mif\u001b[0m \u001b[0mX\u001b[0m\u001b[1;33m.\u001b[0m\u001b[0mshape\u001b[0m\u001b[1;33m[\u001b[0m\u001b[1;36m1\u001b[0m\u001b[1;33m]\u001b[0m \u001b[1;33m!=\u001b[0m \u001b[0mn_features\u001b[0m\u001b[1;33m:\u001b[0m\u001b[1;33m\u001b[0m\u001b[1;33m\u001b[0m\u001b[0m\n\u001b[1;32m--> 288\u001b[1;33m             raise ValueError(\"X has %d features per sample; expecting %d\"\n\u001b[0m\u001b[0;32m    289\u001b[0m                              % (X.shape[1], n_features))\n\u001b[0;32m    290\u001b[0m \u001b[1;33m\u001b[0m\u001b[0m\n",
      "\u001b[1;31mValueError\u001b[0m: X has 2 features per sample; expecting 16"
     ]
    }
   ],
   "source": [
    "# Representación gráfica de los resultados del algoritmo en el Conjunto de Entrenamiento\n",
    "from matplotlib.colors import ListedColormap\n",
    "X_set, y_set = X_train, y_train\n",
    "X1, X2 = np.meshgrid(np.arange(start = X_set[:, 0].min() - 1, stop = X_set[:, 0].max() + 1, step = 0.01),\n",
    "                     np.arange(start = X_set[:, 1].min() - 1, stop = X_set[:, 1].max() + 1, step = 0.01))\n",
    "plt.contourf(X1, X2, classifier.predict(np.array([X1.ravel(), X2.ravel()]).T).reshape(X1.shape),\n",
    "             alpha = 0.75, cmap = ListedColormap(('red', 'green')))\n",
    "plt.xlim(X1.min(), X1.max())\n",
    "plt.ylim(X2.min(), X2.max())\n",
    "for i, j in enumerate(np.unique(y_set)):\n",
    "    plt.scatter(X_set[y_set == j, 0], X_set[y_set == j, 1],\n",
    "                c = ListedColormap(('red', 'green'))(i), label = j)\n",
    "plt.title('Clasificador (Conjunto de Entrenamiento)')\n",
    "plt.xlabel('Edad')\n",
    "plt.ylabel('Sueldo Estimado')\n",
    "plt.legend()\n",
    "plt.show()\n",
    "\n",
    "\n",
    "\n"
   ]
  },
  {
   "cell_type": "code",
   "execution_count": null,
   "id": "4b1a5509",
   "metadata": {},
   "outputs": [],
   "source": []
  },
  {
   "cell_type": "code",
   "execution_count": null,
   "id": "e450148e",
   "metadata": {},
   "outputs": [],
   "source": [
    "# Representación gráfica de los resultados del algoritmo en el Conjunto de Testing\n",
    "X_set, y_set = X_test, y_test\n",
    "X1, X2 = np.meshgrid(np.arange(start = X_set[:, 0].min() - 1, stop = X_set[:, 0].max() + 1, step = 0.01),\n",
    "                     np.arange(start = X_set[:, 1].min() - 1, stop = X_set[:, 1].max() + 1, step = 0.01))\n",
    "plt.contourf(X1, X2, classifier.predict(np.array([X1.ravel(), X2.ravel()]).T).reshape(X1.shape),\n",
    "             alpha = 0.75, cmap = ListedColormap(('red', 'green')))\n",
    "plt.xlim(X1.min(), X1.max())\n",
    "plt.ylim(X2.min(), X2.max())\n",
    "for i, j in enumerate(np.unique(y_set)):\n",
    "    plt.scatter(X_set[y_set == j, 0], X_set[y_set == j, 1],\n",
    "                c = ListedColormap(('red', 'green'))(i), label = j)\n",
    "plt.title('Clasificador (Conjunto de Test)')\n",
    "plt.xlabel('Edad')\n",
    "plt.ylabel('Sueldo Estimado')\n",
    "plt.legend()\n",
    "plt.show()\n",
    "\n",
    "\n",
    "\n",
    "\n"
   ]
  },
  {
   "cell_type": "code",
   "execution_count": 100,
   "id": "d71befd4",
   "metadata": {},
   "outputs": [
    {
     "data": {
      "image/png": "[encoded data removed]",
      "text/plain": [
       "<Figure size 1080x576 with 1 Axes>"
      ]
     },
     "metadata": {},
     "output_type": "display_data"
    }
   ],
   "source": [
    "# Vamos a plotear puntos en función de sus varibles categóricas\n",
    "vpos = dfmod.iloc[:,2:18][dfmod['class']==1].values\n",
    "vneg = dfmod.iloc[:,2:18][dfmod['class']==0].values\n",
    "\n",
    "plt.rcParams[\"figure.figsize\"] = (15,8)\n",
    "plt.tick_params(\n",
    "    axis='both',          # changes apply to the x-axis\n",
    "    which='both',      # both major and minor ticks are affected\n",
    "    bottom=True,      # ticks along the bottom edge are off\n",
    "    top=False,         # ticks along the top edge are off\n",
    "    labelbottom=True,\n",
    "    labelleft=True) # labels along the bottom edge are off\n",
    "\n",
    "plt.scatter(x=vpos[:,0], y=vpos[:,14],zorder=2, color='r', alpha = 0.2)\n",
    "plt.scatter(x=vneg[:,0], y=vneg[:,14],zorder=2, color='g', alpha = 0.2)\n",
    "\n",
    "\n",
    "#plt.bar(dic.keys(), dic.values([0][0]))\n",
    "plt.show()"
   ]
  },
  {
   "cell_type": "markdown",
   "id": "1e6d6115",
   "metadata": {},
   "source": [
    "## Probanado K-NN para el elemento y saber si tiene más de un valor deseado"
   ]
  },
  {
   "cell_type": "code",
   "execution_count": 25,
   "id": "7d537138",
   "metadata": {},
   "outputs": [
    {
     "data": {
      "text/html": [
       "<div>\n",
       "<style scoped>\n",
       "    .dataframe tbody tr th:only-of-type {\n",
       "        vertical-align: middle;\n",
       "    }\n",
       "\n",
       "    .dataframe tbody tr th {\n",
       "        vertical-align: top;\n",
       "    }\n",
       "\n",
       "    .dataframe thead th {\n",
       "        text-align: right;\n",
       "    }\n",
       "</style>\n",
       "<table border=\"1\" class=\"dataframe\">\n",
       "  <thead>\n",
       "    <tr style=\"text-align: right;\">\n",
       "      <th></th>\n",
       "      <th>ROCK NAME</th>\n",
       "      <th>MINERAL</th>\n",
       "      <th>SIO2</th>\n",
       "      <th>TIO2</th>\n",
       "      <th>AL2O3</th>\n",
       "      <th>FE2O3</th>\n",
       "      <th>FEO</th>\n",
       "      <th>NIO</th>\n",
       "      <th>MNO</th>\n",
       "      <th>MGO</th>\n",
       "      <th>CAO</th>\n",
       "      <th>SRO</th>\n",
       "      <th>NA2O</th>\n",
       "      <th>K2O</th>\n",
       "      <th>P2O5</th>\n",
       "      <th>MN</th>\n",
       "      <th>NI</th>\n",
       "      <th>CO</th>\n",
       "      <th>CU</th>\n",
       "      <th>class</th>\n",
       "    </tr>\n",
       "  </thead>\n",
       "  <tbody>\n",
       "    <tr>\n",
       "      <th>0</th>\n",
       "      <td>GABBRONORITE</td>\n",
       "      <td>NaN</td>\n",
       "      <td>49.80</td>\n",
       "      <td>1.15</td>\n",
       "      <td>10.85</td>\n",
       "      <td>2.20</td>\n",
       "      <td>7.40</td>\n",
       "      <td>NaN</td>\n",
       "      <td>0.21</td>\n",
       "      <td>12.72</td>\n",
       "      <td>12.65</td>\n",
       "      <td>NaN</td>\n",
       "      <td>1.40</td>\n",
       "      <td>0.31</td>\n",
       "      <td>0.18</td>\n",
       "      <td>NaN</td>\n",
       "      <td>250.0</td>\n",
       "      <td>NaN</td>\n",
       "      <td>0.0</td>\n",
       "      <td>0</td>\n",
       "    </tr>\n",
       "    <tr>\n",
       "      <th>1</th>\n",
       "      <td>NORITE</td>\n",
       "      <td>NaN</td>\n",
       "      <td>49.25</td>\n",
       "      <td>1.38</td>\n",
       "      <td>18.75</td>\n",
       "      <td>2.10</td>\n",
       "      <td>7.78</td>\n",
       "      <td>NaN</td>\n",
       "      <td>0.16</td>\n",
       "      <td>6.60</td>\n",
       "      <td>10.75</td>\n",
       "      <td>NaN</td>\n",
       "      <td>1.94</td>\n",
       "      <td>0.40</td>\n",
       "      <td>0.22</td>\n",
       "      <td>NaN</td>\n",
       "      <td>121.0</td>\n",
       "      <td>NaN</td>\n",
       "      <td>0.0</td>\n",
       "      <td>0</td>\n",
       "    </tr>\n",
       "    <tr>\n",
       "      <th>2</th>\n",
       "      <td>GABBRONORITE</td>\n",
       "      <td>NaN</td>\n",
       "      <td>49.30</td>\n",
       "      <td>0.97</td>\n",
       "      <td>11.35</td>\n",
       "      <td>2.55</td>\n",
       "      <td>7.82</td>\n",
       "      <td>NaN</td>\n",
       "      <td>0.21</td>\n",
       "      <td>12.72</td>\n",
       "      <td>12.60</td>\n",
       "      <td>NaN</td>\n",
       "      <td>1.35</td>\n",
       "      <td>0.29</td>\n",
       "      <td>0.17</td>\n",
       "      <td>NaN</td>\n",
       "      <td>176.0</td>\n",
       "      <td>NaN</td>\n",
       "      <td>0.0</td>\n",
       "      <td>0</td>\n",
       "    </tr>\n",
       "    <tr>\n",
       "      <th>3</th>\n",
       "      <td>GABBRONORITE</td>\n",
       "      <td>NaN</td>\n",
       "      <td>49.60</td>\n",
       "      <td>0.75</td>\n",
       "      <td>13.50</td>\n",
       "      <td>3.30</td>\n",
       "      <td>6.95</td>\n",
       "      <td>NaN</td>\n",
       "      <td>0.10</td>\n",
       "      <td>11.62</td>\n",
       "      <td>11.75</td>\n",
       "      <td>NaN</td>\n",
       "      <td>1.10</td>\n",
       "      <td>0.25</td>\n",
       "      <td>0.27</td>\n",
       "      <td>NaN</td>\n",
       "      <td>126.0</td>\n",
       "      <td>NaN</td>\n",
       "      <td>0.0</td>\n",
       "      <td>0</td>\n",
       "    </tr>\n",
       "    <tr>\n",
       "      <th>4</th>\n",
       "      <td>GABBRONORITE</td>\n",
       "      <td>NaN</td>\n",
       "      <td>50.10</td>\n",
       "      <td>0.78</td>\n",
       "      <td>12.45</td>\n",
       "      <td>2.15</td>\n",
       "      <td>6.45</td>\n",
       "      <td>NaN</td>\n",
       "      <td>0.20</td>\n",
       "      <td>11.98</td>\n",
       "      <td>12.10</td>\n",
       "      <td>NaN</td>\n",
       "      <td>1.35</td>\n",
       "      <td>0.12</td>\n",
       "      <td>0.35</td>\n",
       "      <td>NaN</td>\n",
       "      <td>235.0</td>\n",
       "      <td>NaN</td>\n",
       "      <td>0.0</td>\n",
       "      <td>0</td>\n",
       "    </tr>\n",
       "  </tbody>\n",
       "</table>\n",
       "</div>"
      ],
      "text/plain": [
       "      ROCK NAME  MINERAL   SIO2  TIO2  AL2O3  FE2O3   FEO  NIO   MNO    MGO  \\\n",
       "0  GABBRONORITE      NaN  49.80  1.15  10.85   2.20  7.40  NaN  0.21  12.72   \n",
       "1        NORITE      NaN  49.25  1.38  18.75   2.10  7.78  NaN  0.16   6.60   \n",
       "2  GABBRONORITE      NaN  49.30  0.97  11.35   2.55  7.82  NaN  0.21  12.72   \n",
       "3  GABBRONORITE      NaN  49.60  0.75  13.50   3.30  6.95  NaN  0.10  11.62   \n",
       "4  GABBRONORITE      NaN  50.10  0.78  12.45   2.15  6.45  NaN  0.20  11.98   \n",
       "\n",
       "     CAO  SRO  NA2O   K2O  P2O5  MN     NI  CO   CU  class  \n",
       "0  12.65  NaN  1.40  0.31  0.18 NaN  250.0 NaN  0.0      0  \n",
       "1  10.75  NaN  1.94  0.40  0.22 NaN  121.0 NaN  0.0      0  \n",
       "2  12.60  NaN  1.35  0.29  0.17 NaN  176.0 NaN  0.0      0  \n",
       "3  11.75  NaN  1.10  0.25  0.27 NaN  126.0 NaN  0.0      0  \n",
       "4  12.10  NaN  1.35  0.12  0.35 NaN  235.0 NaN  0.0      0  "
      ]
     },
     "execution_count": 25,
     "metadata": {},
     "output_type": "execute_result"
    }
   ],
   "source": [
    "#dfmod[elemento].apply(1 if dfmod[elemento]>0 else 0)\n",
    "valorClase = 3\n",
    "\n",
    "dfmod.loc[dfmod[elemento]>valorClase,'class']=1\n",
    "dfmod.loc[dfmod[elemento]<=valorClase,'class']=0\n",
    "dfmod['class']=pd.to_numeric(dfmod['class'], downcast='integer')\n",
    "\n",
    "dfmod.head()"
   ]
  },
  {
   "cell_type": "code",
   "execution_count": 53,
   "id": "c1569a28",
   "metadata": {},
   "outputs": [
    {
     "data": {
      "text/plain": [
       "KNeighborsClassifier()"
      ]
     },
     "execution_count": 53,
     "metadata": {},
     "output_type": "execute_result"
    }
   ],
   "source": [
    "# determino matriz de características (X) y valor a predecir (y)\n",
    "X = dfmod.iloc[:, 2:18].values\n",
    "y = dfmod.iloc[:, 19].values\n",
    "\n",
    "np.nan_to_num(X, copy=False)\n",
    "np.nan_to_num(y, copy=False)\n",
    "\n",
    "# Dividir el data set en conjunto de entrenamiento y conjunto de testing\n",
    "from sklearn.model_selection import train_test_split\n",
    "X_train, X_test, y_train, y_test = train_test_split(X, y, test_size = 0.2)\n",
    "\n",
    "\n",
    "# Ajustar el modelo de Regresión Logística en el Conjunto de Entrenamiento\n",
    "from sklearn.neighbors import KNeighborsClassifier\n",
    "classifier = KNeighborsClassifier(n_neighbors = 5, metric = \"minkowski\", p = 2)\n",
    "classifier.fit(X_train, y_train)"
   ]
  },
  {
   "cell_type": "code",
   "execution_count": 54,
   "id": "fe7187ea",
   "metadata": {},
   "outputs": [
    {
     "data": {
      "text/plain": [
       "array([[377,  44],\n",
       "       [ 26, 253]], dtype=int64)"
      ]
     },
     "execution_count": 54,
     "metadata": {},
     "output_type": "execute_result"
    }
   ],
   "source": [
    "# Predicción de los resultados con el Conjunto de Testing\n",
    "y_pred  = classifier.predict(X_test)\n",
    "\n",
    "# Elaborar una matriz de confusión\n",
    "from sklearn.metrics import confusion_matrix\n",
    "cm = confusion_matrix(y_test, y_pred)\n",
    "cm"
   ]
  },
  {
   "cell_type": "code",
   "execution_count": 55,
   "id": "2dcc6f18",
   "metadata": {},
   "outputs": [
    {
     "name": "stdout",
     "output_type": "stream",
     "text": [
      "0.9\n"
     ]
    }
   ],
   "source": [
    "scoreKNN = round(classifier.score(X_test, y_test),4)\n",
    "print(scoreKNN)"
   ]
  },
  {
   "cell_type": "code",
   "execution_count": 56,
   "id": "885eba51",
   "metadata": {},
   "outputs": [
    {
     "data": {
      "image/png": "[encoded data removed]",
      "text/plain": [
       "<Figure size 360x360 with 2 Axes>"
      ]
     },
     "metadata": {},
     "output_type": "display_data"
    }
   ],
   "source": [
    "# MATRIZ DE CONFUSION \n",
    "\n",
    "plt.figure(figsize=(5,5))\n",
    "sns.set(font_scale=1.5)\n",
    "sns.heatmap(cm, annot=True, fmt=\".0f\", linewidths=.5, square = True, cmap = 'Blues_r')\n",
    "plt.ylabel('Valor Real')\n",
    "plt.xlabel('Valor Predicho')\n",
    "plt.tick_params(labelbottom=False,labeltop=True)\n",
    "#plt.xaxis.tick_top()\n",
    "all_sample_title = 'Accuracy Score: {}%'.format(round(scoreKNN*100,4))\n",
    "plt.title(all_sample_title, size = 20)\n",
    "plt.show()"
   ]
  },
  {
   "cell_type": "code",
   "execution_count": 57,
   "id": "090dec44",
   "metadata": {},
   "outputs": [
    {
     "data": {
      "image/png": "[encoded data removed]",
      "text/plain": [
       "<Figure size 288x288 with 2 Axes>"
      ]
     },
     "metadata": {},
     "output_type": "display_data"
    }
   ],
   "source": [
    "plt.figure(figsize=(4,4))\n",
    "plt.imshow(cm, interpolation='nearest', cmap='Pastel1')\n",
    "plt.title('Confusion matrix', size = 20)\n",
    "plt.colorbar()\n",
    "tick_marks = np.arange(2)\n",
    "plt.xticks(tick_marks, [\"0\", \"1\"], size = 20)\n",
    "plt.yticks(tick_marks, [\"0\", \"1\"], size = 20)\n",
    "plt.tick_params(labelbottom=False,labeltop=True)\n",
    "plt.tight_layout()\n",
    "plt.ylabel('Actual label', size = 15)\n",
    "plt.xlabel('Predicted label', size = 15)\n",
    "width, height = cm.shape\n",
    "\n",
    "for x in range(width):\n",
    "    for y in range(height):\n",
    "        plt.annotate(str(cm[x][y]), xy=(y, x), \n",
    "        horizontalalignment='center',\n",
    "        verticalalignment='center',\n",
    "        size=20)"
   ]
  },
  {
   "cell_type": "markdown",
   "id": "2b1e990e",
   "metadata": {},
   "source": [
    "## SVM para clasificación\n",
    "\n"
   ]
  },
  {
   "cell_type": "code",
   "execution_count": 40,
   "id": "78f7d5eb",
   "metadata": {},
   "outputs": [
    {
     "data": {
      "text/html": [
       "<div>\n",
       "<style scoped>\n",
       "    .dataframe tbody tr th:only-of-type {\n",
       "        vertical-align: middle;\n",
       "    }\n",
       "\n",
       "    .dataframe tbody tr th {\n",
       "        vertical-align: top;\n",
       "    }\n",
       "\n",
       "    .dataframe thead th {\n",
       "        text-align: right;\n",
       "    }\n",
       "</style>\n",
       "<table border=\"1\" class=\"dataframe\">\n",
       "  <thead>\n",
       "    <tr style=\"text-align: right;\">\n",
       "      <th></th>\n",
       "      <th>ROCK NAME</th>\n",
       "      <th>MINERAL</th>\n",
       "      <th>SIO2</th>\n",
       "      <th>TIO2</th>\n",
       "      <th>AL2O3</th>\n",
       "      <th>FE2O3</th>\n",
       "      <th>FEO</th>\n",
       "      <th>NIO</th>\n",
       "      <th>MNO</th>\n",
       "      <th>MGO</th>\n",
       "      <th>CAO</th>\n",
       "      <th>SRO</th>\n",
       "      <th>NA2O</th>\n",
       "      <th>K2O</th>\n",
       "      <th>P2O5</th>\n",
       "      <th>MN</th>\n",
       "      <th>NI</th>\n",
       "      <th>CO</th>\n",
       "      <th>CU</th>\n",
       "      <th>class</th>\n",
       "    </tr>\n",
       "  </thead>\n",
       "  <tbody>\n",
       "    <tr>\n",
       "      <th>0</th>\n",
       "      <td>GABBRONORITE</td>\n",
       "      <td>NaN</td>\n",
       "      <td>49.80</td>\n",
       "      <td>1.15</td>\n",
       "      <td>10.85</td>\n",
       "      <td>2.20</td>\n",
       "      <td>7.40</td>\n",
       "      <td>NaN</td>\n",
       "      <td>0.21</td>\n",
       "      <td>12.72</td>\n",
       "      <td>12.65</td>\n",
       "      <td>NaN</td>\n",
       "      <td>1.40</td>\n",
       "      <td>0.31</td>\n",
       "      <td>0.18</td>\n",
       "      <td>NaN</td>\n",
       "      <td>250.0</td>\n",
       "      <td>NaN</td>\n",
       "      <td>0.0</td>\n",
       "      <td>0</td>\n",
       "    </tr>\n",
       "    <tr>\n",
       "      <th>1</th>\n",
       "      <td>NORITE</td>\n",
       "      <td>NaN</td>\n",
       "      <td>49.25</td>\n",
       "      <td>1.38</td>\n",
       "      <td>18.75</td>\n",
       "      <td>2.10</td>\n",
       "      <td>7.78</td>\n",
       "      <td>NaN</td>\n",
       "      <td>0.16</td>\n",
       "      <td>6.60</td>\n",
       "      <td>10.75</td>\n",
       "      <td>NaN</td>\n",
       "      <td>1.94</td>\n",
       "      <td>0.40</td>\n",
       "      <td>0.22</td>\n",
       "      <td>NaN</td>\n",
       "      <td>121.0</td>\n",
       "      <td>NaN</td>\n",
       "      <td>0.0</td>\n",
       "      <td>0</td>\n",
       "    </tr>\n",
       "    <tr>\n",
       "      <th>2</th>\n",
       "      <td>GABBRONORITE</td>\n",
       "      <td>NaN</td>\n",
       "      <td>49.30</td>\n",
       "      <td>0.97</td>\n",
       "      <td>11.35</td>\n",
       "      <td>2.55</td>\n",
       "      <td>7.82</td>\n",
       "      <td>NaN</td>\n",
       "      <td>0.21</td>\n",
       "      <td>12.72</td>\n",
       "      <td>12.60</td>\n",
       "      <td>NaN</td>\n",
       "      <td>1.35</td>\n",
       "      <td>0.29</td>\n",
       "      <td>0.17</td>\n",
       "      <td>NaN</td>\n",
       "      <td>176.0</td>\n",
       "      <td>NaN</td>\n",
       "      <td>0.0</td>\n",
       "      <td>0</td>\n",
       "    </tr>\n",
       "    <tr>\n",
       "      <th>3</th>\n",
       "      <td>GABBRONORITE</td>\n",
       "      <td>NaN</td>\n",
       "      <td>49.60</td>\n",
       "      <td>0.75</td>\n",
       "      <td>13.50</td>\n",
       "      <td>3.30</td>\n",
       "      <td>6.95</td>\n",
       "      <td>NaN</td>\n",
       "      <td>0.10</td>\n",
       "      <td>11.62</td>\n",
       "      <td>11.75</td>\n",
       "      <td>NaN</td>\n",
       "      <td>1.10</td>\n",
       "      <td>0.25</td>\n",
       "      <td>0.27</td>\n",
       "      <td>NaN</td>\n",
       "      <td>126.0</td>\n",
       "      <td>NaN</td>\n",
       "      <td>0.0</td>\n",
       "      <td>0</td>\n",
       "    </tr>\n",
       "    <tr>\n",
       "      <th>4</th>\n",
       "      <td>GABBRONORITE</td>\n",
       "      <td>NaN</td>\n",
       "      <td>50.10</td>\n",
       "      <td>0.78</td>\n",
       "      <td>12.45</td>\n",
       "      <td>2.15</td>\n",
       "      <td>6.45</td>\n",
       "      <td>NaN</td>\n",
       "      <td>0.20</td>\n",
       "      <td>11.98</td>\n",
       "      <td>12.10</td>\n",
       "      <td>NaN</td>\n",
       "      <td>1.35</td>\n",
       "      <td>0.12</td>\n",
       "      <td>0.35</td>\n",
       "      <td>NaN</td>\n",
       "      <td>235.0</td>\n",
       "      <td>NaN</td>\n",
       "      <td>0.0</td>\n",
       "      <td>0</td>\n",
       "    </tr>\n",
       "  </tbody>\n",
       "</table>\n",
       "</div>"
      ],
      "text/plain": [
       "      ROCK NAME  MINERAL   SIO2  TIO2  AL2O3  FE2O3   FEO  NIO   MNO    MGO  \\\n",
       "0  GABBRONORITE      NaN  49.80  1.15  10.85   2.20  7.40  NaN  0.21  12.72   \n",
       "1        NORITE      NaN  49.25  1.38  18.75   2.10  7.78  NaN  0.16   6.60   \n",
       "2  GABBRONORITE      NaN  49.30  0.97  11.35   2.55  7.82  NaN  0.21  12.72   \n",
       "3  GABBRONORITE      NaN  49.60  0.75  13.50   3.30  6.95  NaN  0.10  11.62   \n",
       "4  GABBRONORITE      NaN  50.10  0.78  12.45   2.15  6.45  NaN  0.20  11.98   \n",
       "\n",
       "     CAO  SRO  NA2O   K2O  P2O5  MN     NI  CO   CU  class  \n",
       "0  12.65  NaN  1.40  0.31  0.18 NaN  250.0 NaN  0.0      0  \n",
       "1  10.75  NaN  1.94  0.40  0.22 NaN  121.0 NaN  0.0      0  \n",
       "2  12.60  NaN  1.35  0.29  0.17 NaN  176.0 NaN  0.0      0  \n",
       "3  11.75  NaN  1.10  0.25  0.27 NaN  126.0 NaN  0.0      0  \n",
       "4  12.10  NaN  1.35  0.12  0.35 NaN  235.0 NaN  0.0      0  "
      ]
     },
     "execution_count": 40,
     "metadata": {},
     "output_type": "execute_result"
    }
   ],
   "source": [
    "#dfmod[elemento].apply(1 if dfmod[elemento]>0 else 0)\n",
    "valorClase = 3\n",
    "\n",
    "dfmod.loc[dfmod[elemento]>valorClase,'class']=1\n",
    "dfmod.loc[dfmod[elemento]<=valorClase,'class']=0\n",
    "dfmod['class']=pd.to_numeric(dfmod['class'], downcast='integer')\n",
    "\n",
    "dfmod.head()"
   ]
  },
  {
   "cell_type": "code",
   "execution_count": null,
   "id": "abf8816e",
   "metadata": {},
   "outputs": [],
   "source": [
    "# determino matriz de características (X) y valor a predecir (y)\n",
    "X = dfmod.iloc[:, 2:18].values\n",
    "y = dfmod.iloc[:, 19].values\n",
    "\n",
    "np.nan_to_num(X, copy=False)\n",
    "np.nan_to_num(y, copy=False)\n",
    "\n",
    "# Dividir el data set en conjunto de entrenamiento y conjunto de testing\n",
    "from sklearn.model_selection import train_test_split\n",
    "X_train, X_test, y_train, y_test = train_test_split(X, y, test_size = 0.2)\n",
    "\n",
    "\n",
    "# Ajustar el modelo de SVM en el Conjunto de Entrenamiento\n",
    "from sklearn.svm import SVC\n",
    "classifier = SVC(kernel = \"poly\", degree=12, random_state = 0)\n",
    "classifier.fit(X_train, y_train)"
   ]
  },
  {
   "cell_type": "code",
   "execution_count": null,
   "id": "2ca78d0d",
   "metadata": {},
   "outputs": [],
   "source": [
    "# Predicción de los resultados con el Conjunto de Testing\n",
    "y_pred  = classifier.predict(X_test)\n",
    "\n",
    "# Elaborar una matriz de confusión\n",
    "from sklearn.metrics import confusion_matrix\n",
    "cm = confusion_matrix(y_test, y_pred)\n",
    "cm"
   ]
  },
  {
   "cell_type": "code",
   "execution_count": null,
   "id": "1c6b7bba",
   "metadata": {},
   "outputs": [],
   "source": [
    "scoreSVC = round(classifier.score(X_test, y_test),4)\n",
    "print(scoreSVC)"
   ]
  },
  {
   "cell_type": "code",
   "execution_count": 139,
   "id": "014a3646",
   "metadata": {},
   "outputs": [
    {
     "data": {
      "image/png": "[encoded data removed]",
      "text/plain": [
       "<Figure size 360x360 with 2 Axes>"
      ]
     },
     "metadata": {},
     "output_type": "display_data"
    }
   ],
   "source": [
    "# MATRIZ DE CONFUSION \n",
    "\n",
    "plt.figure(figsize=(5,5))\n",
    "sns.set(font_scale=1.5)\n",
    "sns.heatmap(cm, annot=True, fmt=\".0f\", linewidths=.5, square = True, cmap = 'Blues_r')\n",
    "plt.ylabel('Valor Real')\n",
    "plt.xlabel('Valor Predicho')\n",
    "plt.tick_params(labelbottom=False,labeltop=True)\n",
    "#plt.xaxis.tick_top()\n",
    "all_sample_title = 'Accuracy Score: {}%'.format(round(scoreSVC*100,4))\n",
    "plt.title(all_sample_title, size = 20)\n",
    "plt.show()"
   ]
  },
  {
   "cell_type": "code",
   "execution_count": null,
   "id": "22789f40",
   "metadata": {},
   "outputs": [],
   "source": []
  }
 ],
 "metadata": {
  "kernelspec": {
   "display_name": "Python 3",
   "language": "python",
   "name": "python3"
  },
  "language_info": {
   "codemirror_mode": {
    "name": "ipython",
    "version": 3
   },
   "file_extension": ".py",
   "mimetype": "text/x-python",
   "name": "python",
   "nbconvert_exporter": "python",
   "pygments_lexer": "ipython3",
   "version": "3.8.8"
  }
 },
 "nbformat": 4,
 "nbformat_minor": 5
}
