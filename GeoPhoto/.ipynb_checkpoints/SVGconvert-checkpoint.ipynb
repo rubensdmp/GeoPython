{
 "cells": [
  {
   "cell_type": "code",
   "execution_count": 3,
   "id": "3879186b",
   "metadata": {},
   "outputs": [],
   "source": [
    "### para modificar los archivos del INKSCAPE para que los modifique QGIS\n",
    "\n",
    "import os\n",
    "import glob\n"
   ]
  },
  {
   "cell_type": "code",
   "execution_count": 4,
   "id": "c96b2633",
   "metadata": {},
   "outputs": [
    {
     "name": "stdout",
     "output_type": "stream",
     "text": [
      "Bienvenido a GeoPhoto 1.0\n"
     ]
    }
   ],
   "source": [
    "#Bienvenida\n",
    "print(\"Bienvenido a GeoPhoto 1.0\")"
   ]
  },
  {
   "cell_type": "code",
   "execution_count": 19,
   "id": "43390aac",
   "metadata": {},
   "outputs": [
    {
     "name": "stdout",
     "output_type": "stream",
     "text": [
      "b'<?xml ver'\n",
      "b'<!-- Crea'\n",
      "b'\\n'\n",
      "b'<svg\\n'\n",
      "b'   width='\n",
      "b'   height'\n",
      "b'   viewBo'\n",
      "b'   versio'\n",
      "b'   id=\"sv'\n",
      "b'   xmlns='\n",
      "b'   xmlns:'\n",
      "b'  <defs\\n'\n",
      "b'     id=\"'\n",
      "b'  <g\\n'\n",
      "b'     id=\"'\n",
      "b'    <path'\n",
      "b'       st'\n",
      "b'       d='\n",
      "b'       id'\n",
      "b'  </g>\\n'\n",
      "b'</svg>\\n'\n"
     ]
    }
   ],
   "source": [
    "cwd = os.getcwd()\n",
    "fms=[]\n",
    "lats=[]\n",
    "lons=[]\n",
    "caps=[]\n",
    "rutas=[]\n",
    "\n",
    "for file in glob.glob(cwd + \"\\\\*.svg\"):\n",
    "    with open(file, 'rb') as f:        \n",
    "        for line in f:\n",
    "            if line[:9] == '    <path':\n",
    "                print(\"dale puto\")\n",
    "            print(line[:9])                 "
   ]
  },
  {
   "cell_type": "code",
   "execution_count": null,
   "id": "b39db410",
   "metadata": {},
   "outputs": [],
   "source": []
  }
 ],
 "metadata": {
  "kernelspec": {
   "display_name": "Python 3",
   "language": "python",
   "name": "python3"
  },
  "language_info": {
   "codemirror_mode": {
    "name": "ipython",
    "version": 3
   },
   "file_extension": ".py",
   "mimetype": "text/x-python",
   "name": "python",
   "nbconvert_exporter": "python",
   "pygments_lexer": "ipython3",
   "version": "3.8.8"
  }
 },
 "nbformat": 4,
 "nbformat_minor": 5
}
