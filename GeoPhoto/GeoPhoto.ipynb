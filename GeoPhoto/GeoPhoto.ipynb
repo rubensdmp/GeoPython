{
 "cells": [
  {
   "cell_type": "code",
   "execution_count": 1,
   "id": "c106a359",
   "metadata": {},
   "outputs": [],
   "source": [
    "# Importamos las librerias\n",
    "import os\n",
    "import glob\n",
    "import pandas as pd\n",
    "import requests\n",
    "import exifread\n",
    "\n",
    "from PIL import Image\n",
    "from PIL.ExifTags import TAGS, GPSTAGS"
   ]
  },
  {
   "cell_type": "code",
   "execution_count": 2,
   "id": "5e17b26b",
   "metadata": {},
   "outputs": [
    {
     "name": "stdout",
     "output_type": "stream",
     "text": [
      "Bienvenido a GeoPhoto 1.0\n"
     ]
    }
   ],
   "source": [
    "#Bienvenida\n",
    "print(\"Bienvenido a GeoPhoto 1.0\")"
   ]
  },
  {
   "cell_type": "code",
   "execution_count": 26,
   "id": "eced3e96",
   "metadata": {},
   "outputs": [
    {
     "name": "stdout",
     "output_type": "stream",
     "text": [
      "2020:01:02 13:52:28\n",
      "2020:01:02 18:17:09\n",
      "2020:01:02 19:26:44\n",
      "2020:01:03 10:30:58\n",
      "2020:01:03 10:40:35\n",
      "2020:01:03 10:40:38\n",
      "2020:01:03 10:42:32\n",
      "2020:01:03 11:04:37\n",
      "2020:01:03 11:04:39\n",
      "2020:01:03 11:09:42\n",
      "2020:01:03 15:33:33\n",
      "2020:01:03 22:24:53\n",
      "2020:01:04 14:16:21\n",
      "2020:01:05 14:50:34\n",
      "2020:01:05 14:50:38\n"
     ]
    }
   ],
   "source": [
    "cwd = os.getcwd()\n",
    "fms=[]\n",
    "lats=[]\n",
    "lons=[]\n",
    "caps=[]\n",
    "rutas=[]\n",
    "\n",
    "for file in glob.glob(cwd + \"\\\\Campismo\\\\*.jpg\"):\n",
    "    with open(file, 'rb') as f:\n",
    "        tags = exifread.process_file(f)\n",
    "        print(tags['Image DateTime'])\n",
    "        lat_ref = tags[\"GPS GPSLatitudeRef\"].printable\n",
    "        lat = tags[\"GPS GPSLatitude\"].printable[1:-1].replace(\" \", \"\").replace(\"/\", \",\").split(\",\")\n",
    "        lat = float(lat[0]) + float(lat[1]) / 60 + float(lat[2]) / float(lat[3]) / 3600\n",
    "        \n",
    "        if lat_ref != \"N\":\n",
    "            lat = lat * (-1)\n",
    "        lon_ref = tags[\"GPS GPSLongitudeRef\"].printable\n",
    "        lon = tags[\"GPS GPSLongitude\"].printable[1:-1].replace(\" \", \"\").replace(\"/\", \",\").split(\",\")\n",
    "        lon = float(lon[0]) + float(lon[1]) / 60 + float(lon[2]) / float(lon[3]) / 3600\n",
    "        \n",
    "        if lon_ref != \"E\":\n",
    "            lon = lon * (-1)\n",
    "        \n",
    "        fms.append(f.name.replace(cwd+\"\\\\Campismo\\\\\",\"\").replace(\".jpg\",\"\"))        \n",
    "        lats.append(lat)\n",
    "        lons.append(lon)\n",
    "        caps.append(tags[\"EXIF DateTimeOriginal\"])\n",
    "        rutas.append(\"/Campismo/\" + f.name[69:])"
   ]
  },
  {
   "cell_type": "code",
   "execution_count": 4,
   "id": "79ca5be8",
   "metadata": {},
   "outputs": [
    {
     "data": {
      "text/html": [
       "<div>\n",
       "<style scoped>\n",
       "    .dataframe tbody tr th:only-of-type {\n",
       "        vertical-align: middle;\n",
       "    }\n",
       "\n",
       "    .dataframe tbody tr th {\n",
       "        vertical-align: top;\n",
       "    }\n",
       "\n",
       "    .dataframe thead th {\n",
       "        text-align: right;\n",
       "    }\n",
       "</style>\n",
       "<table border=\"1\" class=\"dataframe\">\n",
       "  <thead>\n",
       "    <tr style=\"text-align: right;\">\n",
       "      <th></th>\n",
       "      <th>formacion</th>\n",
       "      <th>lat</th>\n",
       "      <th>lon</th>\n",
       "      <th>captura</th>\n",
       "      <th>ruta</th>\n",
       "    </tr>\n",
       "  </thead>\n",
       "  <tbody>\n",
       "  </tbody>\n",
       "</table>\n",
       "</div>"
      ],
      "text/plain": [
       "Empty DataFrame\n",
       "Columns: [formacion, lat, lon, captura, ruta]\n",
       "Index: []"
      ]
     },
     "execution_count": 4,
     "metadata": {},
     "output_type": "execute_result"
    }
   ],
   "source": [
    "#defino cabezales del CSV creado como un dataframe\n",
    "#nombre foto / Ubicación\n",
    "filepath= cwd + \"\\\\Campismo\\\\01.jpg\"\n",
    "\n",
    "df = pd.DataFrame()\n",
    "df['formacion'] = fms\n",
    "df['lat'] = lats\n",
    "df['lon'] = lons\n",
    "df['captura'] = caps\n",
    "df['ruta'] = rutas\n",
    "\n",
    "#df = df.assign(Edad=None)\n",
    "\n",
    "df.to_csv(\"estructural.csv\")\n",
    "\n",
    "df.head()"
   ]
  },
  {
   "cell_type": "code",
   "execution_count": null,
   "id": "0becd70b",
   "metadata": {},
   "outputs": [],
   "source": []
  }
 ],
 "metadata": {
  "kernelspec": {
   "display_name": "Python 3",
   "language": "python",
   "name": "python3"
  },
  "language_info": {
   "codemirror_mode": {
    "name": "ipython",
    "version": 3
   },
   "file_extension": ".py",
   "mimetype": "text/x-python",
   "name": "python",
   "nbconvert_exporter": "python",
   "pygments_lexer": "ipython3",
   "version": "3.8.8"
  }
 },
 "nbformat": 4,
 "nbformat_minor": 5
}
