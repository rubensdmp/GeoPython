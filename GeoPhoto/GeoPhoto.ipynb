{
 "cells": [
  {
   "cell_type": "code",
   "execution_count": 2,
   "id": "c106a359",
   "metadata": {},
   "outputs": [],
   "source": [
    "# Importamos las librerias\n",
    "import os\n",
    "import glob\n",
    "import pandas as pd\n",
    "import requests\n",
    "import exifread\n",
    "\n",
    "from PIL import Image\n",
    "from PIL.ExifTags import TAGS, GPSTAGS"
   ]
  },
  {
   "cell_type": "code",
   "execution_count": 3,
   "id": "5e17b26b",
   "metadata": {},
   "outputs": [
    {
     "name": "stdout",
     "output_type": "stream",
     "text": [
      "Bienvenido a GeoPhoto 1.0\n"
     ]
    }
   ],
   "source": [
    "#Bienvenida\n",
    "print(\"Bienvenido a GeoPhoto 1.0\")"
   ]
  },
  {
   "cell_type": "code",
   "execution_count": 11,
   "id": "d921bf5e",
   "metadata": {},
   "outputs": [],
   "source": [
    "cwd = os.getcwd()\n",
    "fms=[]\n",
    "lats=[]\n",
    "lons=[]\n",
    "caps=[]\n",
    "rutas=[]\n",
    "\n",
    "for file in glob.glob(cwd + \"\\\\Fotos\\\\*.jpg\"):\n",
    "    with open(file, 'rb') as f:\n",
    "        tags = exifread.process_file(f)\n",
    "        lat_ref = tags[\"GPS GPSLatitudeRef\"].printable\n",
    "        lat = tags[\"GPS GPSLatitude\"].printable[1:-1].replace(\" \", \"\").replace(\"/\", \",\").split(\",\")\n",
    "        lat = float(lat[0]) + float(lat[1]) / 60 + float(lat[2]) / float(lat[3]) / 3600\n",
    "        \n",
    "        if lat_ref != \"N\":\n",
    "            lat = lat * (-1)\n",
    "        lon_ref = tags[\"GPS GPSLongitudeRef\"].printable\n",
    "        lon = tags[\"GPS GPSLongitude\"].printable[1:-1].replace(\" \", \"\").replace(\"/\", \",\").split(\",\")\n",
    "        lon = float(lon[0]) + float(lon[1]) / 60 + float(lon[2]) / float(lon[3]) / 3600\n",
    "        \n",
    "        if lon_ref != \"E\":\n",
    "            lon = lon * (-1)\n",
    "        \n",
    "        fms.append(f.name.replace(cwd+\"\\\\Fotos\\\\\",\"\").replace(\".jpg\",\"\"))        \n",
    "        lats.append(lat)\n",
    "        lons.append(lon)\n",
    "        caps.append(tags[\"EXIF DateTimeOriginal\"])\n",
    "        rutas.append(\"/Fotos/\" + f.name[69:])"
   ]
  },
  {
   "cell_type": "code",
   "execution_count": 12,
   "id": "79ca5be8",
   "metadata": {},
   "outputs": [
    {
     "data": {
      "text/html": [
       "<div>\n",
       "<style scoped>\n",
       "    .dataframe tbody tr th:only-of-type {\n",
       "        vertical-align: middle;\n",
       "    }\n",
       "\n",
       "    .dataframe tbody tr th {\n",
       "        vertical-align: top;\n",
       "    }\n",
       "\n",
       "    .dataframe thead th {\n",
       "        text-align: right;\n",
       "    }\n",
       "</style>\n",
       "<table border=\"1\" class=\"dataframe\">\n",
       "  <thead>\n",
       "    <tr style=\"text-align: right;\">\n",
       "      <th></th>\n",
       "      <th>formacion</th>\n",
       "      <th>lat</th>\n",
       "      <th>lon</th>\n",
       "      <th>captura</th>\n",
       "      <th>ruta</th>\n",
       "    </tr>\n",
       "  </thead>\n",
       "  <tbody>\n",
       "    <tr>\n",
       "      <th>0</th>\n",
       "      <td>2022-05-05 10.29.15</td>\n",
       "      <td>-34.702648</td>\n",
       "      <td>-55.254925</td>\n",
       "      <td>2022:05:05 10:29:17</td>\n",
       "      <td>/Fotos/2022-05-05 10.29.15.jpg</td>\n",
       "    </tr>\n",
       "    <tr>\n",
       "      <th>1</th>\n",
       "      <td>2022-05-05 10.56.46</td>\n",
       "      <td>-34.702354</td>\n",
       "      <td>-55.254833</td>\n",
       "      <td>2022:05:05 10:56:47</td>\n",
       "      <td>/Fotos/2022-05-05 10.56.46.jpg</td>\n",
       "    </tr>\n",
       "    <tr>\n",
       "      <th>2</th>\n",
       "      <td>2022-05-05 16.24.24</td>\n",
       "      <td>-34.372337</td>\n",
       "      <td>-55.052769</td>\n",
       "      <td>2022:05:05 16:24:25</td>\n",
       "      <td>/Fotos/2022-05-05 16.24.24.jpg</td>\n",
       "    </tr>\n",
       "    <tr>\n",
       "      <th>3</th>\n",
       "      <td>2022-05-05 16.26.26</td>\n",
       "      <td>-34.372299</td>\n",
       "      <td>-55.052711</td>\n",
       "      <td>2022:05:05 16:26:27</td>\n",
       "      <td>/Fotos/2022-05-05 16.26.26.jpg</td>\n",
       "    </tr>\n",
       "    <tr>\n",
       "      <th>4</th>\n",
       "      <td>2022-05-05 17.44.27</td>\n",
       "      <td>-34.375519</td>\n",
       "      <td>-55.083450</td>\n",
       "      <td>2022:05:05 17:44:28</td>\n",
       "      <td>/Fotos/2022-05-05 17.44.27.jpg</td>\n",
       "    </tr>\n",
       "  </tbody>\n",
       "</table>\n",
       "</div>"
      ],
      "text/plain": [
       "             formacion        lat        lon              captura  \\\n",
       "0  2022-05-05 10.29.15 -34.702648 -55.254925  2022:05:05 10:29:17   \n",
       "1  2022-05-05 10.56.46 -34.702354 -55.254833  2022:05:05 10:56:47   \n",
       "2  2022-05-05 16.24.24 -34.372337 -55.052769  2022:05:05 16:24:25   \n",
       "3  2022-05-05 16.26.26 -34.372299 -55.052711  2022:05:05 16:26:27   \n",
       "4  2022-05-05 17.44.27 -34.375519 -55.083450  2022:05:05 17:44:28   \n",
       "\n",
       "                             ruta  \n",
       "0  /Fotos/2022-05-05 10.29.15.jpg  \n",
       "1  /Fotos/2022-05-05 10.56.46.jpg  \n",
       "2  /Fotos/2022-05-05 16.24.24.jpg  \n",
       "3  /Fotos/2022-05-05 16.26.26.jpg  \n",
       "4  /Fotos/2022-05-05 17.44.27.jpg  "
      ]
     },
     "execution_count": 12,
     "metadata": {},
     "output_type": "execute_result"
    }
   ],
   "source": [
    "#defino cabezales del CSV creado como un dataframe\n",
    "#nombre foto / Ubicación\n",
    "filepath= cwd + \"\\\\Fotos\\\\01.jpg\"\n",
    "\n",
    "df = pd.DataFrame()\n",
    "df['formacion'] = fms\n",
    "df['lat'] = lats\n",
    "df['lon'] = lons\n",
    "df['captura'] = caps\n",
    "df['ruta'] = rutas\n",
    "\n",
    "#df = df.assign(Edad=None)\n",
    "\n",
    "df.to_csv(\"estructural.csv\")\n",
    "\n",
    "df.head()"
   ]
  },
  {
   "cell_type": "code",
   "execution_count": null,
   "id": "0becd70b",
   "metadata": {},
   "outputs": [],
   "source": []
  }
 ],
 "metadata": {
  "kernelspec": {
   "display_name": "Python 3",
   "language": "python",
   "name": "python3"
  },
  "language_info": {
   "codemirror_mode": {
    "name": "ipython",
    "version": 3
   },
   "file_extension": ".py",
   "mimetype": "text/x-python",
   "name": "python",
   "nbconvert_exporter": "python",
   "pygments_lexer": "ipython3",
   "version": "3.8.8"
  }
 },
 "nbformat": 4,
 "nbformat_minor": 5
}
