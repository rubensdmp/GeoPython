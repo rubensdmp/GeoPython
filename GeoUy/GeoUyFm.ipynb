{
 "cells": [
  {
   "cell_type": "markdown",
   "id": "58419243",
   "metadata": {},
   "source": [
    "# Formaciones geológicas del Uruguay\n",
    "## Información extraida de dinamige.gub.uy\n"
   ]
  },
  {
   "cell_type": "code",
   "execution_count": null,
   "id": "eba174bf",
   "metadata": {},
   "outputs": [],
   "source": [
    "# importing packages \n",
    "import seaborn as sns\n",
    "import pandas as pd \n",
    "import geopandas as gpd\n",
    "import numpy as np\n",
    "import matplotlib.pyplot as plt\n",
    "import os \n",
    "import folium\n",
    "import json\n",
    "\n",
    "#%matplotlib inline \n",
    "%matplotlib qt "
   ]
  },
  {
   "cell_type": "code",
   "execution_count": null,
   "id": "763d24f3",
   "metadata": {},
   "outputs": [],
   "source": [
    "cwd = os.getcwd()"
   ]
  },
  {
   "cell_type": "code",
   "execution_count": null,
   "id": "eafb89ed",
   "metadata": {},
   "outputs": [],
   "source": [
    "#Leemos archivo extraido de atributos\n",
    "ruta = cwd + '\\GeoUyFm.xlsx'\n",
    "\n",
    "dfFm = pd.read_excel(ruta)\n",
    "dfFm.shape\n"
   ]
  },
  {
   "cell_type": "code",
   "execution_count": null,
   "id": "0c2e1891",
   "metadata": {},
   "outputs": [],
   "source": [
    "dfFm.to_html"
   ]
  },
  {
   "cell_type": "code",
   "execution_count": null,
   "id": "bff0c12b",
   "metadata": {},
   "outputs": [],
   "source": [
    "dfvacios = dfFm.isnull().sum()\n",
    "dfvacios = dfvacios.to_frame().reset_index()\n",
    "\n",
    "dfvacios.columns = ['CAMPO', 'VACIOS']\n",
    "\n"
   ]
  },
  {
   "cell_type": "code",
   "execution_count": null,
   "id": "e735dd52",
   "metadata": {},
   "outputs": [],
   "source": [
    "print(gdf['Unidad'][1785])"
   ]
  },
  {
   "cell_type": "code",
   "execution_count": null,
   "id": "bba0267d",
   "metadata": {},
   "outputs": [],
   "source": [
    "#gdf = gdf.set_crs(\"EPSG:4326\")\n",
    "#gdf = gdf.set_crs(epsg=4326)"
   ]
  },
  {
   "cell_type": "code",
   "execution_count": null,
   "id": "f716ba4c",
   "metadata": {},
   "outputs": [],
   "source": [
    "gdf = gpd.read_file(cwd + \"\\\\Geologia_Uruguay_shp\\\\Unidades_Geologicas.shp\")\n",
    "estdf = gpd.read_file(cwd + \"\\\\Geologia_Uruguay_shp\\\\Estructuras.shp\")"
   ]
  },
  {
   "cell_type": "code",
   "execution_count": null,
   "id": "63a92e10",
   "metadata": {},
   "outputs": [],
   "source": [
    "estdf = estdf.to_crs(epsg=4326)\n",
    "estdf.head()"
   ]
  },
  {
   "cell_type": "code",
   "execution_count": null,
   "id": "55d8633d",
   "metadata": {},
   "outputs": [],
   "source": [
    "#gdf.set_crs(epsg=4326, inplace=True)"
   ]
  },
  {
   "cell_type": "code",
   "execution_count": null,
   "id": "c88f6132",
   "metadata": {},
   "outputs": [],
   "source": [
    "gdf.crs\n",
    "gdf = gdf.to_crs(epsg=4326)\n",
    "#gdf.set_crs(epsg=4326, inplace=True)\n",
    "gdf.drop(gdf.loc[gdf['Unidad']=='Actual'].index, inplace=True)\n",
    "gdf = gdf.sort_values('Unidad',ascending=True,na_position='first')\n",
    "gdf\n",
    "\n",
    "#gdf = gdf[(gdf['Unidad']=='Formacion Cerrezuelo')|(gdf['Unidad']=='Formacion Cordobes')]\n",
    "\n"
   ]
  },
  {
   "cell_type": "code",
   "execution_count": null,
   "id": "57a8669b",
   "metadata": {},
   "outputs": [],
   "source": [
    "#gdf[gdf['Periodo'] == 'Riacico']"
   ]
  },
  {
   "cell_type": "code",
   "execution_count": null,
   "id": "240b18b6",
   "metadata": {},
   "outputs": [],
   "source": [
    "#import pyproj\n",
    "#pyproj.datadir.get_data_dir()"
   ]
  },
  {
   "cell_type": "code",
   "execution_count": null,
   "id": "ddbbef56",
   "metadata": {
    "scrolled": true
   },
   "outputs": [],
   "source": [
    "#gdf = gpd.read_file(cwd + \"\\\\Geologia_Uruguay_shp\\\\Unidades_Geologicas.shp\")\n",
    "m = folium.Map(location=[-32.5, -55.3], tiles=\"cartodbpositron\", zoom_start=7)\n",
    "folium.GeoJson(data=subgdf[\"geometry\"],\n",
    "              tooltip=subgdf[\"Eon\"][subgdf.index]\n",
    "              ).add_to(m)\n"
   ]
  },
  {
   "cell_type": "code",
   "execution_count": null,
   "id": "b8dc404c",
   "metadata": {},
   "outputs": [],
   "source": [
    "subgdf.plot(figsize=(6, 6))\n",
    "plt.show()"
   ]
  },
  {
   "cell_type": "code",
   "execution_count": null,
   "id": "93d706af",
   "metadata": {},
   "outputs": [],
   "source": [
    "from folium.features import GeoJson, GeoJsonTooltip, GeoJsonPopup\n",
    "\n",
    "fire_dict = dict(zip(gdf['FireName'], gdf['Acres']))\n",
    "\n",
    "tooltip = GeoJsonTooltip(\n",
    "    fields = ['FireName', 'FireYear', \n",
    "              'Acres', 'FireCause'],\n",
    "    aliases = ['Name', 'Year', 'Acres', 'Cause'],\n",
    "    #localize = True,\n",
    "    sticky = True,\n",
    "    labels = True,\n",
    "    style = \"\"\"\n",
    "    background-color: #F0EFEF;\n",
    "    border: 2px solid black;\n",
    "    border-radius: 3px,\n",
    "    box-shadow: 3px;\n",
    "    \"\"\",\n",
    "    max_width = 800\n",
    ")\n",
    "\n",
    "    \n"
   ]
  },
  {
   "cell_type": "markdown",
   "id": "313a748f",
   "metadata": {},
   "source": [
    "### generación del mapa con las formaciones\n"
   ]
  },
  {
   "cell_type": "code",
   "execution_count": null,
   "id": "a403cad8",
   "metadata": {},
   "outputs": [],
   "source": [
    "#gdfunidad = gdf.groupby('Unidad')\n",
    "#listUnidades = gdf.groupby('Unidad').size().to_frame().reset_index().iloc[:,0].to_list()\n",
    "listUnidades = gdf['Unidad'].to_list()\n",
    "\n",
    "listColores =[]\n",
    "ud =''\n",
    "\n",
    "for unidad in listUnidades:\n",
    "    if ud != unidad:\n",
    "        color = np.random.randint(16, 256, size=3)\n",
    "        color = [str(hex(i))[2:] for i in color]\n",
    "        color = '#'+''.join(color).upper()\n",
    "        ud = unidad        \n",
    "    listColores.append(color)\n",
    "    \n",
    "listColores = listColores*2\n",
    "    \n"
   ]
  },
  {
   "cell_type": "code",
   "execution_count": null,
   "id": "c7f28783",
   "metadata": {},
   "outputs": [],
   "source": [
    "def map_colors(feature):\n",
    "    color = listColores.pop(0)\n",
    "    return {\n",
    "        'fillColor': color, \n",
    "        'color': 'black',\n",
    "        'weight': 0.25,\n",
    "        'fillOpacity': 0.3        \n",
    "}"
   ]
  },
  {
   "cell_type": "code",
   "execution_count": null,
   "id": "b347aa2c",
   "metadata": {},
   "outputs": [],
   "source": [
    "def putpopup(fm,era,des,cod):\n",
    "    salida = '''\n",
    "    <h4>{fm}</h4>\n",
    "    <h5>{era}</h5>\n",
    "    <p>{des}...<a href=\"https://rubensdmp.github.io/GeoUy/Formaciones.html#{cod}\" target=\"_blank\">más</a></p>\n",
    "    '''.format(fm=fm,era=era,des=des[:70],cod=cod)\n",
    "    return salida\n",
    "    "
   ]
  },
  {
   "cell_type": "code",
   "execution_count": null,
   "id": "fb7cc824",
   "metadata": {},
   "outputs": [],
   "source": [
    "#m = folium.Map(location=[-32.5, -55.3], zoom_start=7, tiles='openstreetmap')\n",
    "m = folium.Map(location=[-32.5, -55.3], zoom_start=7.2, tiles='Stamen Terrain')\n",
    "               \n",
    "##,crs='EPSG4326')\n",
    "\n",
    "listUnidades = gdf['Unidad'].to_list()\n",
    "\n",
    "listColores =[]\n",
    "ud =''\n",
    "\n",
    "for unidad in listUnidades:\n",
    "    if ud != unidad:\n",
    "        color = np.random.randint(16, 256, size=3)\n",
    "        color = [str(hex(i))[2:] for i in color]\n",
    "        color = '#'+''.join(color).upper()\n",
    "        ud = unidad        \n",
    "    listColores.append(color)\n",
    "    \n",
    "listColores = listColores*2\n",
    "\n",
    "\n",
    "iframe = folium.IFrame('html',\n",
    "                       width=100,\n",
    "                       height=100)\n",
    "\n",
    "#popup = folium.Popup(iframe,\n",
    "#                     max_width=100)\n",
    "\n",
    "\n",
    "\n",
    "for _, r in gdf.iterrows():\n",
    "    # Without simplifying the representation of each borough,\n",
    "    # the map might not be displayed\n",
    "    sim_geo = gpd.GeoSeries(r['geometry'])\n",
    "    geo_j = sim_geo.to_json()\n",
    "    geo_j = folium.GeoJson(data=geo_j,\n",
    "                        style_function=map_colors)\n",
    "    folium.Popup(putpopup(r['Unidad'],r['Periodo'],r['Descripcio'],r['Codigo']),\n",
    "                 sticky=False,parse_html=False,max_width=100\n",
    "                 ).add_to(geo_j)\n",
    "    geo_j.add_to(m)\n",
    "    \n",
    "m\n"
   ]
  },
  {
   "cell_type": "code",
   "execution_count": null,
   "id": "aa7e678c",
   "metadata": {},
   "outputs": [],
   "source": [
    "gdf.shape"
   ]
  },
  {
   "cell_type": "code",
   "execution_count": null,
   "id": "7943733b",
   "metadata": {},
   "outputs": [],
   "source": [
    "for _, r in estdf.iterrows():\n",
    "    sim_geo = gpd.GeoSeries(r['geometry'])\n",
    "    geo_j = sim_geo.to_json()\n",
    "    geo_j = folium.GeoJson(data=geo_j,\n",
    "                        style_function=lambda x: {'fillColor': 'black'})\n",
    "    folium.Popup(r['Nombre']).add_to(geo_j)\n",
    "    geo_j.add_to(m)\n",
    "m"
   ]
  },
  {
   "cell_type": "code",
   "execution_count": null,
   "id": "cd509cf7",
   "metadata": {},
   "outputs": [],
   "source": [
    "m.save(\"GeoUy.html\")"
   ]
  },
  {
   "cell_type": "code",
   "execution_count": null,
   "id": "2faeb7e4",
   "metadata": {},
   "outputs": [],
   "source": [
    "for x in gdf.index:\n",
    "    color = np.random.randint(16, 256, size=3)\n",
    "    color = [str(hex(i))[2:] for i in color]\n",
    "    color = '#'+''.join(color).upper()\n",
    "    gdf.at[x, 'color'] = color\n",
    "\n",
    "def style(feature):\n",
    "        return {\n",
    "            'fillColor': feature['properties']['color'],\n",
    "            'color': feature['properties']['color'],\n",
    "            'weight': 1\n",
    "        }\n",
    "\n",
    "folium.GeoJson(data=gdf, style_function=style).add_to(m)"
   ]
  },
  {
   "cell_type": "code",
   "execution_count": null,
   "id": "60ec0267",
   "metadata": {},
   "outputs": [],
   "source": [
    "\n"
   ]
  },
  {
   "cell_type": "code",
   "execution_count": null,
   "id": "7f0825fb",
   "metadata": {},
   "outputs": [],
   "source": [
    "folium.Marker(\n",
    "    location=[-32.5, -55.3],\n",
    "    popup='Kumpula Campus',\n",
    "    tooltip='poronga negra',\n",
    "    icon=folium.Icon(color='green', icon='ok-sign'),\n",
    ").add_to(m)\n",
    "\n",
    "\n",
    "m"
   ]
  },
  {
   "cell_type": "code",
   "execution_count": null,
   "id": "040ffc6b",
   "metadata": {},
   "outputs": [],
   "source": [
    "GeoUy_map = r'd:\\Users\\d836148\\Dropbox\\DataScience\\GitHub\\GeoPython\\GeoUy\\GeoUy.geojson' # geojson file\n",
    "\n",
    "displat = -32.5\n",
    "displong = -55.3\n",
    "\n",
    "# generate choropleth map using the total immigration of each country to Canada from 1980 to 2013\n",
    "basemap = folium.Map(location=[displat, displong], zoom_start=7, tiles='Stamen Terrain')\n"
   ]
  },
  {
   "cell_type": "code",
   "execution_count": null,
   "id": "722d2bed",
   "metadata": {},
   "outputs": [],
   "source": [
    "GeoUy_map = r'd:\\Users\\d836148\\Dropbox\\DataScience\\GitHub\\GeoPython\\GeoUy\\GeoUy.geojson' # geojson file\n",
    "\n",
    "# generate choropleth map \n",
    "CoroUy = folium.Choropleth(\n",
    "    geo_data=GeoUy_map,\n",
    "    data=gdf[\"geometry\"],\n",
    "    columns=dfvacios.columns,\n",
    "    key_on='feature.properties.Eon',\n",
    "    fill_color='YlOrRd', \n",
    "    fill_opacity=0.7, \n",
    "    line_opacity=0.2,\n",
    "    highlight=True,\n",
    "    legend_name='Formaciones Geológicas Uy',\n",
    "    smooth_factor=0,\n",
    "    #tooltip=(by_count[i] for i in by_count['dep'])\n",
    "    ).add_to(basemap)\n",
    "\n",
    "\n",
    "# add labels indicating the name of the community\n",
    "#style_function = \"font-size: 15px; font-weight: bold\"\n",
    "#chocountry.geojson.add_child(\n",
    "#    folium.features.GeoJsonTooltip(['name'], style=style_function, labels=False),\n",
    "#    folium.LayerControl().add_to(world_map))\n",
    "\n",
    "#CoroUy.geojson.add_child(\n",
    "#    folium.features.GeoJsonTooltip(\n",
    "#    fields=['Eon', 'Era'],\n",
    "#    aliases=['Eon', 'Era'],\n",
    "#    style=('background-color: grey; color: white;')\n",
    "#    )\n",
    "#)\n",
    "\n",
    "# display map\n",
    "basemap"
   ]
  },
  {
   "cell_type": "code",
   "execution_count": null,
   "id": "374f2f36",
   "metadata": {},
   "outputs": [],
   "source": []
  },
  {
   "cell_type": "code",
   "execution_count": null,
   "id": "19974b52",
   "metadata": {},
   "outputs": [],
   "source": []
  },
  {
   "cell_type": "code",
   "execution_count": null,
   "id": "8fd92e09",
   "metadata": {},
   "outputs": [],
   "source": []
  },
  {
   "cell_type": "code",
   "execution_count": null,
   "id": "9a184df0",
   "metadata": {},
   "outputs": [],
   "source": []
  }
 ],
 "metadata": {
  "kernelspec": {
   "display_name": "Python 3",
   "language": "python",
   "name": "python3"
  },
  "language_info": {
   "codemirror_mode": {
    "name": "ipython",
    "version": 3
   },
   "file_extension": ".py",
   "mimetype": "text/x-python",
   "name": "python",
   "nbconvert_exporter": "python",
   "pygments_lexer": "ipython3",
   "version": "3.8.8"
  }
 },
 "nbformat": 4,
 "nbformat_minor": 5
}
