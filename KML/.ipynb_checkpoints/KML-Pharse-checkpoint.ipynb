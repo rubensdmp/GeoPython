{
 "cells": [
  {
   "cell_type": "code",
   "execution_count": null,
   "id": "eb9d372f",
   "metadata": {},
   "outputs": [],
   "source": [
    "import pandas as pd\n",
    "import xml.etree.ElementTree as ET"
   ]
  },
  {
   "cell_type": "code",
   "execution_count": null,
   "id": "705c9a4d",
   "metadata": {},
   "outputs": [],
   "source": [
    "#Cargamos el fichero KML de goolge Earth\n",
    "\n",
    "tree = ET.parse('Python.kml')\n",
    "root = tree.getroot()\n",
    "doc = root[0]\n",
    "\n",
    "\n",
    "print(\"tag: \",root.tag)\n",
    "print(\"attrib: \",root.attrib)\n",
    "print(\"text: \",root.text)\n",
    "print(\"tail: \",root.tail)\n",
    "\n",
    "doc[0].tag\n"
   ]
  },
  {
   "cell_type": "code",
   "execution_count": null,
   "id": "c13a0c04",
   "metadata": {},
   "outputs": [],
   "source": [
    "ET.SubElement(root, 'b').text = 'hola'\n",
    "   "
   ]
  },
  {
   "cell_type": "code",
   "execution_count": null,
   "id": "6ac918a5",
   "metadata": {},
   "outputs": [],
   "source": [
    "import lxml.etree as etree\n",
    "\n",
    "#xml_node = etree.Element(\"node\")\n",
    "item = etree.SubElement(root, 'Item')\n",
    "\n",
    "etree.SubElement(item, 'Name').text = 'Hello'\n",
    "etree.SubElement(item, 'Hero').text = '1'\n",
    "etree.SubElement(item, 'Date').text = '2014-01-01'\n",
    "item.insert(1, item[-1])\n",
    "print(etree.tostring(xml_node, pretty_print=True))\n",
    "print(xml_node)"
   ]
  },
  {
   "cell_type": "code",
   "execution_count": null,
   "id": "05934a51",
   "metadata": {},
   "outputs": [],
   "source": [
    "def getAtributes(root,dic):\n",
    "       \n",
    "    for child in root:\n",
    "        if child.tag[rootpath:] in dic.keys():\n",
    "            dic[child.tag[rootpath:]].append(child.text)\n",
    "        else:\n",
    "            getAtributes(child,dic)\n",
    "        "
   ]
  },
  {
   "cell_type": "code",
   "execution_count": null,
   "id": "3c534d2c",
   "metadata": {},
   "outputs": [],
   "source": [
    "def getAtributes(root,dic):\n",
    "       \n",
    "    for child in root:\n",
    "        if child.tag[rootpath:] in dic.keys():\n",
    "            dic[child.tag[rootpath:]].append(child.text)\n",
    "        else:\n",
    "            getAtributes(child,dic)\n",
    "            "
   ]
  },
  {
   "cell_type": "code",
   "execution_count": null,
   "id": "45b26ef6",
   "metadata": {},
   "outputs": [],
   "source": [
    "def getFolder(root,dic):\n",
    "       \n",
    "    for child in root:\n",
    "        if child.tag[rootpath:] == \"Placemark\":\n",
    "            getAtributes(child,dic)            \n",
    "        else:\n",
    "            getFolder(child,dic)\n",
    "            \n"
   ]
  },
  {
   "cell_type": "code",
   "execution_count": null,
   "id": "fe67fe7f",
   "metadata": {
    "scrolled": true
   },
   "outputs": [],
   "source": [
    "rootpath = len(\"{http://www.opengis.net/kml/2.2}\")\n",
    "dic={\"name\":[],\n",
    "     \"longitude\":[],\n",
    "     \"latitude\":[],\n",
    "     \"altitude\":[],\n",
    "     \"coordinates\":[]\n",
    "    }\n",
    "\n",
    "getFolder(root,dic)\n",
    "\n",
    "dic\n"
   ]
  },
  {
   "cell_type": "code",
   "execution_count": null,
   "id": "1dee6029",
   "metadata": {},
   "outputs": [],
   "source": [
    "from itertools import zip_longest\n",
    "dfkml = pd.DataFrame(zip_longest(*dic.values()), columns=dic)\n",
    "\n",
    "#dfkml = pd.DataFrame.from_dict(dic)\n",
    "dfkml.head()"
   ]
  },
  {
   "cell_type": "code",
   "execution_count": null,
   "id": "ef851d1b",
   "metadata": {},
   "outputs": [],
   "source": [
    "\n"
   ]
  },
  {
   "cell_type": "code",
   "execution_count": null,
   "id": "3e2060e0",
   "metadata": {},
   "outputs": [],
   "source": [
    "import lxml.etree as etree\n",
    "xml_node = etree.Element(\"node\")\n",
    "item = etree.SubElement(xml_node, 'Item')\n",
    "\n",
    "etree.SubElement(item, 'Name').text = 'Hello'\n",
    "etree.SubElement(item, 'Hero').text = '1'\n",
    "etree.SubElement(item, 'Date').text = '2014-01-01'\n",
    "item.insert(1, item[-1])\n",
    "print(etree.tostring(xml_node, pretty_print=True))\n",
    "print(xml_node)"
   ]
  },
  {
   "cell_type": "code",
   "execution_count": null,
   "id": "5858b5e1",
   "metadata": {},
   "outputs": [],
   "source": []
  },
  {
   "cell_type": "code",
   "execution_count": null,
   "id": "4d1951d3",
   "metadata": {},
   "outputs": [],
   "source": [
    "tree.write('output.kml')"
   ]
  },
  {
   "cell_type": "code",
   "execution_count": null,
   "id": "d2fd0e7c",
   "metadata": {},
   "outputs": [],
   "source": []
  },
  {
   "cell_type": "code",
   "execution_count": null,
   "id": "2f941780",
   "metadata": {},
   "outputs": [],
   "source": [
    "df = pd.read_xml(xml)\n",
    "df"
   ]
  },
  {
   "cell_type": "code",
   "execution_count": null,
   "id": "82059808",
   "metadata": {},
   "outputs": [],
   "source": []
  },
  {
   "cell_type": "code",
   "execution_count": null,
   "id": "7029714a",
   "metadata": {},
   "outputs": [],
   "source": [
    "# Función para devolver valor para tag dado\n",
    "\n",
    "rootpath = len(\"{http://www.opengis.net/kml/2.2}\")\n",
    "\n",
    "\n",
    "\n"
   ]
  },
  {
   "cell_type": "code",
   "execution_count": null,
   "id": "61248ada",
   "metadata": {},
   "outputs": [],
   "source": [
    "print(ET.Element('scale').tag)"
   ]
  },
  {
   "cell_type": "code",
   "execution_count": null,
   "id": "ebf4f17d",
   "metadata": {},
   "outputs": [],
   "source": [
    "#truchada\n",
    "rootpath = len(\"{http://www.opengis.net/kml/2.2}\")\n",
    "\n",
    "\n",
    "for i in range(5):\n",
    "    print(str(root[0][i].tag[rootpath:]))\n",
    "\n",
    "\n",
    "if root[0][4][2][0].tag[rootpath:] == \"name\":\n",
    "    print(\"bien\")\n",
    "    \n",
    "print(root[0][4][2][2][6].text)\n",
    "print(root[0][4][2][2][6].tag[rootpath:])\n",
    "\n"
   ]
  },
  {
   "cell_type": "code",
   "execution_count": null,
   "id": "163e9eeb",
   "metadata": {},
   "outputs": [],
   "source": [
    "for child in root:\n",
    "    print(child.tag[rootpath:], child.attrib)\n",
    "    for ch in child:\n",
    "        print(\"  \" + ch.tag[rootpath:] , ch.attrib)\n",
    "        for c in ch:\n",
    "            print(\"    \" , c.attrib)\n",
    "            for sc in c:\n",
    "                print(\"   ----   \" + sc.tag[rootpath:], sc.attrib)\n",
    "                for s in sc:\n",
    "                    print(\"        \" , s.attrib)\n",
    "                    \n",
    "                    \n",
    "print(ET.Element('scale').attrib)"
   ]
  },
  {
   "cell_type": "code",
   "execution_count": null,
   "id": "7d464d17",
   "metadata": {},
   "outputs": [],
   "source": [
    "for movie in root.iter('name'):\n",
    "    print(movie.attrib)"
   ]
  },
  {
   "cell_type": "code",
   "execution_count": null,
   "id": "6ad46802",
   "metadata": {},
   "outputs": [],
   "source": []
  },
  {
   "cell_type": "code",
   "execution_count": null,
   "id": "c83341d0",
   "metadata": {},
   "outputs": [],
   "source": []
  },
  {
   "cell_type": "code",
   "execution_count": null,
   "id": "05da9d11",
   "metadata": {},
   "outputs": [],
   "source": [
    "from pykml import parser\n",
    "import pandas as pd\n"
   ]
  },
  {
   "cell_type": "code",
   "execution_count": null,
   "id": "495c31e3",
   "metadata": {},
   "outputs": [],
   "source": [
    "filename = 'Python.kml'\n",
    "\n",
    "with open(filename) as fobj:\n",
    "        folder = parser.parse(fobj).getroot()\n",
    "\n",
    "    \n",
    "    \n",
    "#folder = parser.parse(fobj).getroot().Document\n",
    "\n",
    "    \n",
    "\n"
   ]
  },
  {
   "cell_type": "code",
   "execution_count": null,
   "id": "801c9f6c",
   "metadata": {},
   "outputs": [],
   "source": [
    "plnm = []\n",
    "\n",
    "for pm in folder:\n",
    "    print(str(pm))\n",
    "    plnm1 = pm.name\n",
    "    plnm.append(plnm1.text)\n",
    "\n",
    "df = pd.DataFrame()\n",
    "df['name'] = plnm"
   ]
  },
  {
   "cell_type": "code",
   "execution_count": null,
   "id": "442c0adb",
   "metadata": {},
   "outputs": [],
   "source": [
    "plnm = []\n",
    "\n",
    "for pm in folder.Placemark:\n",
    "    plnm1 = pm.name\n",
    "    plnm.append(plnm1.text)\n",
    "\n",
    "df = pd.DataFrame()\n",
    "df['name'] = plnm"
   ]
  },
  {
   "cell_type": "code",
   "execution_count": null,
   "id": "60689e4b",
   "metadata": {},
   "outputs": [],
   "source": [
    "plnm = []\n",
    "holeNumber = []\n",
    "for pm in folder.Placemark:\n",
    "    plnm1 = pm.name\n",
    "    val1 = pm.ExtendedData.Data[0].value\n",
    "    plnm.append(plnm1.text)\n",
    "    holeNumber.append(val1.text)\n",
    "\n",
    "df = pd.DataFrame()\n",
    "df['name'] = plnm\n",
    "df['holeNumber'] = holeNumber\n",
    "\n",
    "print(df)\n"
   ]
  },
  {
   "cell_type": "code",
   "execution_count": null,
   "id": "296f926e",
   "metadata": {},
   "outputs": [],
   "source": []
  },
  {
   "cell_type": "code",
   "execution_count": null,
   "id": "96fe9b85",
   "metadata": {},
   "outputs": [],
   "source": [
    "from fastkml import  kml\n",
    "\n",
    "\n",
    "doc = file(\"Python.kml\").read()\n",
    "k = kml.KML()\n",
    "k.from_string(doc)\n",
    "len(k.features())"
   ]
  },
  {
   "cell_type": "code",
   "execution_count": null,
   "id": "7acebd1d",
   "metadata": {},
   "outputs": [],
   "source": []
  }
 ],
 "metadata": {
  "kernelspec": {
   "display_name": "Python 3",
   "language": "python",
   "name": "python3"
  },
  "language_info": {
   "codemirror_mode": {
    "name": "ipython",
    "version": 3
   },
   "file_extension": ".py",
   "mimetype": "text/x-python",
   "name": "python",
   "nbconvert_exporter": "python",
   "pygments_lexer": "ipython3",
   "version": "3.8.8"
  }
 },
 "nbformat": 4,
 "nbformat_minor": 5
}
