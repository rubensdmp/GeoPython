{
 "cells": [
  {
   "cell_type": "code",
   "execution_count": 5,
   "id": "eb9d372f",
   "metadata": {},
   "outputs": [],
   "source": [
    "import pandas as pd\n",
    "import xml.etree.ElementTree as ET"
   ]
  },
  {
   "cell_type": "code",
   "execution_count": 24,
   "id": "08481bf4",
   "metadata": {},
   "outputs": [],
   "source": [
    "tree = ET.parse('Python.kml')\n",
    "tree.write('Cambios.kml')"
   ]
  },
  {
   "cell_type": "code",
   "execution_count": 52,
   "id": "705c9a4d",
   "metadata": {},
   "outputs": [
    {
     "data": {
      "text/plain": [
       "'\\nprint(\"tag: \",root.tag)\\nprint(\"attrib: \",root.attrib)\\nprint(\"text: \",root.text)\\nprint(\"tail: \",root.tail)\\n\\ndoc[0].tag\\n'"
      ]
     },
     "execution_count": 52,
     "metadata": {},
     "output_type": "execute_result"
    }
   ],
   "source": [
    "#Cargamos el fichero KML de goolge Earth\n",
    "\n",
    "tree = ET.parse('Cambios.kml')\n",
    "root = tree.getroot()\n",
    "doc = root[0]\n",
    "\n",
    "'''\n",
    "print(\"tag: \",root.tag)\n",
    "print(\"attrib: \",root.attrib)\n",
    "print(\"text: \",root.text)\n",
    "print(\"tail: \",root.tail)\n",
    "\n",
    "doc[0].tag\n",
    "'''\n",
    "\n"
   ]
  },
  {
   "cell_type": "code",
   "execution_count": 65,
   "id": "c13a0c04",
   "metadata": {},
   "outputs": [
    {
     "data": {
      "text/plain": [
       "True"
      ]
     },
     "execution_count": 65,
     "metadata": {},
     "output_type": "execute_result"
    }
   ],
   "source": [
    "'A' in {'A','B'} "
   ]
  },
  {
   "cell_type": "code",
   "execution_count": 53,
   "id": "cf43e8b1",
   "metadata": {},
   "outputs": [],
   "source": [
    "#Insertamos como hijo de Placemark\n",
    "path = \"{http://www.opengis.net/kml/2.2}\"\n",
    "folder = root[0][4]\n",
    "\n",
    "Placemark = ET.SubElement(folder, path + 'Placemark')\n",
    "ET.SubElement(Placemark, path + 'name').text = \"my first place\"\n",
    "ET.SubElement(Placemark, path + 'description').text = \"un lugar bonito\"\n",
    "\n",
    "LookAt = ET.SubElement(Placemark, path + 'LookAt')\n",
    "ET.SubElement(LookAt, path + 'longitude').text = \"-55.89177578272917\"\n",
    "ET.SubElement(LookAt, path + 'latitude').text = \"-33.14150541012881\"\n",
    "\n",
    "ET.SubElement(Placemark, path + 'styleUrl').text = \"#m_ylw-pushpin\"\n",
    "ET.SubElement(Placemark, path + 'balloonVisibility').text = \"1\"\n",
    "\n",
    "Point = ET.SubElement(Placemark, path + 'Point')\n",
    "ET.SubElement(Point, path + 'drawOrder').text = \"1\"\n",
    "ET.SubElement(Point, path + 'coordinates').text = \"-55.89177578272917,-33.14150541012881,0\"\n",
    "\n",
    "\n",
    "tree.write('output.kml')   "
   ]
  },
  {
   "cell_type": "code",
   "execution_count": 41,
   "id": "6ac918a5",
   "metadata": {},
   "outputs": [
    {
     "name": "stdout",
     "output_type": "stream",
     "text": [
      "b'<node>\\n  <Item>\\n    <Name>Hello</Name>\\n    <Date>2014-01-01</Date>\\n    <Hero>1</Hero>\\n  </Item>\\n</node>\\n'\n"
     ]
    }
   ],
   "source": [
    "import lxml.etree as etree\n",
    "\n",
    "xml_node = etree.Element(\"node\")\n",
    "item = etree.SubElement(xml_node, 'Item')\n",
    "\n",
    "etree.SubElement(item, 'Name').text = 'Hello'\n",
    "etree.SubElement(item, 'Hero').text = '1'\n",
    "etree.SubElement(item, 'Date').text = '2014-01-01'\n",
    "item.insert(1, item[-1])\n",
    "print(etree.tostring(xml_node, pretty_print=True))\n"
   ]
  },
  {
   "cell_type": "code",
   "execution_count": null,
   "id": "089df90f",
   "metadata": {},
   "outputs": [],
   "source": []
  },
  {
   "cell_type": "markdown",
   "id": "0e68736d",
   "metadata": {},
   "source": [
    "### Esto anda al menos para generar un dataframe básico"
   ]
  },
  {
   "cell_type": "code",
   "execution_count": 54,
   "id": "31644c93",
   "metadata": {},
   "outputs": [],
   "source": [
    "#Cargamos el fichero KML de goolge Earth\n",
    "\n",
    "tree = ET.parse('output.kml')\n",
    "root = tree.getroot()\n",
    "doc = root[0]\n"
   ]
  },
  {
   "cell_type": "code",
   "execution_count": 55,
   "id": "05934a51",
   "metadata": {},
   "outputs": [],
   "source": [
    "def getAtributes(root,dic):\n",
    "       \n",
    "    for child in root:\n",
    "        if child.tag[rootpath:] in dic.keys():\n",
    "            dic[child.tag[rootpath:]].append(child.text)\n",
    "        else:\n",
    "            getAtributes(child,dic)\n",
    "        "
   ]
  },
  {
   "cell_type": "code",
   "execution_count": 56,
   "id": "45b26ef6",
   "metadata": {},
   "outputs": [],
   "source": [
    "def getFolder(root,dic):\n",
    "       \n",
    "    for child in root:\n",
    "        if child.tag[rootpath:] == \"Placemark\":\n",
    "            getAtributes(child,dic)            \n",
    "        else:\n",
    "            getFolder(child,dic)\n",
    "            \n"
   ]
  },
  {
   "cell_type": "code",
   "execution_count": 57,
   "id": "fe67fe7f",
   "metadata": {
    "scrolled": true
   },
   "outputs": [
    {
     "data": {
      "text/plain": [
       "{'name': ['punto 1', 'Punto 2', 'libre', 'my first place'],\n",
       " 'longitude': ['-55.79177578272917',\n",
       "  '-55.88146856200056',\n",
       "  '32.0',\n",
       "  '-55.89177578272917'],\n",
       " 'latitude': ['-33.04150541012881',\n",
       "  '-33.04159536639477',\n",
       "  '36.0',\n",
       "  '-33.14150541012881'],\n",
       " 'altitude': ['100', '0', '0'],\n",
       " 'coordinates': ['-55.06526192960407,-32.80572852630497,0',\n",
       "  '-56.31090671153598,-33.60150149377251,0',\n",
       "  '32.0,36.0,0',\n",
       "  '-55.89177578272917,-33.14150541012881,0']}"
      ]
     },
     "execution_count": 57,
     "metadata": {},
     "output_type": "execute_result"
    }
   ],
   "source": [
    "rootpath = len(\"{http://www.opengis.net/kml/2.2}\")\n",
    "dic={\"name\":[],\n",
    "     \"longitude\":[],\n",
    "     \"latitude\":[],\n",
    "     \"altitude\":[],\n",
    "     \"coordinates\":[]\n",
    "    }\n",
    "\n",
    "getFolder(root,dic)\n",
    "\n",
    "dic\n"
   ]
  },
  {
   "cell_type": "code",
   "execution_count": 58,
   "id": "1dee6029",
   "metadata": {},
   "outputs": [
    {
     "data": {
      "text/html": [
       "<div>\n",
       "<style scoped>\n",
       "    .dataframe tbody tr th:only-of-type {\n",
       "        vertical-align: middle;\n",
       "    }\n",
       "\n",
       "    .dataframe tbody tr th {\n",
       "        vertical-align: top;\n",
       "    }\n",
       "\n",
       "    .dataframe thead th {\n",
       "        text-align: right;\n",
       "    }\n",
       "</style>\n",
       "<table border=\"1\" class=\"dataframe\">\n",
       "  <thead>\n",
       "    <tr style=\"text-align: right;\">\n",
       "      <th></th>\n",
       "      <th>name</th>\n",
       "      <th>longitude</th>\n",
       "      <th>latitude</th>\n",
       "      <th>altitude</th>\n",
       "      <th>coordinates</th>\n",
       "    </tr>\n",
       "  </thead>\n",
       "  <tbody>\n",
       "    <tr>\n",
       "      <th>0</th>\n",
       "      <td>punto 1</td>\n",
       "      <td>-55.79177578272917</td>\n",
       "      <td>-33.04150541012881</td>\n",
       "      <td>100</td>\n",
       "      <td>-55.06526192960407,-32.80572852630497,0</td>\n",
       "    </tr>\n",
       "    <tr>\n",
       "      <th>1</th>\n",
       "      <td>Punto 2</td>\n",
       "      <td>-55.88146856200056</td>\n",
       "      <td>-33.04159536639477</td>\n",
       "      <td>0</td>\n",
       "      <td>-56.31090671153598,-33.60150149377251,0</td>\n",
       "    </tr>\n",
       "    <tr>\n",
       "      <th>2</th>\n",
       "      <td>libre</td>\n",
       "      <td>32.0</td>\n",
       "      <td>36.0</td>\n",
       "      <td>0</td>\n",
       "      <td>32.0,36.0,0</td>\n",
       "    </tr>\n",
       "    <tr>\n",
       "      <th>3</th>\n",
       "      <td>my first place</td>\n",
       "      <td>-55.89177578272917</td>\n",
       "      <td>-33.14150541012881</td>\n",
       "      <td>None</td>\n",
       "      <td>-55.89177578272917,-33.14150541012881,0</td>\n",
       "    </tr>\n",
       "  </tbody>\n",
       "</table>\n",
       "</div>"
      ],
      "text/plain": [
       "             name           longitude            latitude altitude  \\\n",
       "0         punto 1  -55.79177578272917  -33.04150541012881      100   \n",
       "1         Punto 2  -55.88146856200056  -33.04159536639477        0   \n",
       "2           libre                32.0                36.0        0   \n",
       "3  my first place  -55.89177578272917  -33.14150541012881     None   \n",
       "\n",
       "                               coordinates  \n",
       "0  -55.06526192960407,-32.80572852630497,0  \n",
       "1  -56.31090671153598,-33.60150149377251,0  \n",
       "2                              32.0,36.0,0  \n",
       "3  -55.89177578272917,-33.14150541012881,0  "
      ]
     },
     "execution_count": 58,
     "metadata": {},
     "output_type": "execute_result"
    }
   ],
   "source": [
    "from itertools import zip_longest\n",
    "dfkml = pd.DataFrame(zip_longest(*dic.values()), columns=dic)\n",
    "\n",
    "#dfkml = pd.DataFrame.from_dict(dic)\n",
    "dfkml.head()"
   ]
  },
  {
   "cell_type": "markdown",
   "id": "424d0848",
   "metadata": {},
   "source": [
    "### Fin de lo que anda bien\n"
   ]
  },
  {
   "cell_type": "code",
   "execution_count": 69,
   "id": "3e2060e0",
   "metadata": {},
   "outputs": [],
   "source": [
    "class Points(object):\n",
    "\n",
    "  def __init__(self,x,y):\n",
    "\n",
    "    self.x=x\n",
    "    self.y=y\n",
    "\n",
    "  def print_point(self):\n",
    "\n",
    "    print('x=',self.x,' y=',self.y)\n",
    "\n"
   ]
  },
  {
   "cell_type": "code",
   "execution_count": 71,
   "id": "5858b5e1",
   "metadata": {},
   "outputs": [
    {
     "name": "stdout",
     "output_type": "stream",
     "text": [
      "101\n"
     ]
    }
   ],
   "source": [
    "a=1\n",
    "\n",
    "def do(x):\n",
    "    a=100\n",
    "    return(x+a)\n",
    "\n",
    "print(do(1))"
   ]
  },
  {
   "cell_type": "code",
   "execution_count": 27,
   "id": "4d1951d3",
   "metadata": {},
   "outputs": [],
   "source": [
    "tree.write('output.kml')"
   ]
  },
  {
   "cell_type": "code",
   "execution_count": null,
   "id": "d2fd0e7c",
   "metadata": {},
   "outputs": [],
   "source": []
  },
  {
   "cell_type": "code",
   "execution_count": null,
   "id": "2f941780",
   "metadata": {},
   "outputs": [],
   "source": [
    "df = pd.read_xml(xml)\n",
    "df"
   ]
  },
  {
   "cell_type": "code",
   "execution_count": null,
   "id": "82059808",
   "metadata": {},
   "outputs": [],
   "source": []
  },
  {
   "cell_type": "code",
   "execution_count": null,
   "id": "7029714a",
   "metadata": {},
   "outputs": [],
   "source": [
    "# Función para devolver valor para tag dado\n",
    "\n",
    "rootpath = len(\"{http://www.opengis.net/kml/2.2}\")\n",
    "\n",
    "\n",
    "\n"
   ]
  },
  {
   "cell_type": "code",
   "execution_count": null,
   "id": "61248ada",
   "metadata": {},
   "outputs": [],
   "source": [
    "print(ET.Element('scale').tag)"
   ]
  },
  {
   "cell_type": "code",
   "execution_count": 20,
   "id": "ebf4f17d",
   "metadata": {},
   "outputs": [
    {
     "name": "stdout",
     "output_type": "stream",
     "text": [
      "name\n",
      "Style\n",
      "Style\n",
      "StyleMap\n",
      "Folder\n",
      "bien\n",
      "relativeToSeaFloor\n",
      ".2}altitudeMode\n"
     ]
    }
   ],
   "source": [
    "#truchada\n",
    "rootpath = len(\"{http://www.opengis.net/kml/2.2}\")\n",
    "\n",
    "\n",
    "for i in range(5):\n",
    "    print(str(root[0][i].tag[rootpath:]))\n",
    "\n",
    "\n",
    "if root[0][4][2][0].tag[rootpath:] == \"name\":\n",
    "    print(\"bien\")\n",
    "    \n",
    "print(root[0][4][2][2][6].text)\n",
    "print(root[0][4][2][2][6].tag[rootpath:])\n",
    "\n"
   ]
  },
  {
   "cell_type": "code",
   "execution_count": null,
   "id": "163e9eeb",
   "metadata": {},
   "outputs": [],
   "source": [
    "for child in root:\n",
    "    print(child.tag[rootpath:], child.attrib)\n",
    "    for ch in child:\n",
    "        print(\"  \" + ch.tag[rootpath:] , ch.attrib)\n",
    "        for c in ch:\n",
    "            print(\"    \" , c.attrib)\n",
    "            for sc in c:\n",
    "                print(\"   ----   \" + sc.tag[rootpath:], sc.attrib)\n",
    "                for s in sc:\n",
    "                    print(\"        \" , s.attrib)\n",
    "                    \n",
    "                    \n",
    "print(ET.Element('scale').attrib)"
   ]
  },
  {
   "cell_type": "code",
   "execution_count": 45,
   "id": "7d464d17",
   "metadata": {},
   "outputs": [],
   "source": [
    "for movie in root.iter('name'):\n",
    "    print(movie.attrib)"
   ]
  },
  {
   "cell_type": "code",
   "execution_count": null,
   "id": "21b4d29a",
   "metadata": {},
   "outputs": [],
   "source": []
  }
 ],
 "metadata": {
  "kernelspec": {
   "display_name": "Python 3",
   "language": "python",
   "name": "python3"
  },
  "language_info": {
   "codemirror_mode": {
    "name": "ipython",
    "version": 3
   },
   "file_extension": ".py",
   "mimetype": "text/x-python",
   "name": "python",
   "nbconvert_exporter": "python",
   "pygments_lexer": "ipython3",
   "version": "3.8.8"
  }
 },
 "nbformat": 4,
 "nbformat_minor": 5
}
