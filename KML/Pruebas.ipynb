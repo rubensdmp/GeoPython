{
 "cells": [
  {
   "cell_type": "code",
   "execution_count": 3,
   "id": "eb9d372f",
   "metadata": {},
   "outputs": [],
   "source": [
    "import pandas as pd\n",
    "import xml.etree.ElementTree as ET"
   ]
  },
  {
   "cell_type": "code",
   "execution_count": 34,
   "id": "705c9a4d",
   "metadata": {},
   "outputs": [
    {
     "name": "stdout",
     "output_type": "stream",
     "text": [
      "tag:  {http://www.opengis.net/kml/2.2}kml\n",
      "attrib:  {}\n",
      "text:  \n",
      "\n",
      "tail:  None\n"
     ]
    },
    {
     "data": {
      "text/plain": [
       "'{http://www.opengis.net/kml/2.2}name'"
      ]
     },
     "execution_count": 34,
     "metadata": {},
     "output_type": "execute_result"
    }
   ],
   "source": [
    "#Cargamos el fichero KML de goolge Earth\n",
    "\n",
    "tree = ET.parse('python.kml')\n",
    "root = tree.getroot()\n",
    "doc = root[0]\n",
    "\n",
    "\n",
    "print(\"tag: \",root.tag)\n",
    "print(\"attrib: \",root.attrib)\n",
    "print(\"text: \",root.text)\n",
    "print(\"tail: \",root.tail)\n",
    "\n",
    "doc[0].tag\n"
   ]
  },
  {
   "cell_type": "code",
   "execution_count": 22,
   "id": "fe67fe7f",
   "metadata": {},
   "outputs": [
    {
     "data": {
      "text/plain": [
       "'reemplazo.kml'"
      ]
     },
     "execution_count": 22,
     "metadata": {},
     "output_type": "execute_result"
    }
   ],
   "source": []
  },
  {
   "cell_type": "code",
   "execution_count": null,
   "id": "ef851d1b",
   "metadata": {},
   "outputs": [],
   "source": []
  },
  {
   "cell_type": "code",
   "execution_count": 23,
   "id": "4d1951d3",
   "metadata": {},
   "outputs": [],
   "source": [
    "tree.write('output.kml')"
   ]
  },
  {
   "cell_type": "code",
   "execution_count": null,
   "id": "bd5c55e7",
   "metadata": {},
   "outputs": [],
   "source": []
  },
  {
   "cell_type": "code",
   "execution_count": null,
   "id": "d2fd0e7c",
   "metadata": {},
   "outputs": [],
   "source": []
  },
  {
   "cell_type": "code",
   "execution_count": null,
   "id": "2f941780",
   "metadata": {},
   "outputs": [],
   "source": [
    "df = pd.read_xml(xml)\n",
    "df"
   ]
  },
  {
   "cell_type": "code",
   "execution_count": 1,
   "id": "82059808",
   "metadata": {},
   "outputs": [],
   "source": []
  },
  {
   "cell_type": "code",
   "execution_count": 2,
   "id": "7029714a",
   "metadata": {},
   "outputs": [
    {
     "name": "stdout",
     "output_type": "stream",
     "text": [
      "{http://www.opengis.net/kml/2.2}kml\n"
     ]
    },
    {
     "data": {
      "text/plain": [
       "{}"
      ]
     },
     "execution_count": 2,
     "metadata": {},
     "output_type": "execute_result"
    }
   ],
   "source": [
    "\n"
   ]
  },
  {
   "cell_type": "code",
   "execution_count": null,
   "id": "61248ada",
   "metadata": {},
   "outputs": [],
   "source": [
    "print(ET.Element('scale').tag)"
   ]
  },
  {
   "cell_type": "code",
   "execution_count": 11,
   "id": "ebf4f17d",
   "metadata": {},
   "outputs": [
    {
     "name": "stdout",
     "output_type": "stream",
     "text": [
      "32\n",
      "{http://www.opengis.net/kml/2.2}name\n",
      "name\n",
      "Style\n",
      "Style\n",
      "StyleMap\n",
      "Folder\n",
      "bien\n",
      "-55.79177578272917\n"
     ]
    }
   ],
   "source": [
    "#truchada\n",
    "rootpath = len(\"{http://www.opengis.net/kml/2.2}\")\n",
    "print(rootpath)\n",
    "\n",
    "print(root[0][0].tag)\n",
    "for i in range(5):\n",
    "    print(str(root[0][i].tag[rootpath:]))\n",
    "\n",
    "\n",
    "if root[0][4][2][0].tag[rootpath:] == \"name\":\n",
    "    print(\"bien\")\n",
    "    \n",
    "print(root[0][4][2][2][0].text)"
   ]
  },
  {
   "cell_type": "code",
   "execution_count": null,
   "id": "163e9eeb",
   "metadata": {},
   "outputs": [],
   "source": [
    "for child in root:\n",
    "    print(child.tag, child.attrib)\n",
    "    for ch in child:\n",
    "        print(\"  \" + ch.tag , ch.attrib)\n",
    "        for c in ch:\n",
    "            print(\"    \" , c.attrib)\n",
    "            for sc in c:\n",
    "                print(\"   ----   \" + sc.tag, sc.attrib)\n",
    "                for s in sc:\n",
    "                    print(\"        \" , s.attrib)\n",
    "                    \n",
    "                    \n",
    "print(ET.Element('scale').attrib)"
   ]
  },
  {
   "cell_type": "code",
   "execution_count": 12,
   "id": "7d464d17",
   "metadata": {},
   "outputs": [],
   "source": [
    "for movie in root.iter('name'):\n",
    "    print(movie.attrib)"
   ]
  },
  {
   "cell_type": "code",
   "execution_count": null,
   "id": "6ad46802",
   "metadata": {},
   "outputs": [],
   "source": []
  },
  {
   "cell_type": "code",
   "execution_count": null,
   "id": "c83341d0",
   "metadata": {},
   "outputs": [],
   "source": []
  },
  {
   "cell_type": "code",
   "execution_count": null,
   "id": "05da9d11",
   "metadata": {},
   "outputs": [],
   "source": [
    "from pykml import parser\n",
    "import pandas as pd\n"
   ]
  },
  {
   "cell_type": "code",
   "execution_count": null,
   "id": "495c31e3",
   "metadata": {},
   "outputs": [],
   "source": [
    "filename = 'Python.kml'\n",
    "\n",
    "with open(filename) as fobj:\n",
    "        folder = parser.parse(fobj).getroot()\n",
    "\n",
    "    \n",
    "    \n",
    "#folder = parser.parse(fobj).getroot().Document\n",
    "\n",
    "    \n",
    "\n"
   ]
  },
  {
   "cell_type": "code",
   "execution_count": null,
   "id": "801c9f6c",
   "metadata": {},
   "outputs": [],
   "source": [
    "plnm = []\n",
    "\n",
    "for pm in folder:\n",
    "    print(str(pm))\n",
    "    plnm1 = pm.name\n",
    "    plnm.append(plnm1.text)\n",
    "\n",
    "df = pd.DataFrame()\n",
    "df['name'] = plnm"
   ]
  },
  {
   "cell_type": "code",
   "execution_count": null,
   "id": "442c0adb",
   "metadata": {},
   "outputs": [],
   "source": [
    "plnm = []\n",
    "\n",
    "for pm in folder.Placemark:\n",
    "    plnm1 = pm.name\n",
    "    plnm.append(plnm1.text)\n",
    "\n",
    "df = pd.DataFrame()\n",
    "df['name'] = plnm"
   ]
  },
  {
   "cell_type": "code",
   "execution_count": null,
   "id": "60689e4b",
   "metadata": {},
   "outputs": [],
   "source": [
    "plnm = []\n",
    "holeNumber = []\n",
    "for pm in folder.Placemark:\n",
    "    plnm1 = pm.name\n",
    "    val1 = pm.ExtendedData.Data[0].value\n",
    "    plnm.append(plnm1.text)\n",
    "    holeNumber.append(val1.text)\n",
    "\n",
    "df = pd.DataFrame()\n",
    "df['name'] = plnm\n",
    "df['holeNumber'] = holeNumber\n",
    "\n",
    "print(df)\n"
   ]
  },
  {
   "cell_type": "code",
   "execution_count": null,
   "id": "296f926e",
   "metadata": {},
   "outputs": [],
   "source": []
  },
  {
   "cell_type": "code",
   "execution_count": null,
   "id": "96fe9b85",
   "metadata": {},
   "outputs": [],
   "source": [
    "from fastkml import  kml\n",
    "\n",
    "\n",
    "doc = file(\"Python.kml\").read()\n",
    "k = kml.KML()\n",
    "k.from_string(doc)\n",
    "len(k.features())"
   ]
  },
  {
   "cell_type": "code",
   "execution_count": null,
   "id": "7acebd1d",
   "metadata": {},
   "outputs": [],
   "source": []
  }
 ],
 "metadata": {
  "kernelspec": {
   "display_name": "Python 3",
   "language": "python",
   "name": "python3"
  },
  "language_info": {
   "codemirror_mode": {
    "name": "ipython",
    "version": 3
   },
   "file_extension": ".py",
   "mimetype": "text/x-python",
   "name": "python",
   "nbconvert_exporter": "python",
   "pygments_lexer": "ipython3",
   "version": "3.8.8"
  }
 },
 "nbformat": 4,
 "nbformat_minor": 5
}
