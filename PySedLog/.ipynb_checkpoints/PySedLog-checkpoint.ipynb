{
 "cells": [
  {
   "cell_type": "code",
   "execution_count": 149,
   "id": "f6aa4b95",
   "metadata": {},
   "outputs": [],
   "source": [
    "import pandas as pd\n",
    "import os\n"
   ]
  },
  {
   "cell_type": "code",
   "execution_count": 150,
   "id": "3cf01ac6",
   "metadata": {},
   "outputs": [],
   "source": [
    "cwd = os.getcwd()"
   ]
  },
  {
   "cell_type": "code",
   "execution_count": 151,
   "id": "6b2429d9",
   "metadata": {},
   "outputs": [],
   "source": [
    "#Columnas del SedLog para cargar por CSV\n",
    "sedlogcolumns = ['THICKNESS (CM)', 'BASE BOUNDARY', 'LITHOLOGY', 'LITHOLOGY %',\n",
    "       'LITHOLOGY2', 'LITHOLOGY2 %', 'LITHOLOGY3', 'LITHOLOGY3 %',\n",
    "       'GRAIN SIZE BASE', 'PHI VALUES BASE', 'GRAIN SIZE TOP',\n",
    "       'PHI VALUES TOP', 'SYMBOLS IN BED', 'SYMBOLS/STRUCTURES',\n",
    "       'NOTES COLUMN', 'BIOTURBATION TYPE', 'INTENSITY',\n",
    "       'PALAEOCURRENT VALUES', 'FACIES', 'OTHER1 TEXT', 'OTHER1 SYMBOL',\n",
    "       'OTHER2 TEXT', 'OTHER2 SYMBOL', 'OTHER3 TEXT', 'OTHER3 SYMBOL']\n",
    "\n",
    "sedLogCSV = pd.DataFrame()\n",
    "for item in sedlogcolumns:\n",
    "    sedLogCSV[item] = 0\n",
    "    \n"
   ]
  },
  {
   "cell_type": "code",
   "execution_count": 166,
   "id": "ed230443",
   "metadata": {
    "scrolled": true
   },
   "outputs": [
    {
     "data": {
      "text/plain": [
       "['Current ripple cross-lamination,Planar cross bedding,Horizontal planar lamination']"
      ]
     },
     "execution_count": 166,
     "metadata": {},
     "output_type": "execute_result"
    }
   ],
   "source": [
    "df = pd.read_csv(cwd + \"\\\\pru.csv\")\n",
    "simbo = df['SYMBOLS/STRUCTURES'].to_list()\n",
    "simbo"
   ]
  },
  {
   "cell_type": "code",
   "execution_count": 153,
   "id": "bc4344fc",
   "metadata": {},
   "outputs": [
    {
     "data": {
      "text/html": [
       "<div>\n",
       "<style scoped>\n",
       "    .dataframe tbody tr th:only-of-type {\n",
       "        vertical-align: middle;\n",
       "    }\n",
       "\n",
       "    .dataframe tbody tr th {\n",
       "        vertical-align: top;\n",
       "    }\n",
       "\n",
       "    .dataframe thead th {\n",
       "        text-align: right;\n",
       "    }\n",
       "</style>\n",
       "<table border=\"1\" class=\"dataframe\">\n",
       "  <thead>\n",
       "    <tr style=\"text-align: right;\">\n",
       "      <th></th>\n",
       "      <th>Unnamed: 0</th>\n",
       "      <th>Espesor</th>\n",
       "      <th>Litología</th>\n",
       "      <th>Contacto</th>\n",
       "      <th>Estructuras / Fósiles</th>\n",
       "      <th>Descripción</th>\n",
       "      <th>Notas</th>\n",
       "    </tr>\n",
       "  </thead>\n",
       "  <tbody>\n",
       "    <tr>\n",
       "      <th>0</th>\n",
       "      <td>NaN</td>\n",
       "      <td>30</td>\n",
       "      <td>Sr</td>\n",
       "      <td>E</td>\n",
       "      <td>R</td>\n",
       "      <td>Arenisca fina con intraclastos</td>\n",
       "      <td>NaN</td>\n",
       "    </tr>\n",
       "    <tr>\n",
       "      <th>1</th>\n",
       "      <td>NaN</td>\n",
       "      <td>25</td>\n",
       "      <td>Sr</td>\n",
       "      <td>G</td>\n",
       "      <td>R</td>\n",
       "      <td>Arenisca media</td>\n",
       "      <td>NaN</td>\n",
       "    </tr>\n",
       "    <tr>\n",
       "      <th>2</th>\n",
       "      <td>NaN</td>\n",
       "      <td>100</td>\n",
       "      <td>Gr</td>\n",
       "      <td>NaN</td>\n",
       "      <td>F</td>\n",
       "      <td>Grava</td>\n",
       "      <td>NaN</td>\n",
       "    </tr>\n",
       "  </tbody>\n",
       "</table>\n",
       "</div>"
      ],
      "text/plain": [
       "   Unnamed: 0  Espesor Litología Contacto Estructuras / Fósiles  \\\n",
       "0         NaN       30        Sr        E                     R   \n",
       "1         NaN       25        Sr        G                     R   \n",
       "2         NaN      100        Gr      NaN                     F   \n",
       "\n",
       "                       Descripción  Notas  \n",
       "0  Arenisca fina con intraclastos     NaN  \n",
       "1                  Arenisca media     NaN  \n",
       "2                            Grava    NaN  "
      ]
     },
     "execution_count": 153,
     "metadata": {},
     "output_type": "execute_result"
    }
   ],
   "source": [
    "datos = pd.read_excel(cwd + \"\\datos.xlsx\")\n",
    "datos"
   ]
  },
  {
   "cell_type": "code",
   "execution_count": 154,
   "id": "b2de5c09",
   "metadata": {},
   "outputs": [],
   "source": [
    "#cargo con none los campos para el CSV de SedLog\n",
    "none = []\n",
    "for i in range(len(datos)):\n",
    "    none.append('<none>')\n",
    "\n",
    "for item in sedlogcolumns:\n",
    "    sedLogCSV[item] = none "
   ]
  },
  {
   "cell_type": "markdown",
   "id": "fa1690bd",
   "metadata": {},
   "source": [
    "### Cargamos los campos"
   ]
  },
  {
   "cell_type": "code",
   "execution_count": 155,
   "id": "1a75cbc9",
   "metadata": {},
   "outputs": [],
   "source": [
    "#'THICKNESS (CM)'\n",
    "sedLogCSV['THICKNESS (CM)'] = datos['Espesor'].to_list()"
   ]
  },
  {
   "cell_type": "code",
   "execution_count": 159,
   "id": "03904927",
   "metadata": {},
   "outputs": [],
   "source": [
    "#'BASE BOUNDARY'\n",
    "listContact = []\n",
    "dictContact = {'<none>':'<none>',\n",
    "               'S':'Sharp',\n",
    "               'E':'Erosion',\n",
    "               'G':'Gradational'}\n",
    "\n",
    "for item in datos['Contacto'].to_list():\n",
    "    listContact.append(dictContact.get(item))\n",
    "    \n",
    "sedLogCSV['BASE BOUNDARY'] = listContact"
   ]
  },
  {
   "cell_type": "code",
   "execution_count": 160,
   "id": "a051edbe",
   "metadata": {},
   "outputs": [
    {
     "data": {
      "text/html": [
       "<div>\n",
       "<style scoped>\n",
       "    .dataframe tbody tr th:only-of-type {\n",
       "        vertical-align: middle;\n",
       "    }\n",
       "\n",
       "    .dataframe tbody tr th {\n",
       "        vertical-align: top;\n",
       "    }\n",
       "\n",
       "    .dataframe thead th {\n",
       "        text-align: right;\n",
       "    }\n",
       "</style>\n",
       "<table border=\"1\" class=\"dataframe\">\n",
       "  <thead>\n",
       "    <tr style=\"text-align: right;\">\n",
       "      <th></th>\n",
       "      <th>THICKNESS (CM)</th>\n",
       "      <th>BASE BOUNDARY</th>\n",
       "      <th>LITHOLOGY</th>\n",
       "      <th>LITHOLOGY %</th>\n",
       "      <th>LITHOLOGY2</th>\n",
       "      <th>LITHOLOGY2 %</th>\n",
       "      <th>LITHOLOGY3</th>\n",
       "      <th>LITHOLOGY3 %</th>\n",
       "      <th>GRAIN SIZE BASE</th>\n",
       "      <th>PHI VALUES BASE</th>\n",
       "      <th>...</th>\n",
       "      <th>BIOTURBATION TYPE</th>\n",
       "      <th>INTENSITY</th>\n",
       "      <th>PALAEOCURRENT VALUES</th>\n",
       "      <th>FACIES</th>\n",
       "      <th>OTHER1 TEXT</th>\n",
       "      <th>OTHER1 SYMBOL</th>\n",
       "      <th>OTHER2 TEXT</th>\n",
       "      <th>OTHER2 SYMBOL</th>\n",
       "      <th>OTHER3 TEXT</th>\n",
       "      <th>OTHER3 SYMBOL</th>\n",
       "    </tr>\n",
       "  </thead>\n",
       "  <tbody>\n",
       "    <tr>\n",
       "      <th>0</th>\n",
       "      <td>30</td>\n",
       "      <td>Erosion</td>\n",
       "      <td>&lt;none&gt;</td>\n",
       "      <td>&lt;none&gt;</td>\n",
       "      <td>&lt;none&gt;</td>\n",
       "      <td>&lt;none&gt;</td>\n",
       "      <td>&lt;none&gt;</td>\n",
       "      <td>&lt;none&gt;</td>\n",
       "      <td>&lt;none&gt;</td>\n",
       "      <td>&lt;none&gt;</td>\n",
       "      <td>...</td>\n",
       "      <td>&lt;none&gt;</td>\n",
       "      <td>&lt;none&gt;</td>\n",
       "      <td>&lt;none&gt;</td>\n",
       "      <td>&lt;none&gt;</td>\n",
       "      <td>&lt;none&gt;</td>\n",
       "      <td>&lt;none&gt;</td>\n",
       "      <td>&lt;none&gt;</td>\n",
       "      <td>&lt;none&gt;</td>\n",
       "      <td>&lt;none&gt;</td>\n",
       "      <td>&lt;none&gt;</td>\n",
       "    </tr>\n",
       "    <tr>\n",
       "      <th>1</th>\n",
       "      <td>25</td>\n",
       "      <td>Gradational</td>\n",
       "      <td>&lt;none&gt;</td>\n",
       "      <td>&lt;none&gt;</td>\n",
       "      <td>&lt;none&gt;</td>\n",
       "      <td>&lt;none&gt;</td>\n",
       "      <td>&lt;none&gt;</td>\n",
       "      <td>&lt;none&gt;</td>\n",
       "      <td>&lt;none&gt;</td>\n",
       "      <td>&lt;none&gt;</td>\n",
       "      <td>...</td>\n",
       "      <td>&lt;none&gt;</td>\n",
       "      <td>&lt;none&gt;</td>\n",
       "      <td>&lt;none&gt;</td>\n",
       "      <td>&lt;none&gt;</td>\n",
       "      <td>&lt;none&gt;</td>\n",
       "      <td>&lt;none&gt;</td>\n",
       "      <td>&lt;none&gt;</td>\n",
       "      <td>&lt;none&gt;</td>\n",
       "      <td>&lt;none&gt;</td>\n",
       "      <td>&lt;none&gt;</td>\n",
       "    </tr>\n",
       "    <tr>\n",
       "      <th>2</th>\n",
       "      <td>100</td>\n",
       "      <td>None</td>\n",
       "      <td>&lt;none&gt;</td>\n",
       "      <td>&lt;none&gt;</td>\n",
       "      <td>&lt;none&gt;</td>\n",
       "      <td>&lt;none&gt;</td>\n",
       "      <td>&lt;none&gt;</td>\n",
       "      <td>&lt;none&gt;</td>\n",
       "      <td>&lt;none&gt;</td>\n",
       "      <td>&lt;none&gt;</td>\n",
       "      <td>...</td>\n",
       "      <td>&lt;none&gt;</td>\n",
       "      <td>&lt;none&gt;</td>\n",
       "      <td>&lt;none&gt;</td>\n",
       "      <td>&lt;none&gt;</td>\n",
       "      <td>&lt;none&gt;</td>\n",
       "      <td>&lt;none&gt;</td>\n",
       "      <td>&lt;none&gt;</td>\n",
       "      <td>&lt;none&gt;</td>\n",
       "      <td>&lt;none&gt;</td>\n",
       "      <td>&lt;none&gt;</td>\n",
       "    </tr>\n",
       "  </tbody>\n",
       "</table>\n",
       "<p>3 rows × 25 columns</p>\n",
       "</div>"
      ],
      "text/plain": [
       "   THICKNESS (CM) BASE BOUNDARY LITHOLOGY LITHOLOGY % LITHOLOGY2 LITHOLOGY2 %  \\\n",
       "0              30       Erosion    <none>      <none>     <none>       <none>   \n",
       "1              25   Gradational    <none>      <none>     <none>       <none>   \n",
       "2             100          None    <none>      <none>     <none>       <none>   \n",
       "\n",
       "  LITHOLOGY3 LITHOLOGY3 % GRAIN SIZE BASE PHI VALUES BASE  ...  \\\n",
       "0     <none>       <none>          <none>          <none>  ...   \n",
       "1     <none>       <none>          <none>          <none>  ...   \n",
       "2     <none>       <none>          <none>          <none>  ...   \n",
       "\n",
       "  BIOTURBATION TYPE INTENSITY PALAEOCURRENT VALUES  FACIES OTHER1 TEXT  \\\n",
       "0            <none>    <none>               <none>  <none>      <none>   \n",
       "1            <none>    <none>               <none>  <none>      <none>   \n",
       "2            <none>    <none>               <none>  <none>      <none>   \n",
       "\n",
       "  OTHER1 SYMBOL OTHER2 TEXT OTHER2 SYMBOL OTHER3 TEXT OTHER3 SYMBOL  \n",
       "0        <none>      <none>        <none>      <none>        <none>  \n",
       "1        <none>      <none>        <none>      <none>        <none>  \n",
       "2        <none>      <none>        <none>      <none>        <none>  \n",
       "\n",
       "[3 rows x 25 columns]"
      ]
     },
     "execution_count": 160,
     "metadata": {},
     "output_type": "execute_result"
    }
   ],
   "source": [
    "#'LITHOLOGY'\n",
    "listLitho1 = []\n",
    "listEstru = []\n",
    "dictLitho1 = {'<none>':'<none>',\n",
    "               'S':'Sharp',\n",
    "               'E':'Erosion',\n",
    "               'G':'Gradational'}\n",
    "\n",
    "for item in datos['Litología'].to_list():\n",
    "    listContact.append(dictContact.get(item))\n",
    "    \n",
    "sedLogCSV['BASE BOUNDARY'] = listContact\n"
   ]
  },
  {
   "cell_type": "code",
   "execution_count": 40,
   "id": "e7a93681",
   "metadata": {},
   "outputs": [
    {
     "data": {
      "text/plain": [
       "25"
      ]
     },
     "execution_count": 40,
     "metadata": {},
     "output_type": "execute_result"
    }
   ],
   "source": [
    "len(sedlogcolumns)"
   ]
  },
  {
   "cell_type": "code",
   "execution_count": 63,
   "id": "678c9fa1",
   "metadata": {},
   "outputs": [
    {
     "data": {
      "text/html": [
       "<div>\n",
       "<style scoped>\n",
       "    .dataframe tbody tr th:only-of-type {\n",
       "        vertical-align: middle;\n",
       "    }\n",
       "\n",
       "    .dataframe tbody tr th {\n",
       "        vertical-align: top;\n",
       "    }\n",
       "\n",
       "    .dataframe thead th {\n",
       "        text-align: right;\n",
       "    }\n",
       "</style>\n",
       "<table border=\"1\" class=\"dataframe\">\n",
       "  <thead>\n",
       "    <tr style=\"text-align: right;\">\n",
       "      <th></th>\n",
       "      <th>THICKNESS (CM)</th>\n",
       "      <th>BASE BOUNDARY</th>\n",
       "      <th>LITHOLOGY</th>\n",
       "      <th>LITHOLOGY %</th>\n",
       "      <th>LITHOLOGY2</th>\n",
       "      <th>LITHOLOGY2 %</th>\n",
       "      <th>LITHOLOGY3</th>\n",
       "      <th>LITHOLOGY3 %</th>\n",
       "      <th>GRAIN SIZE BASE</th>\n",
       "      <th>PHI VALUES BASE</th>\n",
       "      <th>...</th>\n",
       "      <th>BIOTURBATION TYPE</th>\n",
       "      <th>INTENSITY</th>\n",
       "      <th>PALAEOCURRENT VALUES</th>\n",
       "      <th>FACIES</th>\n",
       "      <th>OTHER1 TEXT</th>\n",
       "      <th>OTHER1 SYMBOL</th>\n",
       "      <th>OTHER2 TEXT</th>\n",
       "      <th>OTHER2 SYMBOL</th>\n",
       "      <th>OTHER3 TEXT</th>\n",
       "      <th>OTHER3 SYMBOL</th>\n",
       "    </tr>\n",
       "  </thead>\n",
       "  <tbody>\n",
       "  </tbody>\n",
       "</table>\n",
       "<p>0 rows × 25 columns</p>\n",
       "</div>"
      ],
      "text/plain": [
       "Empty DataFrame\n",
       "Columns: [THICKNESS (CM), BASE BOUNDARY, LITHOLOGY, LITHOLOGY %, LITHOLOGY2, LITHOLOGY2 %, LITHOLOGY3, LITHOLOGY3 %, GRAIN SIZE BASE, PHI VALUES BASE, GRAIN SIZE TOP, PHI VALUES TOP, SYMBOLS IN BED, SYMBOLS/STRUCTURES, NOTES COLUMN, BIOTURBATION TYPE, INTENSITY, PALAEOCURRENT VALUES, FACIES, OTHER1 TEXT, OTHER1 SYMBOL, OTHER2 TEXT, OTHER2 SYMBOL, OTHER3 TEXT, OTHER3 SYMBOL]\n",
       "Index: []\n",
       "\n",
       "[0 rows x 25 columns]"
      ]
     },
     "execution_count": 63,
     "metadata": {},
     "output_type": "execute_result"
    }
   ],
   "source": [
    "   \n"
   ]
  },
  {
   "cell_type": "code",
   "execution_count": 85,
   "id": "a70422a4",
   "metadata": {},
   "outputs": [],
   "source": [
    "sedLogCSV.to_csv(cwd + \"\\\\sedLogCSV.csv\", index =False)"
   ]
  },
  {
   "cell_type": "code",
   "execution_count": 84,
   "id": "beae7230",
   "metadata": {},
   "outputs": [],
   "source": [
    "df.to_csv(cwd + \"\\\\sedLogCSV.csv\", index =False)"
   ]
  }
 ],
 "metadata": {
  "kernelspec": {
   "display_name": "Python 3",
   "language": "python",
   "name": "python3"
  },
  "language_info": {
   "codemirror_mode": {
    "name": "ipython",
    "version": 3
   },
   "file_extension": ".py",
   "mimetype": "text/x-python",
   "name": "python",
   "nbconvert_exporter": "python",
   "pygments_lexer": "ipython3",
   "version": "3.8.8"
  }
 },
 "nbformat": 4,
 "nbformat_minor": 5
}
