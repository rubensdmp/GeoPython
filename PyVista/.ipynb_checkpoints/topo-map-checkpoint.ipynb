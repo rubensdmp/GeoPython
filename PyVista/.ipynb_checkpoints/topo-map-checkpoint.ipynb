{
 "cells": [
  {
   "cell_type": "code",
   "execution_count": null,
   "metadata": {},
   "outputs": [],
   "source": [
    "%matplotlib inline\n",
    "from pyvista import set_plot_theme\n",
    "set_plot_theme('document')\n",
    "pyvista._wrappers['vtkPolyData'] = pyvista.PolyData"
   ]
  },
  {
   "cell_type": "markdown",
   "metadata": {},
   "source": [
    "Topographic Map {#ref_topo_map_example}\n",
    "===============\n",
    "\n",
    "This is very similar to the `ref_texture_example`{.interpreted-text\n",
    "role=\"ref\"} example except it is focused on plotting aerial imagery from\n",
    "a GeoTIFF on top of some topography mesh.\n"
   ]
  },
  {
   "cell_type": "code",
   "execution_count": null,
   "metadata": {},
   "outputs": [],
   "source": [
    "# sphinx_gallery_thumbnail_number = 4\n",
    "\n",
    "import pyvista as pv\n",
    "from pyvista import examples\n",
    "\n",
    "# Load the elevation data as a surface\n",
    "elevation = examples.download_crater_topo().warp_by_scalar()\n",
    "# Load the topographic map from a GeoTiff\n",
    "topo_map = examples.download_crater_imagery()\n",
    "\n",
    "elevation"
   ]
  },
  {
   "cell_type": "markdown",
   "metadata": {},
   "source": [
    "Let\\'s inspect the imagery that we just loaded\n"
   ]
  },
  {
   "cell_type": "code",
   "execution_count": null,
   "metadata": {},
   "outputs": [],
   "source": [
    "import matplotlib.pyplot as plt\n",
    "import matplotlib as mpl\n",
    "mpl.rcParams['figure.dpi'] = 500\n",
    "\n",
    "plt.imshow(topo_map.to_array())"
   ]
  },
  {
   "cell_type": "markdown",
   "metadata": {},
   "source": [
    "Once you have a topography mesh loaded as a surface mesh (we use a\n",
    "`pyvista.StructuredGrid`{.interpreted-text role=\"class\"} here) and an\n",
    "image loaded as a `pyvista.Texture`{.interpreted-text role=\"class\"}\n",
    "object using the `pyvista.read_texture`{.interpreted-text role=\"func\"}\n",
    "method, then you can map that imagery to the surface mesh as follows:\n"
   ]
  },
  {
   "cell_type": "code",
   "execution_count": null,
   "metadata": {},
   "outputs": [],
   "source": [
    "# Bounds of the aerial imagery - given to us\n",
    "bounds = (1818000, 1824500, 5645000, 5652500, 0, 3000)\n",
    "# Clip the elevation dataset to the map's extent\n",
    "local = elevation.clip_box(bounds, invert=False)\n",
    "# Apply texturing coordinates to associate the image to the surface\n",
    "local.texture_map_to_plane(use_bounds=True, inplace=True)"
   ]
  },
  {
   "cell_type": "markdown",
   "metadata": {},
   "source": [
    "Now display it! Note that the imagery is aligned as we expect.\n"
   ]
  },
  {
   "cell_type": "code",
   "execution_count": null,
   "metadata": {},
   "outputs": [],
   "source": [
    "local.plot(texture=topo_map, cpos=\"xy\")"
   ]
  },
  {
   "cell_type": "markdown",
   "metadata": {},
   "source": [
    "And here is a 3D perspective!\n"
   ]
  },
  {
   "cell_type": "code",
   "execution_count": null,
   "metadata": {},
   "outputs": [],
   "source": [
    "local.plot(texture=topo_map)"
   ]
  },
  {
   "cell_type": "markdown",
   "metadata": {},
   "source": [
    "We could also display the entire region by extracting the surrounding\n",
    "region and plotting the texture mapped local topography and the outside\n",
    "area\n"
   ]
  },
  {
   "cell_type": "code",
   "execution_count": null,
   "metadata": {},
   "outputs": [],
   "source": [
    "# Extract surrounding region from elevation data\n",
    "surrounding = elevation.clip_box(bounds, invert=True)\n",
    "\n",
    "# Display with a shading technique\n",
    "p = pv.Plotter()\n",
    "p.add_mesh(local, texture=topo_map)\n",
    "p.add_mesh(surrounding, color=\"white\")\n",
    "p.enable_eye_dome_lighting()\n",
    "p.camera_position = [(1831100., 5642142., 8168.),\n",
    "                     (1820841., 5648745., 1104.),\n",
    "                     (-0.435, 0.248, 0.865)]\n",
    "p.show()"
   ]
  }
 ],
 "metadata": {
  "kernelspec": {
   "display_name": "Python 3",
   "language": "python",
   "name": "python3"
  },
  "language_info": {
   "codemirror_mode": {
    "name": "ipython",
    "version": 3
   },
   "file_extension": ".py",
   "mimetype": "text/x-python",
   "name": "python",
   "nbconvert_exporter": "python",
   "pygments_lexer": "ipython3",
   "version": "3.8.8"
  }
 },
 "nbformat": 4,
 "nbformat_minor": 1
}
