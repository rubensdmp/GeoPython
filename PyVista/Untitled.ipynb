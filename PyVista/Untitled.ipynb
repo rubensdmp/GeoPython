{
 "cells": [
  {
   "cell_type": "code",
   "execution_count": 1,
   "id": "a622c0ab",
   "metadata": {},
   "outputs": [
    {
     "name": "stdout",
     "output_type": "stream",
     "text": [
      "Collecting ipyvtklink\n",
      "  Downloading ipyvtklink-0.2.1-py3-none-any.whl (9.2 kB)\n",
      "Requirement already satisfied: ipyevents>=0.8.0 in c:\\programs\\anaconda3\\lib\\site-packages (from ipyvtklink) (2.0.1)\n",
      "Requirement already satisfied: ipywidgets in c:\\programs\\anaconda3\\lib\\site-packages (from ipyvtklink) (7.6.3)\n",
      "Collecting ipycanvas>=0.5.0\n",
      "  Downloading ipycanvas-0.9.1-py2.py3-none-any.whl (246 kB)\n",
      "Requirement already satisfied: pillow>=6.0 in c:\\programs\\anaconda3\\lib\\site-packages (from ipycanvas>=0.5.0->ipyvtklink) (8.2.0)\n",
      "Requirement already satisfied: numpy in c:\\programs\\anaconda3\\lib\\site-packages (from ipycanvas>=0.5.0->ipyvtklink) (1.20.1)\n",
      "Requirement already satisfied: jupyterlab-widgets>=1.0.0 in c:\\programs\\anaconda3\\lib\\site-packages (from ipywidgets->ipyvtklink) (1.0.0)\n",
      "Requirement already satisfied: ipykernel>=4.5.1 in c:\\programs\\anaconda3\\lib\\site-packages (from ipywidgets->ipyvtklink) (5.3.4)\n",
      "Requirement already satisfied: traitlets>=4.3.1 in c:\\programs\\anaconda3\\lib\\site-packages (from ipywidgets->ipyvtklink) (5.0.5)\n",
      "Requirement already satisfied: nbformat>=4.2.0 in c:\\programs\\anaconda3\\lib\\site-packages (from ipywidgets->ipyvtklink) (5.1.3)\n",
      "Requirement already satisfied: ipython>=4.0.0 in c:\\programs\\anaconda3\\lib\\site-packages (from ipywidgets->ipyvtklink) (7.22.0)\n",
      "Requirement already satisfied: widgetsnbextension~=3.5.0 in c:\\programs\\anaconda3\\lib\\site-packages (from ipywidgets->ipyvtklink) (3.5.1)\n",
      "Requirement already satisfied: jupyter-client in c:\\programs\\anaconda3\\lib\\site-packages (from ipykernel>=4.5.1->ipywidgets->ipyvtklink) (6.1.12)\n",
      "Requirement already satisfied: tornado>=4.2 in c:\\programs\\anaconda3\\lib\\site-packages (from ipykernel>=4.5.1->ipywidgets->ipyvtklink) (6.1)\n",
      "Requirement already satisfied: backcall in c:\\programs\\anaconda3\\lib\\site-packages (from ipython>=4.0.0->ipywidgets->ipyvtklink) (0.2.0)\n",
      "Requirement already satisfied: jedi>=0.16 in c:\\programs\\anaconda3\\lib\\site-packages (from ipython>=4.0.0->ipywidgets->ipyvtklink) (0.17.2)\n",
      "Requirement already satisfied: pickleshare in c:\\programs\\anaconda3\\lib\\site-packages (from ipython>=4.0.0->ipywidgets->ipyvtklink) (0.7.5)\n",
      "Requirement already satisfied: setuptools>=18.5 in c:\\programs\\anaconda3\\lib\\site-packages (from ipython>=4.0.0->ipywidgets->ipyvtklink) (52.0.0.post20210125)\n",
      "Requirement already satisfied: pygments in c:\\programs\\anaconda3\\lib\\site-packages (from ipython>=4.0.0->ipywidgets->ipyvtklink) (2.8.1)\n",
      "Requirement already satisfied: colorama in c:\\programs\\anaconda3\\lib\\site-packages (from ipython>=4.0.0->ipywidgets->ipyvtklink) (0.4.4)\n",
      "Requirement already satisfied: decorator in c:\\programs\\anaconda3\\lib\\site-packages (from ipython>=4.0.0->ipywidgets->ipyvtklink) (5.0.6)\n",
      "Requirement already satisfied: prompt-toolkit!=3.0.0,!=3.0.1,<3.1.0,>=2.0.0 in c:\\programs\\anaconda3\\lib\\site-packages (from ipython>=4.0.0->ipywidgets->ipyvtklink) (3.0.17)\n",
      "Requirement already satisfied: parso<0.8.0,>=0.7.0 in c:\\programs\\anaconda3\\lib\\site-packages (from jedi>=0.16->ipython>=4.0.0->ipywidgets->ipyvtklink) (0.7.0)\n",
      "Requirement already satisfied: ipython-genutils in c:\\programs\\anaconda3\\lib\\site-packages (from nbformat>=4.2.0->ipywidgets->ipyvtklink) (0.2.0)\n",
      "Requirement already satisfied: jsonschema!=2.5.0,>=2.4 in c:\\programs\\anaconda3\\lib\\site-packages (from nbformat>=4.2.0->ipywidgets->ipyvtklink) (3.2.0)\n",
      "Requirement already satisfied: jupyter-core in c:\\programs\\anaconda3\\lib\\site-packages (from nbformat>=4.2.0->ipywidgets->ipyvtklink) (4.7.1)\n",
      "Requirement already satisfied: attrs>=17.4.0 in c:\\programs\\anaconda3\\lib\\site-packages (from jsonschema!=2.5.0,>=2.4->nbformat>=4.2.0->ipywidgets->ipyvtklink) (20.3.0)\n",
      "Requirement already satisfied: pyrsistent>=0.14.0 in c:\\programs\\anaconda3\\lib\\site-packages (from jsonschema!=2.5.0,>=2.4->nbformat>=4.2.0->ipywidgets->ipyvtklink) (0.17.3)\n",
      "Requirement already satisfied: six>=1.11.0 in c:\\programs\\anaconda3\\lib\\site-packages (from jsonschema!=2.5.0,>=2.4->nbformat>=4.2.0->ipywidgets->ipyvtklink) (1.15.0)\n",
      "Requirement already satisfied: wcwidth in c:\\programs\\anaconda3\\lib\\site-packages (from prompt-toolkit!=3.0.0,!=3.0.1,<3.1.0,>=2.0.0->ipython>=4.0.0->ipywidgets->ipyvtklink) (0.2.5)\n",
      "Requirement already satisfied: notebook>=4.4.1 in c:\\programs\\anaconda3\\lib\\site-packages (from widgetsnbextension~=3.5.0->ipywidgets->ipyvtklink) (6.3.0)\n",
      "Requirement already satisfied: pyzmq>=17 in c:\\programs\\anaconda3\\lib\\site-packages (from notebook>=4.4.1->widgetsnbextension~=3.5.0->ipywidgets->ipyvtklink) (20.0.0)\n",
      "Requirement already satisfied: jinja2 in c:\\programs\\anaconda3\\lib\\site-packages (from notebook>=4.4.1->widgetsnbextension~=3.5.0->ipywidgets->ipyvtklink) (2.11.3)\n",
      "Requirement already satisfied: Send2Trash>=1.5.0 in c:\\programs\\anaconda3\\lib\\site-packages (from notebook>=4.4.1->widgetsnbextension~=3.5.0->ipywidgets->ipyvtklink) (1.5.0)\n",
      "Requirement already satisfied: argon2-cffi in c:\\programs\\anaconda3\\lib\\site-packages (from notebook>=4.4.1->widgetsnbextension~=3.5.0->ipywidgets->ipyvtklink) (20.1.0)\n",
      "Requirement already satisfied: terminado>=0.8.3 in c:\\programs\\anaconda3\\lib\\site-packages (from notebook>=4.4.1->widgetsnbextension~=3.5.0->ipywidgets->ipyvtklink) (0.9.4)\n",
      "Requirement already satisfied: nbconvert in c:\\programs\\anaconda3\\lib\\site-packages (from notebook>=4.4.1->widgetsnbextension~=3.5.0->ipywidgets->ipyvtklink) (6.0.7)\n",
      "Requirement already satisfied: prometheus-client in c:\\programs\\anaconda3\\lib\\site-packages (from notebook>=4.4.1->widgetsnbextension~=3.5.0->ipywidgets->ipyvtklink) (0.10.1)\n",
      "Requirement already satisfied: python-dateutil>=2.1 in c:\\programs\\anaconda3\\lib\\site-packages (from jupyter-client->ipykernel>=4.5.1->ipywidgets->ipyvtklink) (2.8.1)\n",
      "Requirement already satisfied: pywin32>=1.0 in c:\\programs\\anaconda3\\lib\\site-packages (from jupyter-core->nbformat>=4.2.0->ipywidgets->ipyvtklink) (227)\n",
      "Requirement already satisfied: pywinpty>=0.5 in c:\\programs\\anaconda3\\lib\\site-packages (from terminado>=0.8.3->notebook>=4.4.1->widgetsnbextension~=3.5.0->ipywidgets->ipyvtklink) (0.5.7)\n",
      "Requirement already satisfied: cffi>=1.0.0 in c:\\programs\\anaconda3\\lib\\site-packages (from argon2-cffi->notebook>=4.4.1->widgetsnbextension~=3.5.0->ipywidgets->ipyvtklink) (1.14.5)\n",
      "Requirement already satisfied: pycparser in c:\\programs\\anaconda3\\lib\\site-packages (from cffi>=1.0.0->argon2-cffi->notebook>=4.4.1->widgetsnbextension~=3.5.0->ipywidgets->ipyvtklink) (2.20)\n",
      "Requirement already satisfied: MarkupSafe>=0.23 in c:\\programs\\anaconda3\\lib\\site-packages (from jinja2->notebook>=4.4.1->widgetsnbextension~=3.5.0->ipywidgets->ipyvtklink) (1.1.1)\n",
      "Requirement already satisfied: mistune<2,>=0.8.1 in c:\\programs\\anaconda3\\lib\\site-packages (from nbconvert->notebook>=4.4.1->widgetsnbextension~=3.5.0->ipywidgets->ipyvtklink) (0.8.4)\n",
      "Requirement already satisfied: nbclient<0.6.0,>=0.5.0 in c:\\programs\\anaconda3\\lib\\site-packages (from nbconvert->notebook>=4.4.1->widgetsnbextension~=3.5.0->ipywidgets->ipyvtklink) (0.5.3)\n",
      "Requirement already satisfied: jupyterlab-pygments in c:\\programs\\anaconda3\\lib\\site-packages (from nbconvert->notebook>=4.4.1->widgetsnbextension~=3.5.0->ipywidgets->ipyvtklink) (0.1.2)\n",
      "Requirement already satisfied: testpath in c:\\programs\\anaconda3\\lib\\site-packages (from nbconvert->notebook>=4.4.1->widgetsnbextension~=3.5.0->ipywidgets->ipyvtklink) (0.4.4)\n",
      "Requirement already satisfied: pandocfilters>=1.4.1 in c:\\programs\\anaconda3\\lib\\site-packages (from nbconvert->notebook>=4.4.1->widgetsnbextension~=3.5.0->ipywidgets->ipyvtklink) (1.4.3)\n",
      "Requirement already satisfied: bleach in c:\\programs\\anaconda3\\lib\\site-packages (from nbconvert->notebook>=4.4.1->widgetsnbextension~=3.5.0->ipywidgets->ipyvtklink) (3.3.0)\n",
      "Requirement already satisfied: defusedxml in c:\\programs\\anaconda3\\lib\\site-packages (from nbconvert->notebook>=4.4.1->widgetsnbextension~=3.5.0->ipywidgets->ipyvtklink) (0.7.1)\n",
      "Requirement already satisfied: entrypoints>=0.2.2 in c:\\programs\\anaconda3\\lib\\site-packages (from nbconvert->notebook>=4.4.1->widgetsnbextension~=3.5.0->ipywidgets->ipyvtklink) (0.3)\n",
      "Requirement already satisfied: nest-asyncio in c:\\programs\\anaconda3\\lib\\site-packages (from nbclient<0.6.0,>=0.5.0->nbconvert->notebook>=4.4.1->widgetsnbextension~=3.5.0->ipywidgets->ipyvtklink) (1.5.1)\n",
      "Requirement already satisfied: async-generator in c:\\programs\\anaconda3\\lib\\site-packages (from nbclient<0.6.0,>=0.5.0->nbconvert->notebook>=4.4.1->widgetsnbextension~=3.5.0->ipywidgets->ipyvtklink) (1.10)\n",
      "Requirement already satisfied: packaging in c:\\programs\\anaconda3\\lib\\site-packages (from bleach->nbconvert->notebook>=4.4.1->widgetsnbextension~=3.5.0->ipywidgets->ipyvtklink) (20.9)\n",
      "Requirement already satisfied: webencodings in c:\\programs\\anaconda3\\lib\\site-packages (from bleach->nbconvert->notebook>=4.4.1->widgetsnbextension~=3.5.0->ipywidgets->ipyvtklink) (0.5.1)\n",
      "Requirement already satisfied: pyparsing>=2.0.2 in c:\\programs\\anaconda3\\lib\\site-packages (from packaging->bleach->nbconvert->notebook>=4.4.1->widgetsnbextension~=3.5.0->ipywidgets->ipyvtklink) (2.4.7)\n",
      "Installing collected packages: ipycanvas, ipyvtklink\n",
      "Successfully installed ipycanvas-0.9.1 ipyvtklink-0.2.1\n"
     ]
    }
   ],
   "source": [
    "#!pip install pyvista\n",
    "!pip install ipyvtklink"
   ]
  },
  {
   "cell_type": "code",
   "execution_count": 9,
   "id": "baa95c03",
   "metadata": {},
   "outputs": [
    {
     "data": {
      "application/vnd.jupyter.widget-view+json": {
       "model_id": "88ecaa143eb14ca7b23565c8eff4d731",
       "version_major": 2,
       "version_minor": 0
      },
      "text/plain": [
       "ViewInteractiveWidget(height=768, layout=Layout(height='auto', width='100%'), width=1024)"
      ]
     },
     "metadata": {},
     "output_type": "display_data"
    }
   ],
   "source": [
    "from pyvista import examples\n",
    "mesh = examples.download_st_helens()\n",
    "warped = mesh.warp_by_scalar('Elevation')\n",
    "surf = warped.extract_surface().triangulate()\n",
    "surf = surf.decimate_pro(0.75)  # reduce the density of the mesh by 75%\n",
    "surf.plot(cmap='gist_earth')\n"
   ]
  },
  {
   "cell_type": "code",
   "execution_count": null,
   "id": "6195d4c9",
   "metadata": {},
   "outputs": [
    {
     "name": "stderr",
     "output_type": "stream",
     "text": [
      "ERROR:root:failed to get wglChoosePixelFormatARB\n",
      "ERROR:root:failed to get valid pixel format.\n"
     ]
    }
   ],
   "source": [
    "# Get system info\n",
    "import pyvista as pv\n",
    "print(pv.Report())"
   ]
  },
  {
   "cell_type": "code",
   "execution_count": null,
   "id": "d9ebfc81-710b-4fc9-8b1d-99b654001633",
   "metadata": {},
   "outputs": [],
   "source": []
  },
  {
   "cell_type": "code",
   "execution_count": 10,
   "id": "e615cdff",
   "metadata": {},
   "outputs": [
    {
     "ename": "AttributeError",
     "evalue": "'Plotter' object has no attribute 'enable_plane_widget'",
     "output_type": "error",
     "traceback": [
      "\u001b[1;31m---------------------------------------------------------------------------\u001b[0m",
      "\u001b[1;31mAttributeError\u001b[0m                            Traceback (most recent call last)",
      "\u001b[1;32m<ipython-input-10-43439866bfb9>\u001b[0m in \u001b[0;36m<module>\u001b[1;34m\u001b[0m\n\u001b[0;32m     22\u001b[0m \u001b[1;33m\u001b[0m\u001b[0m\n\u001b[0;32m     23\u001b[0m \u001b[0mp\u001b[0m\u001b[1;33m.\u001b[0m\u001b[0msubplot\u001b[0m\u001b[1;33m(\u001b[0m\u001b[1;36m0\u001b[0m\u001b[1;33m)\u001b[0m\u001b[1;33m\u001b[0m\u001b[1;33m\u001b[0m\u001b[0m\n\u001b[1;32m---> 24\u001b[1;33m \u001b[0mp\u001b[0m\u001b[1;33m.\u001b[0m\u001b[0menable_plane_widget\u001b[0m\u001b[1;33m(\u001b[0m\u001b[0mxcallback\u001b[0m\u001b[1;33m,\u001b[0m \u001b[0mnormal\u001b[0m\u001b[1;33m=\u001b[0m\u001b[1;34m\"x\"\u001b[0m\u001b[1;33m)\u001b[0m\u001b[1;33m\u001b[0m\u001b[1;33m\u001b[0m\u001b[0m\n\u001b[0m\u001b[0;32m     25\u001b[0m \u001b[0mp\u001b[0m\u001b[1;33m.\u001b[0m\u001b[0msubplot\u001b[0m\u001b[1;33m(\u001b[0m\u001b[1;36m0\u001b[0m\u001b[1;33m)\u001b[0m\u001b[1;33m\u001b[0m\u001b[1;33m\u001b[0m\u001b[0m\n\u001b[0;32m     26\u001b[0m \u001b[0mp\u001b[0m\u001b[1;33m.\u001b[0m\u001b[0menable_plane_widget\u001b[0m\u001b[1;33m(\u001b[0m\u001b[0mycallback\u001b[0m\u001b[1;33m,\u001b[0m \u001b[0mnormal\u001b[0m\u001b[1;33m=\u001b[0m\u001b[1;34m\"y\"\u001b[0m\u001b[1;33m)\u001b[0m\u001b[1;33m\u001b[0m\u001b[1;33m\u001b[0m\u001b[0m\n",
      "\u001b[1;31mAttributeError\u001b[0m: 'Plotter' object has no attribute 'enable_plane_widget'"
     ]
    }
   ],
   "source": [
    "import pyvista as pv\n",
    "from pyvista import examples\n",
    "\n",
    "mesh = examples.load_random_hills()\n",
    "\n",
    "p = pv.Plotter(notebook=False, shape=\"1|3\")\n",
    "# Main scene\n",
    "p.add_mesh(mesh)\n",
    "\n",
    "\n",
    "def xcallback(normal, origin):\n",
    "    p.subplot(1)\n",
    "    p.add_mesh(mesh.slice(normal=normal, origin=origin), name=\"xslc\")\n",
    "    \n",
    "def ycallback(normal, origin):\n",
    "    p.subplot(2)\n",
    "    p.add_mesh(mesh.slice(normal=normal, origin=origin), name=\"yslc\")\n",
    "    \n",
    "def zcallback(normal, origin):\n",
    "    p.subplot(3)\n",
    "    p.add_mesh(mesh.slice(normal=normal, origin=origin), name=\"zslc\")\n",
    "\n",
    "p.subplot(0)\n",
    "p.enable_plane_widget(xcallback, normal=\"x\")\n",
    "p.subplot(0)\n",
    "p.enable_plane_widget(ycallback, normal=\"y\")\n",
    "p.subplot(0)\n",
    "p.enable_plane_widget(zcallback, normal=\"z\")\n",
    "\n",
    "# Lock other three views in place\n",
    "p.subplot(1)\n",
    "p.view_yz()\n",
    "p.disable()\n",
    "p.subplot(2)\n",
    "p.view_xz()\n",
    "p.disable()\n",
    "p.subplot(3)\n",
    "p.view_xy()\n",
    "p.disable()\n",
    "\n",
    "p.show()"
   ]
  },
  {
   "cell_type": "code",
   "execution_count": null,
   "id": "23522b41",
   "metadata": {},
   "outputs": [],
   "source": []
  }
 ],
 "metadata": {
  "kernelspec": {
   "display_name": "Python 3",
   "language": "python",
   "name": "python3"
  },
  "language_info": {
   "codemirror_mode": {
    "name": "ipython",
    "version": 3
   },
   "file_extension": ".py",
   "mimetype": "text/x-python",
   "name": "python",
   "nbconvert_exporter": "python",
   "pygments_lexer": "ipython3",
   "version": "3.8.8"
  }
 },
 "nbformat": 4,
 "nbformat_minor": 5
}
