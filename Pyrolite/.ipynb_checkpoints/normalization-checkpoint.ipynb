{
 "cells": [
  {
   "cell_type": "code",
   "execution_count": null,
   "metadata": {},
   "outputs": [],
   "source": [
    "%matplotlib inline"
   ]
  },
  {
   "cell_type": "markdown",
   "metadata": {},
   "source": [
    "\n",
    "# Normalization\n",
    "\n",
    "A selection of reference compositions are included in pyrolite, and can be easily\n",
    "accessed with :func:`pyrolite.geochem.norm.get_reference_composition` (see the list\n",
    "at the bottom of the page for a complete list):\n"
   ]
  },
  {
   "cell_type": "code",
   "execution_count": null,
   "metadata": {},
   "outputs": [],
   "source": [
    "import pandas as pd\n",
    "import matplotlib.pyplot as plt\n",
    "import pyrolite.plot\n",
    "from pyrolite.geochem.ind import REE\n",
    "from pyrolite.geochem.norm import get_reference_composition, all_reference_compositions"
   ]
  },
  {
   "cell_type": "code",
   "execution_count": null,
   "metadata": {},
   "outputs": [],
   "source": [
    "chondrite = get_reference_composition(\"Chondrite_PON\")"
   ]
  },
  {
   "cell_type": "markdown",
   "metadata": {},
   "source": [
    "To use the compositions with a specific set of units, you can change them with\n",
    ":func:`~pyrolite.geochem.norm.Composition.set_units`:\n",
    "\n",
    "\n"
   ]
  },
  {
   "cell_type": "code",
   "execution_count": null,
   "metadata": {},
   "outputs": [],
   "source": [
    "CI = chondrite.set_units(\"ppm\")"
   ]
  },
  {
   "cell_type": "markdown",
   "metadata": {},
   "source": [
    "The :func:`~pyrolite.geochem.pyrochem.normalize_to` method can be used to\n",
    "normalise DataFrames to a given reference (e.g. for spiderplots):\n",
    "\n",
    "\n"
   ]
  },
  {
   "cell_type": "code",
   "execution_count": null,
   "metadata": {},
   "outputs": [],
   "source": [
    "fig, ax = plt.subplots(1)\n",
    "\n",
    "for name, ref in list(all_reference_compositions().items())[::2]:\n",
    "    if name != \"Chondrite_PON\":\n",
    "        ref.set_units(\"ppm\")\n",
    "        df = ref.comp.pyrochem.REE.pyrochem.normalize_to(CI, units=\"ppm\")\n",
    "        df.pyroplot.REE(unity_line=True, ax=ax, label=name)\n",
    "\n",
    "ax.set_ylabel(\"X/X$_{Chondrite}$\")\n",
    "ax.legend()\n",
    "plt.show()"
   ]
  },
  {
   "cell_type": "markdown",
   "metadata": {},
   "source": [
    ".. seealso::\n",
    "\n",
    "  Examples:\n",
    "    `lambdas: Parameterising REE Profiles <lambdas.html>`__,\n",
    "    `REE Radii Plot <../plotting/REE_v_radii.html>`__\n",
    "\n",
    "Currently available models include:\n",
    "\n",
    "|refcomps|\n",
    "\n"
   ]
  }
 ],
 "metadata": {
  "kernelspec": {
   "display_name": "Python 3",
   "language": "python",
   "name": "python3"
  },
  "language_info": {
   "codemirror_mode": {
    "name": "ipython",
    "version": 3
   },
   "file_extension": ".py",
   "mimetype": "text/x-python",
   "name": "python",
   "nbconvert_exporter": "python",
   "pygments_lexer": "ipython3",
   "version": "3.8.8"
  }
 },
 "nbformat": 4,
 "nbformat_minor": 1
}
