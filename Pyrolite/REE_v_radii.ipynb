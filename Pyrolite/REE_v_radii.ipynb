{
  "cells": [
    {
      "cell_type": "code",
      "execution_count": null,
      "metadata": {
        "collapsed": false
      },
      "outputs": [],
      "source": [
        "%matplotlib inline"
      ]
    },
    {
      "cell_type": "markdown",
      "metadata": {},
      "source": [
        "\n# REE Radii Plots\n"
      ]
    },
    {
      "cell_type": "code",
      "execution_count": null,
      "metadata": {
        "collapsed": false
      },
      "outputs": [],
      "source": [
        "import pandas as pd\nimport numpy as np\nimport matplotlib.pyplot as plt\nfrom pyrolite.plot import pyroplot"
      ]
    },
    {
      "cell_type": "markdown",
      "metadata": {},
      "source": [
        "Here we generate some example data, using the\n:func:`~pyrolite.util.synthetic.example_spider_data` function (based on EMORB,\nhere normalised to Primitive Mantle);\n\n\n"
      ]
    },
    {
      "cell_type": "code",
      "execution_count": null,
      "metadata": {
        "collapsed": false
      },
      "outputs": [],
      "source": [
        "from pyrolite.util.synthetic import example_spider_data\n\ndf = example_spider_data(noise_level=0.1, size=20)"
      ]
    },
    {
      "cell_type": "markdown",
      "metadata": {},
      "source": [
        "Where data is specified, the default plot is a line-based spiderplot:\n\n"
      ]
    },
    {
      "cell_type": "code",
      "execution_count": null,
      "metadata": {
        "collapsed": false
      },
      "outputs": [],
      "source": [
        "ax = df.pyroplot.REE(color=\"0.5\", figsize=(8, 4))\nplt.show()"
      ]
    },
    {
      "cell_type": "markdown",
      "metadata": {},
      "source": [
        "This behaviour can be modified (see spiderplot docs) to provide e.g. filled ranges:\n\n\n"
      ]
    },
    {
      "cell_type": "code",
      "execution_count": null,
      "metadata": {
        "collapsed": false
      },
      "outputs": [],
      "source": [
        "df.pyroplot.REE(mode=\"fill\", color=\"0.5\", alpha=0.5, figsize=(8, 4))\nplt.show()"
      ]
    },
    {
      "cell_type": "markdown",
      "metadata": {},
      "source": [
        "The plotting axis can be specified to use exisiting axes:\n\n\n"
      ]
    },
    {
      "cell_type": "code",
      "execution_count": null,
      "metadata": {
        "collapsed": false
      },
      "outputs": [],
      "source": [
        "fig, ax = plt.subplots(1, 2, sharey=True, figsize=(12, 4))\n\ndf.pyroplot.REE(ax=ax[0])\n# we can also change the index of the second axes\nanother_df = example_spider_data(noise_level=0.2, size=20)  # some 'nosier' data\nanother_df.pyroplot.REE(ax=ax[1], color=\"k\", index=\"radii\")\n\nplt.tight_layout()\nplt.show()"
      ]
    },
    {
      "cell_type": "markdown",
      "metadata": {},
      "source": [
        "If you're just after a plotting template, you can use\n:func:`~pyrolite.plot.spider.REE_v_radii` to get a formatted axis which can be used\nfor subsequent plotting:\n\n\n"
      ]
    },
    {
      "cell_type": "code",
      "execution_count": null,
      "metadata": {
        "collapsed": false
      },
      "outputs": [],
      "source": [
        "from pyrolite.plot.spider import REE_v_radii\n\nax = REE_v_radii(index=\"radii\")  # radii mode will put ionic radii on the x axis\nplt.show()"
      ]
    },
    {
      "cell_type": "markdown",
      "metadata": {},
      "source": [
        ".. seealso::\n\n  Examples:\n   `Ionic Radii <../geochem/ionic_radii.html>`__,\n   `Spider Diagrams <spider.html>`__,\n   `lambdas: Parameterising REE Profiles <../geochem/lambdas.html>`__\n\n  Functions:\n    :func:`~pyrolite.geochem.ind.get_ionic_radii`,\n    :func:`pyrolite.plot.pyroplot.REE`,\n    :func:`pyrolite.plot.pyroplot.spider`,\n    :func:`~pyrolite.geochem.pyrochem.lambda_lnREE`\n\n"
      ]
    }
  ],
  "metadata": {
    "kernelspec": {
      "display_name": "Python 3",
      "language": "python",
      "name": "python3"
    },
    "language_info": {
      "codemirror_mode": {
        "name": "ipython",
        "version": 3
      },
      "file_extension": ".py",
      "mimetype": "text/x-python",
      "name": "python",
      "nbconvert_exporter": "python",
      "pygments_lexer": "ipython3",
      "version": "3.7.9"
    }
  },
  "nbformat": 4,
  "nbformat_minor": 0
}