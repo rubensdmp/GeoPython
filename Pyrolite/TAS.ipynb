{
  "nbformat": 4,
  "nbformat_minor": 0,
  "metadata": {
    "kernelspec": {
      "display_name": "Python 3",
      "language": "python",
      "name": "python3"
    },
    "language_info": {
      "codemirror_mode": {
        "name": "ipython",
        "version": 3
      },
      "file_extension": ".py",
      "mimetype": "text/x-python",
      "name": "python",
      "nbconvert_exporter": "python",
      "pygments_lexer": "ipython3",
      "version": "3.7.9"
    },
    "colab": {
      "name": "TAS.ipynb",
      "provenance": []
    }
  },
  "cells": [
    {
      "cell_type": "code",
      "metadata": {
        "id": "-kkAFtnfYVCq"
      },
      "source": [
        "%matplotlib inline"
      ],
      "execution_count": null,
      "outputs": []
    },
    {
      "cell_type": "markdown",
      "metadata": {
        "id": "dtAx3jsIYVCw"
      },
      "source": [
        "\n",
        "# TAS Classifier\n",
        "\n",
        "Some simple discrimination methods are implemented,\n",
        "including the Total Alkali-Silica (TAS) classification.\n"
      ]
    },
    {
      "cell_type": "code",
      "metadata": {
        "id": "Dnw4fiPAYVC0"
      },
      "source": [
        "import numpy as np\n",
        "import pandas as pd\n",
        "import matplotlib.pyplot as plt\n",
        "from pyrolite.util.classification import TAS\n",
        "from pyrolite.util.synthetic import normal_frame, random_cov_matrix"
      ],
      "execution_count": null,
      "outputs": []
    },
    {
      "cell_type": "markdown",
      "metadata": {
        "id": "Wt6I91UGYVC1"
      },
      "source": [
        "We'll first generate some synthetic data to play with:\n",
        "\n",
        "\n"
      ]
    },
    {
      "cell_type": "code",
      "metadata": {
        "id": "bjNRYNVzYVC2"
      },
      "source": [
        "df = (\n",
        "    normal_frame(\n",
        "        columns=[\"SiO2\", \"Na2O\", \"K2O\", \"Al2O3\"],\n",
        "        mean=[0.5, 0.04, 0.05, 0.4],\n",
        "        size=100,\n",
        "        seed=49,\n",
        "    )\n",
        "    * 100\n",
        ")\n",
        "\n",
        "\n",
        "df.head(3)"
      ],
      "execution_count": null,
      "outputs": []
    },
    {
      "cell_type": "markdown",
      "metadata": {
        "id": "HQri0MsHYVC3"
      },
      "source": [
        "We can visualise how this chemistry corresponds to the TAS diagram:\n",
        "\n",
        "\n"
      ]
    },
    {
      "cell_type": "code",
      "metadata": {
        "id": "-R5pLG7AYVC3"
      },
      "source": [
        "import pyrolite.plot\n",
        "\n",
        "df[\"Na2O + K2O\"] = df[\"Na2O\"] + df[\"K2O\"]\n",
        "cm = TAS()\n",
        "\n",
        "fig, ax = plt.subplots(1)\n",
        "cm.add_to_axes(\n",
        "    ax, alpha=0.5, linewidth=0.5, zorder=-1, labels=\"ID\",\n",
        ")\n",
        "df[[\"SiO2\", \"Na2O + K2O\"]].pyroplot.scatter(ax=ax, c=\"k\", alpha=0.2)\n",
        "plt.show()"
      ],
      "execution_count": null,
      "outputs": []
    },
    {
      "cell_type": "markdown",
      "metadata": {
        "id": "ayahg82aYVC5"
      },
      "source": [
        "We can now classify this data according to the fields of the TAS diagram, and\n",
        "add this as a column to the dataframe. Similarly, we can extract which rock names\n",
        "the TAS fields correspond to:\n",
        "\n",
        "\n"
      ]
    },
    {
      "cell_type": "code",
      "metadata": {
        "id": "kmwXPJdQYVC6"
      },
      "source": [
        "df[\"TAS\"] = cm.predict(df)\n",
        "df[\"Rocknames\"] = df.TAS.apply(lambda x: cm.fields.get(x, {\"name\": None})[\"name\"])\n",
        "df[\"Rocknames\"].sample(10)  # randomly check 10 sample rocknames"
      ],
      "execution_count": null,
      "outputs": []
    },
    {
      "cell_type": "markdown",
      "metadata": {
        "id": "P_5GoSACYVC7"
      },
      "source": [
        "We could now take the TAS classes and use them to colorize our points for plotting\n",
        "on the TAS diagram, or more likely, on another plot. Here the relationship to the\n",
        "TAS diagram is illustrated:\n",
        "\n",
        "\n"
      ]
    },
    {
      "cell_type": "code",
      "metadata": {
        "id": "rleyEoHqYVC7"
      },
      "source": [
        "fig, ax = plt.subplots(1)\n",
        "\n",
        "cm.add_to_axes(ax, alpha=0.5, linewidth=0.5, zorder=-1, labels=\"ID\")\n",
        "df[[\"SiO2\", \"Na2O + K2O\"]].pyroplot.scatter(ax=ax, c=df[\"TAS\"], alpha=0.7)"
      ],
      "execution_count": null,
      "outputs": []
    }
  ]
}