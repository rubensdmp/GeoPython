{
  "cells": [
    {
      "cell_type": "code",
      "execution_count": null,
      "metadata": {
        "collapsed": false
      },
      "outputs": [],
      "source": [
        "%matplotlib inline"
      ]
    },
    {
      "cell_type": "markdown",
      "metadata": {},
      "source": [
        "\n# TAS Classifier\n\nSome simple discrimination methods are implemented,\nincluding the Total Alkali-Silica (TAS) classification.\n"
      ]
    },
    {
      "cell_type": "code",
      "execution_count": null,
      "metadata": {
        "collapsed": false
      },
      "outputs": [],
      "source": [
        "import numpy as np\nimport pandas as pd\nimport matplotlib.pyplot as plt\nfrom pyrolite.util.classification import TAS\nfrom pyrolite.util.synthetic import normal_frame, random_cov_matrix"
      ]
    },
    {
      "cell_type": "markdown",
      "metadata": {},
      "source": [
        "We'll first generate some synthetic data to play with:\n\n\n"
      ]
    },
    {
      "cell_type": "code",
      "execution_count": null,
      "metadata": {
        "collapsed": false
      },
      "outputs": [],
      "source": [
        "df = (\n    normal_frame(\n        columns=[\"SiO2\", \"Na2O\", \"K2O\", \"Al2O3\"],\n        mean=[0.5, 0.04, 0.05, 0.4],\n        size=100,\n        seed=49,\n    )\n    * 100\n)\n\ndf.head(3)"
      ]
    },
    {
      "cell_type": "markdown",
      "metadata": {},
      "source": [
        "We can visualise how this chemistry corresponds to the TAS diagram:\n\n\n"
      ]
    },
    {
      "cell_type": "code",
      "execution_count": null,
      "metadata": {
        "collapsed": false
      },
      "outputs": [],
      "source": [
        "import pyrolite.plot\n\ndf[\"Na2O + K2O\"] = df[\"Na2O\"] + df[\"K2O\"]\ncm = TAS()\n\nfig, ax = plt.subplots(1)\ncm.add_to_axes(\n    ax, alpha=0.5, linewidth=0.5, zorder=-1, labels=\"ID\",\n)\ndf[[\"SiO2\", \"Na2O + K2O\"]].pyroplot.scatter(ax=ax, c=\"k\", alpha=0.2)\nplt.show()"
      ]
    },
    {
      "cell_type": "markdown",
      "metadata": {},
      "source": [
        "We can now classify this data according to the fields of the TAS diagram, and\nadd this as a column to the dataframe. Similarly, we can extract which rock names\nthe TAS fields correspond to:\n\n\n"
      ]
    },
    {
      "cell_type": "code",
      "execution_count": null,
      "metadata": {
        "collapsed": false
      },
      "outputs": [],
      "source": [
        "df[\"TAS\"] = cm.predict(df)\ndf[\"Rocknames\"] = df.TAS.apply(lambda x: cm.fields.get(x, {\"name\": None})[\"name\"])\ndf[\"Rocknames\"].sample(10)  # randomly check 10 sample rocknames"
      ]
    },
    {
      "cell_type": "markdown",
      "metadata": {},
      "source": [
        "We could now take the TAS classes and use them to colorize our points for plotting\non the TAS diagram, or more likely, on another plot. Here the relationship to the\nTAS diagram is illustrated:\n\n\n"
      ]
    },
    {
      "cell_type": "code",
      "execution_count": null,
      "metadata": {
        "collapsed": false
      },
      "outputs": [],
      "source": [
        "fig, ax = plt.subplots(1)\n\ncm.add_to_axes(ax, alpha=0.5, linewidth=0.5, zorder=-1, labels=\"ID\")\ndf[[\"SiO2\", \"Na2O + K2O\"]].pyroplot.scatter(ax=ax, c=df[\"TAS\"], alpha=0.7)"
      ]
    }
  ],
  "metadata": {
    "kernelspec": {
      "display_name": "Python 3",
      "language": "python",
      "name": "python3"
    },
    "language_info": {
      "codemirror_mode": {
        "name": "ipython",
        "version": 3
      },
      "file_extension": ".py",
      "mimetype": "text/x-python",
      "name": "python",
      "nbconvert_exporter": "python",
      "pygments_lexer": "ipython3",
      "version": "3.7.9"
    }
  },
  "nbformat": 4,
  "nbformat_minor": 0
}