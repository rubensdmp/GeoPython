{
  "cells": [
    {
      "cell_type": "code",
      "execution_count": null,
      "metadata": {
        "collapsed": false
      },
      "outputs": [],
      "source": [
        "%matplotlib inline"
      ]
    },
    {
      "cell_type": "markdown",
      "metadata": {},
      "source": [
        "\n# Compositional Data?\n"
      ]
    },
    {
      "cell_type": "markdown",
      "metadata": {},
      "source": [
        "pyrolite comes with a few datasets from Aitchison (1984) built in which we can use\nas examples:\n\n\n"
      ]
    },
    {
      "cell_type": "code",
      "execution_count": null,
      "metadata": {
        "collapsed": false
      },
      "outputs": [],
      "source": [
        "import numpy as np\nimport pandas as pd\nimport matplotlib.pyplot as plt\nfrom pyrolite.plot import pyroplot\nfrom pyrolite.data.Aitchison import load_kongite\n\ndf = load_kongite()"
      ]
    },
    {
      "cell_type": "markdown",
      "metadata": {},
      "source": [
        "For compositional data, everything is relative (thanks to the closure property), so we\ntend to use ratios to express differences or changes between things. However,\nif we make incorrect assumptions about the nature of our data, we can get some incorrect\nanswers. Say you want to know the average ratio between A and B:\n\n\n"
      ]
    },
    {
      "cell_type": "code",
      "execution_count": null,
      "metadata": {
        "collapsed": false
      },
      "outputs": [],
      "source": [
        "A_on_B = df[\"A\"] / df[\"B\"]\nA_on_B.mean()  # 2.8265837788402983"
      ]
    },
    {
      "cell_type": "markdown",
      "metadata": {},
      "source": [
        "Equally, you could have chosen to calculate the average ratio between B and A\n\n\n"
      ]
    },
    {
      "cell_type": "code",
      "execution_count": null,
      "metadata": {
        "collapsed": false
      },
      "outputs": [],
      "source": [
        "B_on_A = df[\"B\"] / df[\"A\"]\nB_on_A.mean()  # 0.4709565704852008"
      ]
    },
    {
      "cell_type": "markdown",
      "metadata": {},
      "source": [
        "You expect these to be invertable, such that A_on_B = 1 / B_on_A; but not so!\n\n\n"
      ]
    },
    {
      "cell_type": "code",
      "execution_count": null,
      "metadata": {
        "collapsed": false
      },
      "outputs": [],
      "source": [
        "A_on_B.mean() / (1 / B_on_A.mean())  # 1.3311982026717262"
      ]
    },
    {
      "cell_type": "markdown",
      "metadata": {},
      "source": [
        "Similarly, the relative variances are different:\n\n\n"
      ]
    },
    {
      "cell_type": "code",
      "execution_count": null,
      "metadata": {
        "collapsed": false
      },
      "outputs": [],
      "source": [
        "np.std(A_on_B) / A_on_B.mean()  # 0.6295146309597085\nnp.std(B_on_A) / B_on_A.mean()  # 0.5020948201979953"
      ]
    },
    {
      "cell_type": "markdown",
      "metadata": {},
      "source": [
        "This improves when using logratios in place of simple ratios, prior to exponentiating means\n\n\n"
      ]
    },
    {
      "cell_type": "code",
      "execution_count": null,
      "metadata": {
        "collapsed": false
      },
      "outputs": [],
      "source": [
        "logA_on_B = (df[\"A\"] / df[\"B\"]).apply(np.log)\nlogB_on_A = (df[\"B\"] / df[\"A\"]).apply(np.log)"
      ]
    },
    {
      "cell_type": "markdown",
      "metadata": {},
      "source": [
        "The logratios are invertible:\n\n\n"
      ]
    },
    {
      "cell_type": "code",
      "execution_count": null,
      "metadata": {
        "collapsed": false
      },
      "outputs": [],
      "source": [
        "np.exp(logA_on_B.mean())  # 2.4213410747400514\n1 / np.exp(logB_on_A.mean())  # 2.421341074740052"
      ]
    },
    {
      "cell_type": "markdown",
      "metadata": {},
      "source": [
        "The logratios also have the same variance:\n\n"
      ]
    },
    {
      "cell_type": "code",
      "execution_count": null,
      "metadata": {
        "collapsed": false
      },
      "outputs": [],
      "source": [
        "(np.std(logA_on_B) / logA_on_B.mean()) ** 2  # 0.36598579018127086\n(np.std(logB_on_A) / logB_on_A.mean()) ** 2  # 0.36598579018127086"
      ]
    },
    {
      "cell_type": "markdown",
      "metadata": {},
      "source": [
        "These peculiarities result from incorrect assumptions regarding the distribution of the\ndata: ratios of compositional components are typically *lognormally* distributed, rather\nthan *normally* distributed, and the compositional components themselves commonly have\na `Poisson distribution <https://en.wikipedia.org/wiki/Poisson_distribution>`__ .\nThese distributions contrast significantly with the normal distribution at the core of\nmost statistical tests. We can compare distributions with similar means and variances\nbut different forms, and note that the normal distribution has one immediate\nfailure, in that it has non-zero probability density below 0, and we know that you can't\nhave negative atoms!\n\n\n"
      ]
    },
    {
      "cell_type": "code",
      "execution_count": null,
      "metadata": {
        "collapsed": false
      },
      "outputs": [],
      "source": [
        "from scipy.stats import norm, poisson, lognorm\n\nmeans = [[10, 10], [10, 20], [20, 100], [1000, 50]]\nfig, ax = plt.subplots(len(means), 4, figsize=(11, 8))\nax[0, 0].set_title(\"A\")\nax[0, 1].set_title(\"B\")\nax[0, 2].set_title(\"Normal Fit to B/A\")\nax[0, 3].set_title(\"Lognormal Fit to B/A\")\nax[-1, 0].set_xlabel(\"A\")\nax[-1, 1].set_xlabel(\"B\")\nax[-1, 2].set_xlabel(\"B/A\")\nax[-1, 3].set_xlabel(\"B/A\")\nfor ix, (m1, m2) in enumerate(means):\n    p1, p2 = poisson(mu=m1), poisson(mu=m2)\n    y1, y2 = p1.rvs(2000), p2.rvs(2000)\n    ratios = y2[y1 > 0] / y1[y1 > 0]\n\n    y1min, y1max = y1.min(), y1.max()\n    y2min, y2max = y2.min(), y2.max()\n    ax[ix, 0].hist(\n        y1,\n        color=\"0.5\",\n        alpha=0.6,\n        label=\"A\",\n        bins=np.linspace(y1min - 0.5, y1max + 0.5, (y1max - y1min) + 1),\n    )\n    ax[ix, 1].hist(\n        y2,\n        color=\"0.5\",\n        alpha=0.6,\n        label=\"B\",\n        bins=np.linspace(y2min - 0.5, y2max + 0.5, (y2max - y2min) + 1),\n    )\n\n    # normal distribution fit\n    H, binedges, patches = ax[ix, 2].hist(\n        ratios, color=\"Purple\", alpha=0.6, label=\"Ratios\", bins=100\n    )\n    loc, scale = norm.fit(ratios, loc=0)\n    pdf = norm.pdf(binedges, loc, scale)\n    twin2 = ax[ix, 2].twinx()\n    twin2.set_ylim(0, 1.1 * np.max(pdf))\n    twin2.plot(binedges, pdf, color=\"k\", ls=\"--\", label=\"Normal Fit\")\n\n    # log-normal distribution fit\n    H, binedges, patches = ax[ix, 3].hist(\n        ratios, color=\"Green\", alpha=0.6, label=\"Ratios\", bins=100\n    )\n    s, loc, scale = lognorm.fit(ratios, loc=0)\n    pdf = lognorm.pdf(binedges, s, loc, scale)\n    twin3 = ax[ix, 3].twinx()\n    twin3.set_ylim(0, 1.1 * np.max(pdf))\n    twin3.plot(binedges, pdf, color=\"k\", ls=\"--\", label=\"Lognormal Fit\")\n\n    for a in [*ax[ix, :], twin2, twin3]:\n        a.set_yticks([])\n\nplt.tight_layout()"
      ]
    },
    {
      "cell_type": "markdown",
      "metadata": {},
      "source": [
        "The form of these distributions is a reflection of the fact that geochemical data\nis at is core a measure of relative quantities of atoms. Quantities of atoms have\ndiscrete distributions (i.e. you can have precisely 0, 1 or 6.02 x 10^23 atoms, but 1.23\natoms is not a sensible state of affairs); if you were to count them in a shiny\nmachine, the amount of atoms you might measure over a given period will have a Poisson\ndistribution. If you measure two components, the probability density distribution of the\nratio is well approximated by a lognormal distribution (note this doesn't consider\ninherent covariance):\n\n\n"
      ]
    },
    {
      "cell_type": "code",
      "execution_count": null,
      "metadata": {
        "collapsed": false
      },
      "outputs": [],
      "source": [
        "from pyrolite.util.plot.axes import share_axes, subaxes\nfrom pyrolite.util.distributions import lognorm_to_norm, norm_to_lognorm\n\n# starting from a normal distribution, then creating similar non-normal distributions\nmean, sd = 2.5, 1.5  #\nlogmu, logs = norm_to_lognorm(mean, sd)  # parameters for equival\nnormrv = norm(loc=mean, scale=sd)\nlognormrv = lognorm(s=logs, scale=logmu)\npoissonrv = poisson(mu=mean)"
      ]
    },
    {
      "cell_type": "markdown",
      "metadata": {},
      "source": [
        "We can visualise the similarities and differences between these distributions:\n\n\n"
      ]
    },
    {
      "cell_type": "code",
      "execution_count": null,
      "metadata": {
        "collapsed": false
      },
      "outputs": [],
      "source": [
        "fig, ax = plt.subplots(2, 3, figsize=(8, 4))\nax = ax.flat\nfor a in ax:\n    a.subax = subaxes(a, side=\"bottom\")\n\nshare_axes(ax[:3], which=\"x\")\nshare_axes(ax[3:], which=\"x\")\nax[0].set_xlim(-2, 10)\nax[3].set_xscale(\"log\")\nax[3].set_xlim(0.1, 10)\n\nfor a in ax:\n    a.axvline(0, color=\"k\", lw=0.5, ls=\"--\")\n\n# xs at which to evaluate the pdfs\nx = np.linspace(-5, 15.0, 1001)\n\nfor ix, dist in enumerate([normrv, lognormrv, poissonrv]):\n    _xs = dist.rvs(size=10000)  # random sample\n    _ys = -0.05 + np.random.randn(10000) / 100  # random offsets for visualisation\n    for a in [ax[ix], ax[ix + 3]]:\n        a.annotate(\n            \"mean={:.2f}, var={:.2f}\".format(np.mean(_xs), np.var(_xs)),\n            xy=(0.05, 1.05),\n            ha=\"left\",\n            va=\"bottom\",\n            xycoords=a.transAxes,\n        )\n        a.subax.scatter(_xs, _ys, s=2, color=\"k\", alpha=0.01)\n        if dist != poissonrv:  # cont. distribution\n            a.plot(x, dist.pdf(x), color=\"Purple\", alpha=0.6, label=\"pdf\")\n        else:  # discrete distribution\n            a.vlines(\n                x[x >= 0],\n                0,\n                dist.pmf(x[x >= 0]),\n                color=\"Purple\",\n                alpha=0.6,\n                label=\"pmf\",\n            )\n\nfig.suptitle(\"Data Distributions: Normal, Lognormal, Poisson\", y=1.1)\nplt.tight_layout()"
      ]
    },
    {
      "cell_type": "markdown",
      "metadata": {},
      "source": [
        "Accounting for these inherent features of geochemical data will allow you to\naccurately estimate means and variances, and from this enables the use of\nstandardised statistical measures - as long as you're log-transforming your data.\nWhen performing multivariate analysis, use log-ratio transformations (including the\nadditive logratio :func:`~pyrolite.comp.codata.alr`, centred logratio\n:func:`~pyrolite.comp.codata.clr` and isometric logratio\n:func:`~pyrolite.comp.codata.ilr`). In this case, the logratio-mean is implemented for\nyou:\n\n\n"
      ]
    },
    {
      "cell_type": "code",
      "execution_count": null,
      "metadata": {
        "collapsed": false
      },
      "outputs": [],
      "source": [
        "from pyrolite.comp.codata import logratiomean\nimport itertools\n\nfig, ax = plt.subplots(2, 2, figsize=(12, 12), subplot_kw=dict(projection=\"ternary\"))\nax = ax.flat\n\nfor columns, a in zip(itertools.combinations([\"A\", \"B\", \"C\", \"D\"], 3), ax):\n    columns = list(columns)\n\n    df.loc[:, columns].pyroplot.scatter(\n        ax=a, color=\"k\", marker=\".\", label=df.attrs[\"name\"], no_ticks=True\n    )\n\n    df.mean().loc[columns].pyroplot.scatter(\n        ax=a,\n        edgecolors=\"red\",\n        linewidths=2,\n        c=\"none\",\n        s=50,\n        label=\"Arithmetic Mean\",\n        no_ticks=True,\n    )\n\n    logratiomean(df.loc[:, columns]).pyroplot.scatter(\n        ax=a,\n        edgecolors=\"k\",\n        linewidths=2,\n        c=\"none\",\n        s=50,\n        label=\"Geometric Mean\",\n        axlabels=True,\n        no_ticks=True,\n    )\n    a.legend(loc=(0.8, 0.5))"
      ]
    },
    {
      "cell_type": "markdown",
      "metadata": {},
      "source": [
        ".. seealso::\n\n  Examples:\n    `Log Transforms <logtransforms.html>`__,\n    `Logratio Means <logratiomeans.html>`__,\n    `Ternary Plots <../plotting/ternary.html>`__\n\n  Tutorials:\n    `Ternary Density Plots <../../tutorials/ternary_density.html>`__,\n    `Making the Logo <../../tutorials/logo.html>`__\n\n  Modules and Functions:\n    :mod:`pyrolite.comp.codata`,\n    :func:`~pyrolite.comp.pyrocomp.renormalise`\n\n"
      ]
    }
  ],
  "metadata": {
    "kernelspec": {
      "display_name": "Python 3",
      "language": "python",
      "name": "python3"
    },
    "language_info": {
      "codemirror_mode": {
        "name": "ipython",
        "version": 3
      },
      "file_extension": ".py",
      "mimetype": "text/x-python",
      "name": "python",
      "nbconvert_exporter": "python",
      "pygments_lexer": "ipython3",
      "version": "3.7.9"
    }
  },
  "nbformat": 4,
  "nbformat_minor": 0
}