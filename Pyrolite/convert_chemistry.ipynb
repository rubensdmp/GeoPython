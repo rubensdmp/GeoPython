{
  "cells": [
    {
      "cell_type": "code",
      "execution_count": null,
      "metadata": {
        "collapsed": false
      },
      "outputs": [],
      "source": [
        "%matplotlib inline"
      ]
    },
    {
      "cell_type": "markdown",
      "metadata": {},
      "source": [
        "\n# Element-Oxide Transformation\n\nOne of pyrolite's strengths is converting mixed elemental and oxide data to a new\nform. The simplest way to perform this is by using the\n:func:`~pyrolite.geochem.transform.convert_chemistry` function. Note that by default\npyrolite assumes that data are in the same units.\n"
      ]
    },
    {
      "cell_type": "code",
      "execution_count": null,
      "metadata": {
        "collapsed": false
      },
      "outputs": [],
      "source": [
        "import pyrolite.geochem\nimport pandas as pd\n\npd.set_option(\"precision\", 3)  # smaller outputs"
      ]
    },
    {
      "cell_type": "markdown",
      "metadata": {},
      "source": [
        "Here we create some synthetic data to work with, which has some variables in Wt% and\nsome in ppm. Notably some elements are present in more than one column (Ca, Na):\n\n\n"
      ]
    },
    {
      "cell_type": "code",
      "execution_count": null,
      "metadata": {
        "collapsed": false
      },
      "outputs": [],
      "source": [
        "from pyrolite.util.synthetic import normal_frame\n\ndf = normal_frame(columns=[\"MgO\", \"SiO2\", \"FeO\", \"CaO\", \"Na2O\", \"Te\", \"K\", \"Na\"]) * 100\ndf.pyrochem.elements *= 100  # elements in ppm"
      ]
    },
    {
      "cell_type": "code",
      "execution_count": null,
      "metadata": {
        "collapsed": false
      },
      "outputs": [],
      "source": [
        "df.head(2)"
      ]
    },
    {
      "cell_type": "markdown",
      "metadata": {},
      "source": [
        "As the units are heterogeneous, we'll need to convert the data frame to a single set of\nunits (here we use Wt%):\n\n\n"
      ]
    },
    {
      "cell_type": "code",
      "execution_count": null,
      "metadata": {
        "collapsed": false
      },
      "outputs": [],
      "source": [
        "df.pyrochem.elements = df.pyrochem.elements.pyrochem.scale(\"ppm\", \"wt%\")  # ppm to wt%"
      ]
    },
    {
      "cell_type": "markdown",
      "metadata": {},
      "source": [
        "We can transform this chemical data to a new set of compositional variables.\nHere we i) convert CaO to Ca, ii) aggregate Na2O and Na to Na and iii) calculate\nmass ratios for Na/Te and MgO/SiO2.\nNote that you can also use this function to calculate mass ratios:\n\n\n"
      ]
    },
    {
      "cell_type": "code",
      "execution_count": null,
      "metadata": {
        "collapsed": false
      },
      "outputs": [],
      "source": [
        "df.pyrochem.convert_chemistry(\n    to=[\"MgO\", \"SiO2\", \"FeO\", \"Ca\", \"Te\", \"Na\", \"Na/Te\", \"MgO/SiO2\"]\n).head(2)"
      ]
    },
    {
      "cell_type": "markdown",
      "metadata": {},
      "source": [
        "You can also specify molar ratios for iron redox, which will result in multiple iron\nspecies within the single dataframe:\n\n\n"
      ]
    },
    {
      "cell_type": "code",
      "execution_count": null,
      "metadata": {
        "collapsed": false
      },
      "outputs": [],
      "source": [
        "df.pyrochem.convert_chemistry(to=[{\"FeO\": 0.9, \"Fe2O3\": 0.1}]).head(2)"
      ]
    }
  ],
  "metadata": {
    "kernelspec": {
      "display_name": "Python 3",
      "language": "python",
      "name": "python3"
    },
    "language_info": {
      "codemirror_mode": {
        "name": "ipython",
        "version": 3
      },
      "file_extension": ".py",
      "mimetype": "text/x-python",
      "name": "python",
      "nbconvert_exporter": "python",
      "pygments_lexer": "ipython3",
      "version": "3.7.9"
    }
  },
  "nbformat": 4,
  "nbformat_minor": 0
}