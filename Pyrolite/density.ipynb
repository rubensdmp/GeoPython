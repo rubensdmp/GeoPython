{
  "cells": [
    {
      "cell_type": "code",
      "execution_count": null,
      "metadata": {
        "collapsed": false
      },
      "outputs": [],
      "source": [
        "%matplotlib inline"
      ]
    },
    {
      "cell_type": "markdown",
      "metadata": {},
      "source": [
        "\n# Density and Contour Plots\n\nWhile individual point data are useful, we commonly want to understand the\nthe distribution of our data within a particular subspace, and compare that\nto a reference or other dataset. Pyrolite includes a few functions for\nvisualising data density, most based on Gaussian kernel density estimation\nand evaluation over a grid. The below examples highlight some of the currently\nimplemented features.\n"
      ]
    },
    {
      "cell_type": "code",
      "execution_count": null,
      "metadata": {
        "collapsed": false
      },
      "outputs": [],
      "source": [
        "import pandas as pd\nimport numpy as np\nimport matplotlib.pyplot as plt\nfrom pyrolite.plot import pyroplot\nfrom pyrolite.plot.density import density\nfrom pyrolite.comp.codata import close\n\n\nnp.random.seed(82)"
      ]
    },
    {
      "cell_type": "markdown",
      "metadata": {},
      "source": [
        "First we create some example data :\n\n\n"
      ]
    },
    {
      "cell_type": "code",
      "execution_count": null,
      "metadata": {
        "collapsed": false
      },
      "outputs": [],
      "source": [
        "oxs = [\"SiO2\", \"CaO\", \"MgO\", \"Na2O\"]\nys = np.random.rand(1000, len(oxs))\nys[:, 1] += 0.7\nys[:, 2] += 1.0\ndf = pd.DataFrame(data=close(np.exp(ys)), columns=oxs)"
      ]
    },
    {
      "cell_type": "markdown",
      "metadata": {},
      "source": [
        "A minimal density plot can be constructed as follows:\n\n\n"
      ]
    },
    {
      "cell_type": "code",
      "execution_count": null,
      "metadata": {
        "collapsed": false
      },
      "outputs": [],
      "source": [
        "ax = df.loc[:, [\"SiO2\", \"MgO\"]].pyroplot.density()\ndf.loc[:, [\"SiO2\", \"MgO\"]].pyroplot.scatter(ax=ax, s=10, alpha=0.3, c=\"k\", zorder=2)\nplt.show()"
      ]
    },
    {
      "cell_type": "markdown",
      "metadata": {},
      "source": [
        "A colorbar linked to the KDE estimate colormap can be added using the `colorbar`\nboolean switch:\n\n\n"
      ]
    },
    {
      "cell_type": "code",
      "execution_count": null,
      "metadata": {
        "collapsed": false
      },
      "outputs": [],
      "source": [
        "ax = df.loc[:, [\"SiO2\", \"MgO\"]].pyroplot.density(colorbar=True)\nplt.show()"
      ]
    },
    {
      "cell_type": "markdown",
      "metadata": {},
      "source": [
        "`density` by default will create a new axis, but can also be plotted over an\nexisting axis for more control:\n\n\n"
      ]
    },
    {
      "cell_type": "code",
      "execution_count": null,
      "metadata": {
        "collapsed": false
      },
      "outputs": [],
      "source": [
        "fig, ax = plt.subplots(1, 2, sharex=True, sharey=True, figsize=(12, 5))\n\ndf.loc[:, [\"SiO2\", \"MgO\"]].pyroplot.density(ax=ax[0])\ndf.loc[:, [\"SiO2\", \"CaO\"]].pyroplot.density(ax=ax[1])\n\nplt.tight_layout()\nplt.show()"
      ]
    },
    {
      "cell_type": "markdown",
      "metadata": {},
      "source": [
        "Contours are also easily created, which by default are percentile values:\n\n\n"
      ]
    },
    {
      "cell_type": "code",
      "execution_count": null,
      "metadata": {
        "collapsed": false
      },
      "outputs": [],
      "source": [
        "ax = df.loc[:, [\"SiO2\", \"CaO\"]].pyroplot.scatter(s=10, alpha=0.3, c=\"k\", zorder=2)\ndf.loc[:, [\"SiO2\", \"CaO\"]].pyroplot.density(ax=ax, contours=[0.95, 0.66, 0.33])\nplt.show()"
      ]
    },
    {
      "cell_type": "markdown",
      "metadata": {},
      "source": [
        "Geochemical data is commonly log-normally distributed and is best analysed\nand visualised after log-transformation. The density estimation can be conducted\nover logspaced grids (individually for x and y axes using `logx` and `logy` boolean\nswitches). Notably, this makes both the KDE image and contours behave more naturally:\n\n\n"
      ]
    },
    {
      "cell_type": "code",
      "execution_count": null,
      "metadata": {
        "collapsed": false
      },
      "outputs": [],
      "source": [
        "# some assymetric data\nfrom scipy import stats\n\nxs = stats.norm.rvs(loc=6, scale=3, size=(200, 1))\nys = stats.norm.rvs(loc=20, scale=3, size=(200, 1)) + 5 * xs + 50\ndata = np.append(xs, ys, axis=1).T\nasym_df = pd.DataFrame(np.exp(np.append(xs, ys, axis=1) / 25.0))\nasym_df.columns = [\"A\", \"B\"]\ngrids = [\"linxy\", \"logxy\"] * 2 + [\"logx\", \"logy\"]\nscales = [\"linscale\"] * 2 + [\"logscale\"] * 2 + [\"semilogx\", \"semilogy\"]\nlabels = [\"{}-{}\".format(ls, ps) for (ls, ps) in zip(grids, scales)]\nparams = list(\n    zip(\n        [\n            (False, False),\n            (True, True),\n            (False, False),\n            (True, True),\n            (True, False),\n            (False, True),\n        ],\n        grids,\n        scales,\n    )\n)"
      ]
    },
    {
      "cell_type": "code",
      "execution_count": null,
      "metadata": {
        "collapsed": false
      },
      "outputs": [],
      "source": [
        "fig, ax = plt.subplots(3, 2, figsize=(8, 8))\nax = ax.flat\n\nfor a, (ls, grid, scale) in zip(ax, params):\n    lx, ly = ls\n    asym_df.pyroplot.density(ax=a, logx=lx, logy=ly, bins=30, cmap=\"viridis_r\")\n    asym_df.pyroplot.density(\n        ax=a,\n        logx=lx,\n        logy=ly,\n        contours=[0.95, 0.5],\n        bins=30,\n        cmap=\"viridis\",\n        fontsize=10,\n    )\n    asym_df.pyroplot.scatter(ax=a, s=10, alpha=0.3, c=\"k\", zorder=2)\n\n    a.set_title(\"{}-{}\".format(grid, scale), fontsize=10)\n    if scale in [\"logscale\", \"semilogx\"]:\n        a.set_xscale(\"log\")\n    if scale in [\"logscale\", \"semilogy\"]:\n        a.set_yscale(\"log\")\nplt.tight_layout()\nplt.show()"
      ]
    },
    {
      "cell_type": "code",
      "execution_count": null,
      "metadata": {
        "collapsed": false
      },
      "outputs": [],
      "source": [
        "plt.close(\"all\")  # let's save some memory.."
      ]
    },
    {
      "cell_type": "markdown",
      "metadata": {},
      "source": [
        "There are two other implemented modes beyond the default `density`: `hist2d` and\n`hexbin`, which parallel their equivalents in matplotlib.\nContouring is not enabled for these histogram methods.\n\n\n"
      ]
    },
    {
      "cell_type": "code",
      "execution_count": null,
      "metadata": {
        "collapsed": false
      },
      "outputs": [],
      "source": [
        "fig, ax = plt.subplots(1, 3, sharex=True, sharey=True, figsize=(14, 5))\nfor a, mode in zip(ax, [\"density\", \"hexbin\", \"hist2d\"]):\n    df.loc[:, [\"SiO2\", \"CaO\"]].pyroplot.density(ax=a, mode=mode)\n    a.set_title(\"Mode: {}\".format(mode))\nplt.show()"
      ]
    },
    {
      "cell_type": "markdown",
      "metadata": {},
      "source": [
        "For the ``density`` mode, a ``vmin`` parameter is used to choose the lower\nthreshold, and by default is the 99th percentile (``vmin=0.01``), but can be\nadjusted. This is useful where there are a number of outliers, or where you wish to\nreduce the overall complexity/colour intensity of a figure (also good for printing!).\n\n\n"
      ]
    },
    {
      "cell_type": "code",
      "execution_count": null,
      "metadata": {
        "collapsed": false
      },
      "outputs": [],
      "source": [
        "fig, ax = plt.subplots(1, 3, figsize=(14, 4))\nfor a, vmin in zip(ax, [0.01, 0.1, 0.4]):\n    df.loc[:, [\"SiO2\", \"CaO\"]].pyroplot.density(ax=a, bins=30, vmin=vmin, colorbar=True)\nplt.tight_layout()\nplt.show()"
      ]
    },
    {
      "cell_type": "code",
      "execution_count": null,
      "metadata": {
        "collapsed": false
      },
      "outputs": [],
      "source": [
        "plt.close(\"all\")  # let's save some memory.."
      ]
    },
    {
      "cell_type": "markdown",
      "metadata": {},
      "source": [
        "Density plots can also be used for ternary diagrams, where more than two components\nare specified:\n\n\n"
      ]
    },
    {
      "cell_type": "code",
      "execution_count": null,
      "metadata": {
        "collapsed": false
      },
      "outputs": [],
      "source": [
        "fig, ax = plt.subplots(\n    1,\n    3,\n    sharex=True,\n    sharey=True,\n    figsize=(15, 5),\n    subplot_kw=dict(projection=\"ternary\"),\n)\ndf.loc[:, [\"SiO2\", \"CaO\", \"MgO\"]].pyroplot.scatter(ax=ax[0], alpha=0.05, c=\"k\")\nfor a, mode in zip(ax[1:], [\"hist\", \"density\"]):\n    df.loc[:, [\"SiO2\", \"CaO\", \"MgO\"]].pyroplot.density(ax=a, mode=mode)\n    a.set_title(\"Mode: {}\".format(mode), y=1.2)\n\nplt.tight_layout()\nplt.show()"
      ]
    },
    {
      "cell_type": "markdown",
      "metadata": {},
      "source": [
        "<div class=\"alert alert-info\"><h4>Note</h4><p>Using alpha with the ``density`` mode induces a known and old matplotlib bug,\n          where the edges of bins within a ``pcolormesh`` image (used for plotting the\n          KDE estimate) are over-emphasized, giving a gridded look.</p></div>\n\n.. seealso:: `Heatscatter Plots <heatscatter.html>`__,\n             `Ternary Plots <ternary.html>`__,\n             `Spider Density Diagrams <spider.html>`__\n\n"
      ]
    }
  ],
  "metadata": {
    "kernelspec": {
      "display_name": "Python 3",
      "language": "python",
      "name": "python3"
    },
    "language_info": {
      "codemirror_mode": {
        "name": "ipython",
        "version": 3
      },
      "file_extension": ".py",
      "mimetype": "text/x-python",
      "name": "python",
      "nbconvert_exporter": "python",
      "pygments_lexer": "ipython3",
      "version": "3.7.9"
    }
  },
  "nbformat": 4,
  "nbformat_minor": 0
}