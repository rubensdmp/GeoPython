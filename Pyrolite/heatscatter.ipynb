{
  "cells": [
    {
      "cell_type": "code",
      "execution_count": null,
      "metadata": {
        "collapsed": false
      },
      "outputs": [],
      "source": [
        "%matplotlib inline"
      ]
    },
    {
      "cell_type": "markdown",
      "metadata": {},
      "source": [
        "\n# Heatscatter Plots\n\nWhile :func:`~pyrolite.plot.pyroplot.density` plots are useful summary visualizations\nfor large datasets, scatterplots are more precise and retain all spatial information\n(although they can get crowded).\n\nA scatter plot where individual points are coloured by data density in some respects\nrepresents the best of both worlds. A version inspired by similar existing\nvisualisations is implemented with :func:`~pyrolite.plot.pyroplot.heatscatter`.\n"
      ]
    },
    {
      "cell_type": "code",
      "execution_count": null,
      "metadata": {
        "collapsed": false
      },
      "outputs": [],
      "source": [
        "import pandas as pd\nimport numpy as np\nimport matplotlib.pyplot as plt\nfrom pyrolite.plot import pyroplot\n\nnp.random.seed(12)"
      ]
    },
    {
      "cell_type": "markdown",
      "metadata": {},
      "source": [
        "First we'll create some example data\n\n"
      ]
    },
    {
      "cell_type": "code",
      "execution_count": null,
      "metadata": {
        "collapsed": false
      },
      "outputs": [],
      "source": [
        "from pyrolite.util.synthetic import normal_frame, random_cov_matrix\n\ndf = normal_frame(\n    size=1000,\n    cov=random_cov_matrix(sigmas=np.random.rand(4) * 2, dim=4, seed=12),\n    seed=12,\n)"
      ]
    },
    {
      "cell_type": "markdown",
      "metadata": {},
      "source": [
        "We can compare a minimal :func:`~pyrolite.plot.pyroplot.heatscatter` plot to other\nvisualisations for the same data:\n\n\n"
      ]
    },
    {
      "cell_type": "code",
      "execution_count": null,
      "metadata": {
        "collapsed": false
      },
      "outputs": [],
      "source": [
        "from pyrolite.util.plot.axes import share_axes\n\nfig, ax = plt.subplots(3, 4, figsize=(12, 9))\n\nax = ax.flat\nshare_axes(ax[:4], which=\"xy\")\nshare_axes(ax[4:8], which=\"xy\")\nshare_axes(ax[8:], which=\"xy\")\n\ncontours = [0.95, 0.66, 0.3]\nbivar = [\"SiO2\", \"MgO\"]\ntrivar = [\"SiO2\", \"MgO\", \"TiO2\"]\n# linear-scaled comparison\ndf.loc[:, bivar].pyroplot.scatter(ax=ax[0], c=\"k\", s=10, alpha=0.3)\ndf.loc[:, bivar].pyroplot.density(ax=ax[1])\ndf.loc[:, bivar].pyroplot.density(ax=ax[2], contours=contours)\ndf.loc[:, bivar].pyroplot.heatscatter(ax=ax[3], s=10, alpha=0.3)\n# log-log plots\ndf.loc[:, bivar].pyroplot.scatter(ax=ax[4], c=\"k\", s=10, alpha=0.3)\ndf.loc[:, bivar].pyroplot.density(ax=ax[5], logx=True, logy=True)\ndf.loc[:, bivar].pyroplot.density(ax=ax[6], contours=contours, logx=True, logy=True)\ndf.loc[:, bivar].pyroplot.heatscatter(ax=ax[7], s=10, alpha=0.3, logx=True, logy=True)\n# ternary plots\ndf.loc[:, trivar].pyroplot.scatter(ax=ax[8], c=\"k\", s=10, alpha=0.1)\ndf.loc[:, trivar].pyroplot.density(ax=ax[9], bins=100)\ndf.loc[:, trivar].pyroplot.density(ax=ax[10], contours=contours, bins=100)\ndf.loc[:, trivar].pyroplot.heatscatter(ax=ax[11], s=10, alpha=0.3, renorm=True)\nfig.subplots_adjust(hspace=0.4, wspace=0.4)\n\ntitles = [\"Scatter\", \"Density\", \"Contours\", \"Heatscatter\"]\nfor t, a in zip(titles + [i + \" (log-log)\" for i in titles], ax):\n    a.set_title(t)\nplt.tight_layout()"
      ]
    },
    {
      "cell_type": "markdown",
      "metadata": {},
      "source": [
        ".. seealso:: `Ternary Plots <ternary.html>`__,\n             `Density Plots <density.html>`__,\n             `Spider Density Diagrams <spider.html>`__\n\n"
      ]
    }
  ],
  "metadata": {
    "kernelspec": {
      "display_name": "Python 3",
      "language": "python",
      "name": "python3"
    },
    "language_info": {
      "codemirror_mode": {
        "name": "ipython",
        "version": 3
      },
      "file_extension": ".py",
      "mimetype": "text/x-python",
      "name": "python",
      "nbconvert_exporter": "python",
      "pygments_lexer": "ipython3",
      "version": "3.7.9"
    }
  },
  "nbformat": 4,
  "nbformat_minor": 0
}