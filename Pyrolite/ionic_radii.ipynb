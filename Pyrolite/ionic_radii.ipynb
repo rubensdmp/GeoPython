{
  "cells": [
    {
      "cell_type": "code",
      "execution_count": null,
      "metadata": {
        "collapsed": false
      },
      "outputs": [],
      "source": [
        "%matplotlib inline"
      ]
    },
    {
      "cell_type": "markdown",
      "metadata": {},
      "source": [
        "\n# Ionic Radii\n\n:mod:`pyrolite` incldues a few sets of reference tables for ionic radii in aangstroms\n(\u00c5) from [Shannon1976]_ and [WhittakerMuntus1970]_, each with tables indexed\nby element, ionic charge and coordination. The easiset way to access these is via\nthe :func:`~pyrolite.geochem.ind.get_ionic_radii` function. The function can be used\nto get radii for individual elements:\n"
      ]
    },
    {
      "cell_type": "code",
      "execution_count": null,
      "metadata": {
        "collapsed": false
      },
      "outputs": [],
      "source": [
        "from pyrolite.geochem.ind import get_ionic_radii, REE\n\nCu_radii = get_ionic_radii(\"Cu\")\nprint(Cu_radii)"
      ]
    },
    {
      "cell_type": "markdown",
      "metadata": {},
      "source": [
        "Note that this function returned a series of the possible radii, given specific\ncharges and coordinations of the Cu ion. If we completely specify these, we'll get\na single number back:\n\n\n"
      ]
    },
    {
      "cell_type": "code",
      "execution_count": null,
      "metadata": {
        "collapsed": false
      },
      "outputs": [],
      "source": [
        "Cu2plus6fold_radii = get_ionic_radii(\"Cu\", coordination=6, charge=2)\nprint(Cu2plus6fold_radii)"
      ]
    },
    {
      "cell_type": "markdown",
      "metadata": {},
      "source": [
        "You can also pass lists to the function. For example, if you wanted to get the Shannon\nionic radii of Rare Earth Elements (REE) in eight-fold coordination with a valence of\n+3, you should use the following:\n\n\n"
      ]
    },
    {
      "cell_type": "code",
      "execution_count": null,
      "metadata": {
        "collapsed": false
      },
      "outputs": [],
      "source": [
        "shannon_ionic_radii = get_ionic_radii(REE(), coordination=8, charge=3)\nprint(shannon_ionic_radii)"
      ]
    },
    {
      "cell_type": "markdown",
      "metadata": {},
      "source": [
        "The function defaults to using the Shannon ionic radii consistent with [Pauling1960]_,\nbut you can adjust to use the set you like with the `pauling` boolean argument\n(:code:`pauling=False` to use Shannon's 'Crystal Radii') or the `source` argument\n(:code:`source='Whittaker'` to use the [WhittakerMuntus1970]_ dataset):\n\n\n"
      ]
    },
    {
      "cell_type": "code",
      "execution_count": null,
      "metadata": {
        "collapsed": false
      },
      "outputs": [],
      "source": [
        "shannon_crystal_radii = get_ionic_radii(REE(), coordination=8, charge=3, pauling=False)\nwhittaker_ionic_radii = get_ionic_radii(\n    REE(), coordination=8, charge=3, source=\"Whittaker\"\n)"
      ]
    },
    {
      "cell_type": "markdown",
      "metadata": {},
      "source": [
        "We can see what the differences between these look like across the REE:\n\n\n"
      ]
    },
    {
      "cell_type": "code",
      "execution_count": null,
      "metadata": {
        "collapsed": false
      },
      "outputs": [],
      "source": [
        "import matplotlib.pyplot as plt\n\nfig, ax = plt.subplots(1)\n\nax.plot(shannon_ionic_radii, label=\"Shannon Ionic Radii\")\nax.plot(shannon_crystal_radii, label=\"Shannon Crystal Radii\")\nax.plot(whittaker_ionic_radii, label=\"Whittaker & Muntus\\nIonic Radii\")\n{a: b for (a, b) in zip(REE(), whittaker_ionic_radii)}\nax.set_xticks(range(len(REE())))\nax.set_xticklabels(REE())\nax.set_ylabel(\"Ionic Radius ($\\AA$)\")\nax.set_title(\"Rare Earth Element Ionic Radii\")\nax.legend()\nplt.show()"
      ]
    },
    {
      "cell_type": "markdown",
      "metadata": {},
      "source": [
        ".. seealso::\n\n  Examples:\n   `lambdas: Parameterising REE Profiles <lambdas.html>`__,\n   `REE Radii Plot <../plotting/REE_v_radii.html>`__\n\n  Functions:\n    :func:`~pyrolite.geochem.ind.get_ionic_radii`,\n    :func:`pyrolite.geochem.ind.REE`,\n    :func:`~pyrolite.geochem.pyrochem.lambda_lnREE`,\n\n\n## References\n.. [Shannon1976] Shannon RD (1976). Revised effective ionic radii and systematic\n        studies of interatomic distances in halides and chalcogenides.\n        Acta Crystallographica Section A 32:751\u2013767.\n        `doi: 10.1107/S0567739476001551 <https://doi.org/10.1107/S0567739476001551>`__.\n.. [WhittakerMuntus1970] Whittaker, E.J.W., Muntus, R., 1970.\n       Ionic radii for use in geochemistry.\n       Geochimica et Cosmochimica Acta 34, 945\u2013956.\n       `doi: 10.1016/0016-7037(70)90077-3 <https://doi.org/10.1016/0016-7037(70)90077-3>`__.\n.. [Pauling1960] Pauling, L., 1960. The Nature of the Chemical Bond.\n        Cornell University Press, Ithaca, NY.\n\n\n"
      ]
    }
  ],
  "metadata": {
    "kernelspec": {
      "display_name": "Python 3",
      "language": "python",
      "name": "python3"
    },
    "language_info": {
      "codemirror_mode": {
        "name": "ipython",
        "version": 3
      },
      "file_extension": ".py",
      "mimetype": "text/x-python",
      "name": "python",
      "nbconvert_exporter": "python",
      "pygments_lexer": "ipython3",
      "version": "3.7.9"
    }
  },
  "nbformat": 4,
  "nbformat_minor": 0
}