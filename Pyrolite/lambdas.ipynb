{
  "cells": [
    {
      "cell_type": "code",
      "execution_count": null,
      "metadata": {
        "collapsed": false
      },
      "outputs": [],
      "source": [
        "%matplotlib inline"
      ]
    },
    {
      "cell_type": "markdown",
      "metadata": {},
      "source": [
        "\n# lambdas: Parameterising REE Profiles\n\nOrthogonal polynomial decomposition can be used for dimensional reduction of smooth\nfunction over an independent variable, producing an array of independent values\nrepresenting the relative weights for each order of component polynomial. This is an\neffective method to parameterise and compare the nature of smooth profiles.\n\nIn geochemistry, the most applicable use case is for reduction Rare Earth Element (REE)\nprofiles. The REE are a collection of elements with broadly similar physicochemical\nproperties (the lanthanides), which vary with ionic radii. Given their similar behaviour\nand typically smooth function of normalised abundance vs. ionic radii, the REE profiles\nand their shapes can be effectively parameterised and dimensionally reduced (14 elements\nsummarised by 3-4 shape parameters).\n\nHere we generate some example data, reduce these to lambda values, and visualise the\nresults.\n"
      ]
    },
    {
      "cell_type": "code",
      "execution_count": null,
      "metadata": {
        "collapsed": false
      },
      "outputs": [],
      "source": [
        "import numpy as np\nimport pandas as pd\nimport matplotlib.pyplot as plt\nimport pyrolite.plot\n\n\nnp.random.seed(82)"
      ]
    },
    {
      "cell_type": "markdown",
      "metadata": {},
      "source": [
        "First we'll generate some example synthetic data based around Depleted MORB Mantle:\n\n\n"
      ]
    },
    {
      "cell_type": "code",
      "execution_count": null,
      "metadata": {
        "collapsed": false
      },
      "outputs": [],
      "source": [
        "from pyrolite.util.synthetic import example_spider_data\n\ndf = example_spider_data(\n    noise_level=0.05,\n    size=100,\n    start=\"DMM_WH2005\",\n    norm_to=\"Chondrite_PON\",\n    offsets={\"Eu\": 0.2},\n).pyrochem.REE.pyrochem.denormalize_from(\"Chondrite_PON\")\ndf.head(2)"
      ]
    },
    {
      "cell_type": "markdown",
      "metadata": {},
      "source": [
        "Let's have a quick look at what this REE data looks like normalized to Primitive\nMantle:\n\n\n"
      ]
    },
    {
      "cell_type": "code",
      "execution_count": null,
      "metadata": {
        "collapsed": false
      },
      "outputs": [],
      "source": [
        "df.pyrochem.normalize_to(\"PM_PON\").pyroplot.REE(alpha=0.05, c=\"k\", unity_line=True)\nplt.show()"
      ]
    },
    {
      "cell_type": "markdown",
      "metadata": {},
      "source": [
        "From this REE data we can fit a series of orthogonal polynomials, and subsequently used\nthe regression coefficients ('lambdas') as a parameterisation of the REE\npattern/profile:\n\n\n"
      ]
    },
    {
      "cell_type": "code",
      "execution_count": null,
      "metadata": {
        "collapsed": false
      },
      "outputs": [],
      "source": [
        "ls = df.pyrochem.lambda_lnREE(degree=4)\nls.head(2)"
      ]
    },
    {
      "cell_type": "markdown",
      "metadata": {},
      "source": [
        "So what's actually happening here? To get some idea of what these \u03bb coefficients\ncorrespond to, we can pull this process apart and visualise our REE profiles as\nthe sum of the series of orthogonal polynomial components of increasing order.\nAs lambdas represent the coefficients for the regression of log-transformed normalised\ndata, to compare the polynomial components and our REE profile we'll first need to\nnormalize it to the appropriate composition (here :code:`\"ChondriteREE_ON\"`) before\ntaking the logarithm.\n\nWith our data, we've then fit a function of ionic radius with the form\n$f(r) = \\lambda_0 + \\lambda_1 f_1 + \\lambda_2 f_2 + \\lambda_3 f_3...$\nwhere the polynomial components of increasing order are $f_1 = (r - \\beta_0)$,\n$f_2 = (r - \\gamma_0)(r - \\gamma_1)$,\n$f_3 = (r - \\delta_0)(r - \\delta_1)(r - \\delta_2)$ and so on. The parameters\n$\\beta$, $\\gamma$, $\\delta$ are pre-computed such that the\npolynomial components are indeed independent. Here we can visualise how these\npolynomial components are summed to produce the regressed profile, using the last REE\nprofile we generated above as an example:\n\n\n"
      ]
    },
    {
      "cell_type": "code",
      "execution_count": null,
      "metadata": {
        "collapsed": false
      },
      "outputs": [],
      "source": [
        "from pyrolite.util.lambdas.plot import plot_lambdas_components\n\nax = (\n    df.pyrochem.normalize_to(\"ChondriteREE_ON\")\n    .iloc[-1, :]\n    .apply(np.log)\n    .pyroplot.REE(color=\"k\", label=\"Data\", logy=False)\n)\n\nplot_lambdas_components(ls.iloc[-1, :], ax=ax)\n\nax.legend()\nplt.show()"
      ]
    },
    {
      "cell_type": "markdown",
      "metadata": {},
      "source": [
        "Now that we've gone through a brief introduction to how the lambdas are generated,\nlet's quickly check what the coefficient values themselves look like:\n\n\n"
      ]
    },
    {
      "cell_type": "code",
      "execution_count": null,
      "metadata": {
        "collapsed": false
      },
      "outputs": [],
      "source": [
        "fig, ax = plt.subplots(1, 3, figsize=(9, 3))\nfor ix in range(ls.columns.size - 1):\n    ls[ls.columns[ix : ix + 2]].pyroplot.scatter(ax=ax[ix], alpha=0.1, c=\"k\")\n\nplt.tight_layout()"
      ]
    },
    {
      "cell_type": "markdown",
      "metadata": {},
      "source": [
        "But what do these parameters correspond to? From the deconstructed orthogonal\npolynomial above, we can see that $\\lambda_0$ parameterises relative enrichment\n(this is the mean value of the logarithm of Chondrite-normalised REE abundances),\n$\\lambda_1$ parameterises a linear slope (here, LREE enrichment), and higher\norder terms describe curvature of the REE pattern. Through this parameterisation,\nthe REE profile can be effectively described and directly linked to geochemical\nprocesses. While the amount of data we need to describe the patterns is lessened,\nthe values themselves are more meaningful and readily used to describe the profiles\nand their physical significance.\n\nThe visualisation of $\\lambda_1$-$\\lambda_2$ can be particularly useful\nwhere you're trying to compare REE profiles.\n\nWe've used a synthetic dataset here which is by design approximately normally\ndistributed, so the values themeselves here are not particularly revealing,\nbut they do illustrate the expected mangitudes of values for each of the parameters.\n\n\n"
      ]
    },
    {
      "cell_type": "markdown",
      "metadata": {},
      "source": [
        "## Dealing With Anomalies\nNote that we've not used Eu in this regression - Eu anomalies are a deviation from\nthe 'smooth profile' we need to use this method. Consider this if your data might also\nexhibit significant Ce anomalies, you might need to exclude this data. For convenience\nthere is also functionality to calculate anomalies derived from the orthogonal\npolynomial fit itself (rather than linear interpolation methods). Below we use the\n:code:`anomalies` keyword argument to also calculate the $\\frac{Ce}{Ce*}$\nand $\\frac{Eu}{Eu*}$ anomalies (note that these are excluded from the fit):\n\n\n"
      ]
    },
    {
      "cell_type": "code",
      "execution_count": null,
      "metadata": {
        "collapsed": false
      },
      "outputs": [],
      "source": [
        "ls_anomalies = df.pyrochem.lambda_lnREE(anomalies=[\"Ce\", \"Eu\"])\nax = ls_anomalies.iloc[:, -2:].pyroplot.scatter(color=\"0.5\")\nplt.show()"
      ]
    },
    {
      "cell_type": "markdown",
      "metadata": {},
      "source": [
        "## Coefficient Uncertainties and Fit Quality\n\nIn order to determine the relative significance of the parameterisation and\n'goodness of fit', the functions are able to estimate uncertainties on the returned\ncoefficients (lambdas and taus) and will also return the chi-square value\n($\\chi^2$; equivalent to the MSWD) where requested. This will be appended to the\nend of the dataframe. Note that if you do not supply an estimate of observed value\nuncertainties a default of 1% of the log-mean will be used.\n\nTo append the reduced chi-square for each row, the keyword argument\n:code:`add_X2=True` can be used; here we've estimated 10% uncertainty on the\nREE:\n\n\n"
      ]
    },
    {
      "cell_type": "code",
      "execution_count": null,
      "metadata": {
        "collapsed": false
      },
      "outputs": [],
      "source": [
        "ls = df.pyrochem.lambda_lnREE(add_X2=True, sigmas=0.1, anomalies=[\"Eu\", \"Ce\"])\nls.columns"
      ]
    },
    {
      "cell_type": "markdown",
      "metadata": {},
      "source": [
        "We can have a quick look at the $\\chi^2$ values look like for the synthetic\ndataset, given the assumed 10% uncertainties. While the fit appears reasonable for a good\nfraction of the dataset (~2 and below), for some rows it is notably worse:\n\n\n"
      ]
    },
    {
      "cell_type": "code",
      "execution_count": null,
      "metadata": {
        "collapsed": false
      },
      "outputs": [],
      "source": [
        "ax = ls[\"X2\"].plot.hist(bins=40, color=\"0.5\")\nax.set(xlabel=\"$\\chi^2$\")\nax.axvline(1, color=\"k\", ls=\"--\")\nplt.show()"
      ]
    },
    {
      "cell_type": "markdown",
      "metadata": {},
      "source": [
        "We can also examine the estimated uncertainties on the coefficients from the fit\nby adding the keyword argument :code:`add_uncertainties=True` (note: these do not\nexplicitly propagate observation uncertainties):\n\n\n"
      ]
    },
    {
      "cell_type": "code",
      "execution_count": null,
      "metadata": {
        "collapsed": false
      },
      "outputs": [],
      "source": [
        "ls = df.pyrochem.lambda_lnREE(add_uncertainties=True)\nls.columns"
      ]
    },
    {
      "cell_type": "markdown",
      "metadata": {},
      "source": [
        "Notably, on the scale of natural dataset variation, these uncertainties may end\nup being smaller than symbol sizes. If your dataset happened to have a great\ndeal more noise, you may happen to see them - for demonstration purposes we can\ngenerate a noiser dataset and have a quick look at what these uncertainties\n*could* look like:\n\n\n"
      ]
    },
    {
      "cell_type": "code",
      "execution_count": null,
      "metadata": {
        "collapsed": false
      },
      "outputs": [],
      "source": [
        "ls = (df + 3 * np.exp(np.random.randn(*df.shape))).pyrochem.lambda_lnREE(\n    add_uncertainties=True\n)"
      ]
    },
    {
      "cell_type": "markdown",
      "metadata": {},
      "source": [
        "With this 'noisy' dataset, we can see some of the errorbars:\n\n\n"
      ]
    },
    {
      "cell_type": "code",
      "execution_count": null,
      "metadata": {
        "collapsed": false
      },
      "outputs": [],
      "source": [
        "fig, ax = plt.subplots(1, 3, figsize=(9, 3))\nax = ax.flat\ndc = ls.columns.size // 2\nfor ix, a in enumerate(ls.columns[:3]):\n    i0, i1 = ix, ix + 1\n    ax[ix].set(xlabel=ls.columns[i0], ylabel=ls.columns[i1])\n    ax[ix].errorbar(\n        ls.iloc[:, i0],\n        ls.iloc[:, i1],\n        xerr=ls.iloc[:, i0 + dc] * 2,\n        yerr=ls.iloc[:, i1 + dc] * 2,\n        ls=\"none\",\n        ecolor=\"0.5\",\n        markersize=1,\n        color=\"k\",\n    )\nplt.tight_layout()\nplt.show()"
      ]
    },
    {
      "cell_type": "markdown",
      "metadata": {},
      "source": [
        "## Fitting Tetrads\n\nIn addition to fitting orothogonal polynomial functions, the ability to fit tetrad\nfunctions has also recently been added. This supplements the $\\lambda$\ncoefficients with $\\tau$ coefficients which describe subtle electronic\nconfiguration effects affecting sequential subsets of the REE. Below we plot four\nprofiles - each describing only a single tetrad - to illustrate the shape of\nthese function components. Note that these are functions of $z$, and are here\ntransformed to plot against radii.\n\n\n"
      ]
    },
    {
      "cell_type": "code",
      "execution_count": null,
      "metadata": {
        "collapsed": false
      },
      "outputs": [],
      "source": [
        "from pyrolite.util.lambdas.plot import plot_profiles\n\n# let's first create some synthetic pattern parameters\n# we want lambdas to be zero, and each of the tetrads to be shown in only one pattern\nlambdas = np.zeros((4, 5))\ntetrads = np.eye(4)\n# putting it together to generate four sets of combined parameters\nfit_parameters = np.hstack([lambdas, tetrads])\n\nax = plot_profiles(\n    fit_parameters,\n    tetrads=True,\n    color=np.arange(4),\n)\nplt.show()"
      ]
    },
    {
      "cell_type": "markdown",
      "metadata": {},
      "source": [
        "In order to also fit these function components, you can pass the keyword argument\n:code:`fit_tetrads=True` to :func:`~pyrolite.geochem.pyrochem.lambda_lnREE` and\nrelated functions:\n\n\n"
      ]
    },
    {
      "cell_type": "code",
      "execution_count": null,
      "metadata": {
        "collapsed": false
      },
      "outputs": [],
      "source": [
        "lts = df.pyrochem.lambda_lnREE(degree=4, fit_tetrads=True)"
      ]
    },
    {
      "cell_type": "markdown",
      "metadata": {},
      "source": [
        "We can see that the four extra $\\tau$ Parameters have been appended to the\nright of the lambdas within the output:\n\n\n"
      ]
    },
    {
      "cell_type": "code",
      "execution_count": null,
      "metadata": {
        "collapsed": false
      },
      "outputs": [],
      "source": [
        "lts.head(2)"
      ]
    },
    {
      "cell_type": "markdown",
      "metadata": {},
      "source": [
        "Below we'll look at some of the potential issues of fitting lambdas and tetrads\ntogether - by examining the effects of i) fitting tetrads where there are none\nand ii) not fitting tetrads where they do indeed exist using some synthetic datasets.\n\n\n"
      ]
    },
    {
      "cell_type": "code",
      "execution_count": null,
      "metadata": {
        "collapsed": false
      },
      "outputs": [],
      "source": [
        "from pyrolite.util.synthetic import example_patterns_from_parameters\nfrom pyrolite.geochem.ind import REE\n\n\nls = np.array(\n    [\n        [2, 5, -30, 100, -600, 0, 0, 0, 0],  # lambda-only\n        [3, 15, 30, 300, 1500, 0, 0, 0, 0],  # lambda-only\n        [1, 5, -50, 0, -1000, -0.3, -0.7, -1.4, -0.2],  # W-pattern tetrad\n        [5, 15, 50, 400, 2000, 0.6, 1.1, 1.5, 0.3],  # M-pattern tetrad\n    ]\n)\n# now we use these parameters to generate some synthetic log-scaled normalised REE\n# patterns and add a bit of noise\npattern_df = pd.DataFrame(\n    np.vstack([example_patterns_from_parameters(l, includes_tetrads=True) for l in ls]),\n    columns=REE(),\n)\n# We can now fit these patterns and see what the effect of fitting and not-Fitting\n# tetrads might look like in these (slightly extreme) cases:\nfit_ls_only = pattern_df.pyrochem.lambda_lnREE(\n    norm_to=None, degree=5, fit_tetrads=False\n)\nfit_ts = pattern_df.pyrochem.lambda_lnREE(norm_to=None, degree=5, fit_tetrads=True)"
      ]
    },
    {
      "cell_type": "markdown",
      "metadata": {},
      "source": [
        "We can now examine what the differences between the fits are. Below we plot the four\nsets of synthetic REE patterns (lambda-only above and lamba+tetrad below) and examine\nthe relative accuracy of fitting some of the higher order lambda parameters where\ntetrads are also fit:\n\n\n"
      ]
    },
    {
      "cell_type": "code",
      "execution_count": null,
      "metadata": {
        "collapsed": false
      },
      "outputs": [],
      "source": [
        "from pyrolite.util.plot.axes import share_axes\n\nx, y = 2, 3\ncategories = np.repeat(np.arange(ls.shape[0]), 100)\ncolors = np.array([str(ix) * 2 for ix in categories])\nl_only = categories < 2\n\nax = plt.figure(figsize=(12, 7)).subplot_mosaic(\n    \"\"\"\n    AAABBCC\n    DDDEEFF\n    \"\"\"\n)\nshare_axes([ax[\"A\"], ax[\"D\"]])\nshare_axes([ax[\"B\"], ax[\"C\"], ax[\"E\"], ax[\"F\"]])\n\nax[\"B\"].set_title(\"lambdas only Fit\")\nax[\"C\"].set_title(\"lambdas+tetrads Fit\")\n\n\nfor a, fltr in zip([\"A\", \"D\"], [l_only, ~l_only]):\n    pattern_df.iloc[fltr, :].pyroplot.spider(\n        ax=ax[a],\n        label=\"True\",\n        unity_line=True,\n        alpha=0.5,\n        color=colors[fltr],\n    )\n\nfor a, fltr in zip([\"B\", \"E\"], [l_only, ~l_only]):\n    fit_ls_only.iloc[fltr, [x, y]].pyroplot.scatter(\n        ax=ax[a],\n        alpha=0.2,\n        color=colors[fltr],\n    )\n\nfor a, fltr in zip([\"C\", \"F\"], [l_only, ~l_only]):\n    fit_ts.iloc[fltr, [x, y]].pyroplot.scatter(\n        ax=ax[a],\n        alpha=0.2,\n        color=colors[fltr],\n    )\n\n\ntrue = pd.DataFrame(ls[:, [x, y]], columns=[fit_ls_only.columns[ix] for ix in [x, y]])\nfor ix, a in enumerate([\"B\", \"C\", \"E\", \"F\"]):\n    true.iloc[np.array([ix < 2, ix < 2, ix >= 2, ix >= 2]), :].pyroplot.scatter(\n        ax=ax[a],\n        color=np.array([str(ix) * 2 for ix in np.arange(ls.shape[0] // 2)]),\n        marker=\"X\",\n        s=100,\n    )\n\nplt.tight_layout()\nplt.show()"
      ]
    },
    {
      "cell_type": "markdown",
      "metadata": {},
      "source": [
        "## More Advanced Customisation\nAbove we've used default parameterisations for calculating `lambdas`, but\n:mod:`pyrolite` allows you to customise the parameterisation of both the orthogonal\npolynomial components used in the fitting process as well as what data and algorithm\nis used in the fit itself.\n\nTo exclude some elements from the *fit* (e.g. Eu which is excluded by default, and\nand potentially Ce), you can either i) filter the dataframe such that the columns\naren't passed, or ii) explicitly exclude them:\n\n\n"
      ]
    },
    {
      "cell_type": "code",
      "execution_count": null,
      "metadata": {
        "collapsed": false
      },
      "outputs": [],
      "source": [
        "# filtering the dataframe first\ntarget_columns = [i for i in df.columns if i not in [\"Eu\", \"Ce\"]]\nls_noEuCe_filtered = df[target_columns].pyrochem.lambda_lnREE()\n# excluding some elements\nls_noEuCe_excl = df.pyrochem.lambda_lnREE(exclude=[\"Eu\", \"Ce\"])\n\n# quickly checking equivalence\nnp.allclose(ls_noEuCe_excl, ls_noEuCe_filtered)"
      ]
    },
    {
      "cell_type": "markdown",
      "metadata": {},
      "source": [
        "While the results should be numerically equivalent, :mod:`pyrolite` does provide\ntwo algorithms for fitting lambdas. The first follows almost exactly the original\nformulation (:code:`algorithm=\"ONeill\"`; this was translated from VBA), while the\nsecond simply uses a numerical optimization routine from :mod:`scipy` to achieve the\nsame thing (:code:`algorithm=\"opt\"`; this is a fallback for where singular matricies\npop up):\n\n\n"
      ]
    },
    {
      "cell_type": "code",
      "execution_count": null,
      "metadata": {
        "collapsed": false
      },
      "outputs": [],
      "source": [
        "# use the original version\nls_linear = df.pyrochem.lambda_lnREE(algorithm=\"ONeill\")\n\n# use the optimization algorithm\nls_opt = df.pyrochem.lambda_lnREE(algorithm=\"opt\")"
      ]
    },
    {
      "cell_type": "markdown",
      "metadata": {},
      "source": [
        "To quickly demonstrate the equivalance, we can check numerically (to within\n0.001%):\n\n\n"
      ]
    },
    {
      "cell_type": "code",
      "execution_count": null,
      "metadata": {
        "collapsed": false
      },
      "outputs": [],
      "source": [
        "np.allclose(ls_linear, ls_opt, rtol=10e-5)"
      ]
    },
    {
      "cell_type": "markdown",
      "metadata": {},
      "source": [
        "Or simply plot the results from both:\n\n\n"
      ]
    },
    {
      "cell_type": "code",
      "execution_count": null,
      "metadata": {
        "collapsed": false
      },
      "outputs": [],
      "source": [
        "fig, ax = plt.subplots(1, figsize=(5, 5))\nax.set_title(\"Comparing $\\lambda$ Estimation Algorithms\", y=1.1)\nls_linear.iloc[:, 1:3].pyroplot.scatter(\n    ax=ax, marker=\"s\", c=\"k\", facecolors=\"none\", s=50, label=\"Linear Algebra\"\n)\nls_opt.iloc[:, 1:3].pyroplot.scatter(\n    ax=ax, c=\"purple\", marker=\"x\", s=50, label=\"Optimization\"\n)\nax.legend()\nplt.show()"
      ]
    },
    {
      "cell_type": "markdown",
      "metadata": {},
      "source": [
        "You can also use orthogonal polynomials defined over a different set of REE,\nby specifying the parameters using the keyword argument `params`:\n\n\n"
      ]
    },
    {
      "cell_type": "code",
      "execution_count": null,
      "metadata": {
        "collapsed": false
      },
      "outputs": [],
      "source": [
        "# this is the original formulation from the paper, where Eu is excluded\nls_original = df.pyrochem.lambda_lnREE(params=\"ONeill2016\")\n\n# this uses a full set of REE\nls_fullREE_polynomials = df.pyrochem.lambda_lnREE(params=\"full\")"
      ]
    },
    {
      "cell_type": "markdown",
      "metadata": {},
      "source": [
        "Note that as of :mod:`pyrolite` v0.2.8, the oringinal formulation is used by default,\nbut this will cease to be the case as of the following version, where the full set of\nREE will instead be used to generate the orthogonal polynomials.\n\nWhile the results are simlar, there are small differences. They're typically less\nthan 1%:\n\n"
      ]
    },
    {
      "cell_type": "code",
      "execution_count": null,
      "metadata": {
        "collapsed": false
      },
      "outputs": [],
      "source": [
        "np.abs((ls_original / ls_fullREE_polynomials) - 1).max() * 100"
      ]
    },
    {
      "cell_type": "markdown",
      "metadata": {},
      "source": [
        "This can also be visualised:\n\n\n"
      ]
    },
    {
      "cell_type": "code",
      "execution_count": null,
      "metadata": {
        "collapsed": false
      },
      "outputs": [],
      "source": [
        "fig, ax = plt.subplots(1, figsize=(5, 5))\nax.set_title(\"Comparing Orthogonal Polynomial Bases\", y=1.1)\nls_original.iloc[:, 1:3].pyroplot.scatter(\n    ax=ax, marker=\"s\", c=\"k\", facecolors=\"none\", s=50, label=\"Excluding Eu\"\n)\nls_fullREE_polynomials.iloc[:, 1:3].pyroplot.scatter(\n    ax=ax, c=\"purple\", marker=\"x\", s=50, label=\"All REE\"\n)\nax.legend()\nplt.show()"
      ]
    },
    {
      "cell_type": "markdown",
      "metadata": {},
      "source": [
        "For more on using orthogonal polynomials to describe geochemical pattern data, dig\ninto the paper which introduced the method to geochemists:\nO\u2019Neill, H.S.C., 2016. The Smoothness and Shapes of Chondrite-normalized Rare Earth\nElement Patterns in Basalts. J Petrology 57, 1463\u20131508.\n`doi: 10.1093/petrology/egw047 <https://doi.org/10.1093/petrology/egw047>`__.\n\n.. seealso::\n\n  Examples:\n   `Ionic Radii <ionic_radii.html>`__,\n   `REE Radii Plot <../plotting/REE_v_radii.html>`__\n\n  Functions:\n    :func:`~pyrolite.geochem.pyrochem.lambda_lnREE`,\n    :func:`~pyrolite.geochem.ind.get_ionic_radii`,\n    :func:`pyrolite.plot.pyroplot.REE`\n\n\n"
      ]
    }
  ],
  "metadata": {
    "kernelspec": {
      "display_name": "Python 3",
      "language": "python",
      "name": "python3"
    },
    "language_info": {
      "codemirror_mode": {
        "name": "ipython",
        "version": 3
      },
      "file_extension": ".py",
      "mimetype": "text/x-python",
      "name": "python",
      "nbconvert_exporter": "python",
      "pygments_lexer": "ipython3",
      "version": "3.7.9"
    }
  },
  "nbformat": 4,
  "nbformat_minor": 0
}