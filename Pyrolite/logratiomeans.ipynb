{
  "cells": [
    {
      "cell_type": "code",
      "execution_count": null,
      "metadata": {
        "collapsed": false
      },
      "outputs": [],
      "source": [
        "%matplotlib inline"
      ]
    },
    {
      "cell_type": "markdown",
      "metadata": {},
      "source": [
        "\n# Log Ratio Means\n"
      ]
    },
    {
      "cell_type": "code",
      "execution_count": null,
      "metadata": {
        "collapsed": false
      },
      "outputs": [],
      "source": [
        "import numpy as np\nimport pandas as pd\nimport pyrolite.comp\nfrom pyrolite.comp.codata import ILR, inverse_ILR, close\nfrom pyrolite.util.synthetic import random_cov_matrix\nimport matplotlib.pyplot as plt\nfrom pyrolite.plot import pyroplot\n\n\nnp.random.seed(82)"
      ]
    },
    {
      "cell_type": "code",
      "execution_count": null,
      "metadata": {
        "collapsed": false
      },
      "outputs": [],
      "source": [
        "def random_compositional_trend(m1, m2, c1, c2, resolution=20, size=1000):\n    \"\"\"\n    Generate a compositional trend between two compositions with independent\n    variances.\n    \"\"\"\n    # generate means intermediate between m1 and m2\n    mv = np.vstack([ILR(close(m1)).reshape(1, -1), ILR(close(m2)).reshape(1, -1)])\n    ms = np.apply_along_axis(lambda x: np.linspace(*x, resolution), 0, mv)\n    # generate covariance matricies intermediate between c1 and c2\n    cv = np.vstack([c1.reshape(1, -1), c2.reshape(1, -1)])\n    cs = np.apply_along_axis(lambda x: np.linspace(*x, resolution), 0, cv)\n    cs = cs.reshape(cs.shape[0], *c1.shape)\n    # generate samples from each\n    samples = np.vstack(\n        [\n            np.random.multivariate_normal(m.flatten(), cs[ix], size=size // resolution)\n            for ix, m in enumerate(ms)\n        ]\n    )\n    # combine together.\n    return inverse_ILR(samples)"
      ]
    },
    {
      "cell_type": "markdown",
      "metadata": {},
      "source": [
        "First we create an array of compositions which represent a trend.\n\n\n"
      ]
    },
    {
      "cell_type": "code",
      "execution_count": null,
      "metadata": {
        "collapsed": false
      },
      "outputs": [],
      "source": [
        "m1, m2 = np.array([[0.3, 0.1, 2.1]]), np.array([[0.5, 2.5, 0.05]])\nc1, c2 = (\n    random_cov_matrix(2, sigmas=[0.15, 0.05]),\n    random_cov_matrix(2, sigmas=[0.05, 0.2]),\n)\n\ntrend = pd.DataFrame(\n    random_compositional_trend(m1, m2, c1, c2, resolution=100, size=5000),\n    columns=[\"A\", \"B\", \"C\"],\n)"
      ]
    },
    {
      "cell_type": "markdown",
      "metadata": {},
      "source": [
        "We can visualise this compositional trend with a density plot.\n\n\n"
      ]
    },
    {
      "cell_type": "code",
      "execution_count": null,
      "metadata": {
        "collapsed": false
      },
      "outputs": [],
      "source": [
        "ax = trend.pyroplot.density(mode=\"density\", bins=100)\nplt.show()"
      ]
    },
    {
      "cell_type": "markdown",
      "metadata": {},
      "source": [
        "First we can see where the geometric mean would fall:\n\n\n"
      ]
    },
    {
      "cell_type": "code",
      "execution_count": null,
      "metadata": {
        "collapsed": false
      },
      "outputs": [],
      "source": [
        "geomean = trend.mean(axis=0).to_frame().T\nax = geomean.pyroplot.scatter(ax=ax, marker=\"o\", color=\"r\", zorder=2, label=\"GeoMean\")\nplt.show()"
      ]
    },
    {
      "cell_type": "markdown",
      "metadata": {},
      "source": [
        "Finally, we can also see where the logratio mean would fall:\n\n\n"
      ]
    },
    {
      "cell_type": "code",
      "execution_count": null,
      "metadata": {
        "collapsed": false
      },
      "outputs": [],
      "source": [
        "ILRmean = trend.pyrocomp.logratiomean(transform=\"ILR\")\nax = ILRmean.pyroplot.scatter(ax=ax, color=\"k\", label=\"LogMean\")\nplt.show()"
      ]
    },
    {
      "cell_type": "markdown",
      "metadata": {},
      "source": [
        ".. seealso::\n\n  Examples:\n    `Log Transforms <logtransforms.html>`__,\n    `Compositional Data <compositional_data.html>`__,\n    `Ternary Plots <../plotting/ternary.html>`__\n\n  Tutorials:\n    `Ternary Density Plots <../../tutorials/ternary_density.html>`__,\n    `Making the Logo <../../tutorials/logo.html>`__\n\n  Modules and Functions:\n    :mod:`pyrolite.comp.codata`,\n    :func:`~pyrolite.comp.pyrocomp.renormalise`\n\n"
      ]
    }
  ],
  "metadata": {
    "kernelspec": {
      "display_name": "Python 3",
      "language": "python",
      "name": "python3"
    },
    "language_info": {
      "codemirror_mode": {
        "name": "ipython",
        "version": 3
      },
      "file_extension": ".py",
      "mimetype": "text/x-python",
      "name": "python",
      "nbconvert_exporter": "python",
      "pygments_lexer": "ipython3",
      "version": "3.7.9"
    }
  },
  "nbformat": 4,
  "nbformat_minor": 0
}