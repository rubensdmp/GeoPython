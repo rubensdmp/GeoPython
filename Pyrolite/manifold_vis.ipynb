{
  "cells": [
    {
      "cell_type": "code",
      "execution_count": null,
      "metadata": {
        "collapsed": false
      },
      "outputs": [],
      "source": [
        "%matplotlib inline"
      ]
    },
    {
      "cell_type": "markdown",
      "metadata": {},
      "source": [
        "\nUsing Manifolds for Visualisation\n=================================\n\nVisualisation of data which has high dimensionality is challenging, and one solution\nis to provide visualisations in low-dimension representations of the space actually\nspanned by the data. Here we provide an example of visualisation of classification\npredictions and relative prediction certainty (using entropy across predicted\nprobability for each individual class) for a toy :mod:`sklearn` dataset.\n"
      ]
    },
    {
      "cell_type": "code",
      "execution_count": null,
      "metadata": {
        "collapsed": false
      },
      "outputs": [],
      "source": [
        "import numpy as np\nimport sklearn.datasets\nimport matplotlib.pyplot as plt\nfrom pyrolite.util.skl.pipeline import SVC_pipeline\nfrom pyrolite.util.skl.vis import plot_mapping\nfrom pyrolite.util.plot import DEFAULT_DISC_COLORMAP\n\nnp.random.seed(82)"
      ]
    },
    {
      "cell_type": "code",
      "execution_count": null,
      "metadata": {
        "collapsed": false
      },
      "outputs": [],
      "source": [
        "wine = sklearn.datasets.load_wine()\ndata, target = wine[\"data\"], wine[\"target\"]"
      ]
    },
    {
      "cell_type": "code",
      "execution_count": null,
      "metadata": {
        "collapsed": false
      },
      "outputs": [],
      "source": [
        "# data = data[:, np.random.random(data.shape[1]) > 0.4]  # randomly remove fraction of dimensionality"
      ]
    },
    {
      "cell_type": "code",
      "execution_count": null,
      "metadata": {
        "collapsed": false
      },
      "outputs": [],
      "source": [
        "svc = SVC_pipeline(probability=True)\ngs = svc.fit(data, target)"
      ]
    },
    {
      "cell_type": "code",
      "execution_count": null,
      "metadata": {
        "collapsed": false
      },
      "outputs": [],
      "source": [
        "fig, ax = plt.subplots(1, 2, figsize=(8, 4))\n\na, tfm, mapped = plot_mapping(\n    data, gs.best_estimator_, ax=ax[1], s=50, init=\"pca\"\n)\nax[0].scatter(*mapped.T, c=DEFAULT_DISC_COLORMAP(gs.predict(data)), s=50)\n\nax[0].set_title(\"Predicted Classes\")\nax[1].set_title(\"With Relative Certainty\")\n\nfor a in ax:\n    a.set_xticks([])\n    a.set_yticks([])"
      ]
    }
  ],
  "metadata": {
    "kernelspec": {
      "display_name": "Python 3",
      "language": "python",
      "name": "python3"
    },
    "language_info": {
      "codemirror_mode": {
        "name": "ipython",
        "version": 3
      },
      "file_extension": ".py",
      "mimetype": "text/x-python",
      "name": "python",
      "nbconvert_exporter": "python",
      "pygments_lexer": "ipython3",
      "version": "3.7.4"
    }
  },
  "nbformat": 4,
  "nbformat_minor": 0
}