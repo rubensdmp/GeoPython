{
  "cells": [
    {
      "cell_type": "code",
      "execution_count": null,
      "metadata": {
        "collapsed": false
      },
      "outputs": [],
      "source": [
        "%matplotlib inline"
      ]
    },
    {
      "cell_type": "markdown",
      "metadata": {},
      "source": [
        "\nMineral Endmember Decomposition\n=================================\n\nA common task when working with mineral chemistry data is to take measured compositions\nand decompose these into relative proportions of mineral endmember compositions.\npyrolite includes some utilities to achieve this and a limited mineral database\nfor looking up endmember compositions. This part of the package is being actively\ndeveloped, so expect expansions and improvements soon.\n"
      ]
    },
    {
      "cell_type": "code",
      "execution_count": null,
      "metadata": {
        "collapsed": false
      },
      "outputs": [],
      "source": [
        "import pandas as pd\nimport numpy as np\nfrom pyrolite.mineral.mindb import get_mineral\nfrom pyrolite.mineral.normative import endmember_decompose"
      ]
    },
    {
      "cell_type": "markdown",
      "metadata": {},
      "source": [
        "First we'll start with a composition of an unknown olivine:\n\n\n"
      ]
    },
    {
      "cell_type": "code",
      "execution_count": null,
      "metadata": {
        "collapsed": false
      },
      "outputs": [],
      "source": [
        "comp = pd.Series({\"MgO\": 42.06, \"SiO2\": 39.19, \"FeO\": 18.75})"
      ]
    },
    {
      "cell_type": "markdown",
      "metadata": {},
      "source": [
        "We can break this down into olivine endmebmers using the\n:func:`~pyrolite.mineral.transform.endmember_decompose` function:\n\n\n"
      ]
    },
    {
      "cell_type": "code",
      "execution_count": null,
      "metadata": {
        "collapsed": false
      },
      "outputs": [],
      "source": [
        "ed = endmember_decompose(\n    pd.DataFrame(comp).T, endmembers=\"olivine\", ord=1, molecular=True\n)\ned"
      ]
    },
    {
      "cell_type": "markdown",
      "metadata": {},
      "source": [
        "Equally, if you knew the likely endmembers beforehand, you could specify a list of\nendmembers:\n\n\n"
      ]
    },
    {
      "cell_type": "code",
      "execution_count": null,
      "metadata": {
        "collapsed": false
      },
      "outputs": [],
      "source": [
        "ed = endmember_decompose(\n    pd.DataFrame(comp).T, endmembers=[\"forsterite\", \"fayalite\"], ord=1, molecular=True\n)\ned"
      ]
    },
    {
      "cell_type": "markdown",
      "metadata": {},
      "source": [
        "We can check this by recombining the components with these proportions. We can first\nlookup the compositions for our endmembers:\n\n\n"
      ]
    },
    {
      "cell_type": "code",
      "execution_count": null,
      "metadata": {
        "collapsed": false
      },
      "outputs": [],
      "source": [
        "em = pd.DataFrame([get_mineral(\"forsterite\"), get_mineral(\"fayalite\")])\nem.loc[:, ~(em == 0).all(axis=0)]  # columns not full of zeros"
      ]
    },
    {
      "cell_type": "markdown",
      "metadata": {},
      "source": [
        "First we have to convert these element-based compositions to oxide-based compositions:\n\n\n"
      ]
    },
    {
      "cell_type": "code",
      "execution_count": null,
      "metadata": {
        "collapsed": false
      },
      "outputs": [],
      "source": [
        "emvalues = (\n    em.loc[:, [\"Mg\", \"Si\", \"Fe\"]]\n    .pyrochem.to_molecular()\n    .fillna(0)\n    .pyrochem.convert_chemistry(to=[\"MgO\", \"SiO2\", \"FeO\"], molecular=True)\n    .fillna(0)\n    .pyrocomp.renormalise(scale=1)\n)\nemvalues"
      ]
    },
    {
      "cell_type": "markdown",
      "metadata": {},
      "source": [
        "These can now be used with our endmember proportions to regenerate a composition:\n\n\n"
      ]
    },
    {
      "cell_type": "code",
      "execution_count": null,
      "metadata": {
        "collapsed": false
      },
      "outputs": [],
      "source": [
        "recombined = pd.DataFrame(ed.values.flatten() @ emvalues).T.pyrochem.to_weight()\nrecombined"
      ]
    },
    {
      "cell_type": "markdown",
      "metadata": {},
      "source": [
        "To make sure these compositions are within 0.01 percent:\n\n\n"
      ]
    },
    {
      "cell_type": "code",
      "execution_count": null,
      "metadata": {
        "collapsed": false
      },
      "outputs": [],
      "source": [
        "assert np.allclose(recombined.values, comp.values, rtol=10 ** -4)"
      ]
    }
  ],
  "metadata": {
    "kernelspec": {
      "display_name": "Python 3",
      "language": "python",
      "name": "python3"
    },
    "language_info": {
      "codemirror_mode": {
        "name": "ipython",
        "version": 3
      },
      "file_extension": ".py",
      "mimetype": "text/x-python",
      "name": "python",
      "nbconvert_exporter": "python",
      "pygments_lexer": "ipython3",
      "version": "3.7.4"
    }
  },
  "nbformat": 4,
  "nbformat_minor": 0
}