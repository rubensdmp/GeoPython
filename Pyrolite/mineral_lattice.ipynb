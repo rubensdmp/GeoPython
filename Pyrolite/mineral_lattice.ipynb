{
  "cells": [
    {
      "cell_type": "code",
      "execution_count": null,
      "metadata": {
        "collapsed": false
      },
      "outputs": [],
      "source": [
        "%matplotlib inline"
      ]
    },
    {
      "cell_type": "markdown",
      "metadata": {},
      "source": [
        "\n# Lattice Strain Calculations\n\n<div class=\"alert alert-info\"><h4>Note</h4><p>This example follows that given during a Institute of Advanced Studies Masterclass\n    with Jon Blundy at the University of Western Australia on the 29\\ :sup:`th` April\n    2019, and is used here with permission.</p></div>\n\n\nPyrolite includes a function for calculating relative lattice strain [#ref_1]_, which\ntogether with the tables of Shannon ionic radii and Young's modulus approximations for\nsilicate and oxide cationic sites enable relatively simple calculation of ionic\npartitioning in common rock forming minerals.\n\nThis example below uses previously characterised calcium and sodium partition\ncoefficients between plagioclase ($CaAl_2Si_2O_8 - NaAlSi_3O8$) and silicate melt\nto estimate partitioning for other cations based on their ionic radii.\n\nA model parameterised using sodium and calcium partition coefficients [#ref_2]_ is then\nused to estimate the partitioning for lanthanum into the trivalent site (largely\noccupied by $Al^{3+}$), and extended to other trivalent cations (here, the Rare\nEarth Elements). The final section of the example highlights the mechanism which\ngenerates plagioclase's hallmark 'europium anomaly', and the effects of variable\neuropium oxidation state on bulk europium partitioning.\n"
      ]
    },
    {
      "cell_type": "code",
      "execution_count": null,
      "metadata": {
        "collapsed": false
      },
      "outputs": [],
      "source": [
        "import numpy as np\nimport matplotlib.pyplot as plt\nfrom pyrolite.geochem.ind import REE, get_ionic_radii\nfrom pyrolite.mineral.lattice import strain_coefficient"
      ]
    },
    {
      "cell_type": "markdown",
      "metadata": {},
      "source": [
        "First, we need to define some of the necessary parameters including temperature, the Young's\nmoduli for the $X^{2+}$ and $X^{3+}$ sites in plagioclase ($E_2$,\n$E_3$), and some reference partition coefficients and radii for calcium and\nsodium:\n\n"
      ]
    },
    {
      "cell_type": "code",
      "execution_count": null,
      "metadata": {
        "collapsed": false
      },
      "outputs": [],
      "source": [
        "D_Na = 1.35  # Partition coefficient Plag-Melt\nD_Ca = 4.1  # Partition coefficient Plag-Melt\nTc = 900  # Temperature, \u00b0C\nTk = Tc + 273.15  # Temperature, K\nE_2 = 120 * 10 ** 9  # Youngs modulus for 2+ site, Pa\nE_3 = 135 * 10 ** 9  # Youngs modulus for 3+ site, Pa\nr02, r03 = 1.196, 1.294  # fictive ideal cation radii for these sites\nrCa = get_ionic_radii(\"Ca\", charge=2, coordination=8)\nrLa = get_ionic_radii(\"La\", charge=3, coordination=8)"
      ]
    },
    {
      "cell_type": "markdown",
      "metadata": {},
      "source": [
        "We can calculate and plot the partitioning of $X^{2+}$ cations relative to\n$Ca^{2+}$ at a given temperature using their radii and the lattice strain function:\n\n\n"
      ]
    },
    {
      "cell_type": "code",
      "execution_count": null,
      "metadata": {
        "collapsed": false
      },
      "outputs": [],
      "source": [
        "fontsize = 8\nfig, ax = plt.subplots(1)\n\nsite2labels = [\"Na\", \"Ca\", \"Eu\", \"Sr\"]\n# get the Shannon ionic radii for the elements in the 2+ site\nsite2radii = [\n    get_ionic_radii(\"Na\", charge=1, coordination=8),\n    *[get_ionic_radii(el, charge=2, coordination=8) for el in [\"Ca\", \"Eu\", \"Sr\"]],\n]\n# plot the relative paritioning curve for cations in the 2+ site\nsite2Ds = D_Ca * np.array(\n    [strain_coefficient(rCa, rx, r0=r02, E=E_2, T=Tk) for rx in site2radii]\n)\nax.scatter(site2radii, site2Ds, color=\"g\", label=\"$X^{2+}$ Cations\")\n# create an index of radii, and plot the relative paritioning curve for the site\nxs = np.linspace(0.9, 1.3, 200)\ncurve2Ds = D_Ca * strain_coefficient(rCa, xs, r0=r02, E=E_2, T=Tk)\nax.plot(xs, curve2Ds, color=\"0.5\", ls=\"--\")\n# add the element labels next to the points\nfor l, r, d in zip(site2labels, site2radii, site2Ds):\n    ax.annotate(\n        l, xy=(r, d), xycoords=\"data\", ha=\"left\", va=\"bottom\", fontsize=fontsize\n    )\nfig"
      ]
    },
    {
      "cell_type": "markdown",
      "metadata": {},
      "source": [
        "When it comes to estimating the partitioning of $X^{3+}$ cations, we'll need a reference\npoint - here we'll use $D_{La}$ to calculate relative partitioning of the other\nRare Earth Elements, although you may have noticed it is not defined above.\nThrough a handy relationship, we can estimate $D_{La}$\nbased on the easier measured $D_{Ca}$, $D_{Na}$ and temperature [#ref_2]_:\n\n\n"
      ]
    },
    {
      "cell_type": "code",
      "execution_count": null,
      "metadata": {
        "collapsed": false
      },
      "outputs": [],
      "source": [
        "D_La = (D_Ca ** 2 / D_Na) * np.exp((529 / Tk) - 3.705)\nD_La  # 0.48085"
      ]
    },
    {
      "cell_type": "markdown",
      "metadata": {},
      "source": [
        "Now $D_{La}$ is defined, we can use it as a reference for the other REE:\n\n\n"
      ]
    },
    {
      "cell_type": "code",
      "execution_count": null,
      "metadata": {
        "collapsed": false
      },
      "outputs": [],
      "source": [
        "site3labels = REE(dropPm=True)\n# get the Shannon ionic radii for the elements in the 3+ site\nsite3radii = [get_ionic_radii(x, charge=3, coordination=8) for x in REE(dropPm=True)]\nsite3Ds = D_La * np.array(\n    [strain_coefficient(rLa, rx, r0=r03, E=E_3, T=Tk) for rx in site3radii]\n)\n# plot the relative paritioning curve for cations in the 3+ site\nax.scatter(site3radii, site3Ds, color=\"purple\", label=\"$X^{3+}$ Cations\")\n# plot the relative paritioning curve for the site\ncurve3Ds = D_La * strain_coefficient(rLa, xs, r0=r03, E=E_3, T=Tk)\nax.plot(xs, curve3Ds, color=\"0.5\", ls=\"--\")\n# add the element labels next to the points\nfor l, r, d in zip(site3labels, site3radii, site3Ds):\n    ax.annotate(\n        l, xy=(r, d), xycoords=\"data\", ha=\"right\", va=\"bottom\", fontsize=fontsize\n    )\nax.set_yscale(\"log\")\nax.set_ylabel(\"$D_X$\")\nax.set_xlabel(\"Radii ($\\AA$)\")\nfig"
      ]
    },
    {
      "cell_type": "markdown",
      "metadata": {},
      "source": [
        "As europium is commonly present as a mixture of both $Eu^{2+}$\nand $Eu^{3+}$, the effective partitioning of Eu will be intermediate\nbetween that of $D_{Eu^{2+}}$and $D_{Eu^{3+}}$. Using a 60:40 mixture\nof $Eu^{3+}$ : $Eu^{2+}$ as an example, this effective partition\ncoefficient can be calculated:\n\n\n"
      ]
    },
    {
      "cell_type": "code",
      "execution_count": null,
      "metadata": {
        "collapsed": false
      },
      "outputs": [],
      "source": [
        "X_Eu3 = 0.6\n# calculate D_Eu3 relative to D_La\nD_Eu3 = D_La * strain_coefficient(\n    rLa, get_ionic_radii(\"Eu\", charge=3, coordination=8), r0=r03, E=E_3, T=Tk\n)\n# calculate D_Eu2 relative to D_Ca\nD_Eu2 = D_Ca * strain_coefficient(\n    rCa, get_ionic_radii(\"Eu\", charge=2, coordination=8), r0=r02, E=E_2, T=Tk\n)\n# calculate the effective parition coefficient\nD_Eu = (1 - X_Eu3) * D_Eu2 + X_Eu3 * D_Eu3\n# show the effective partition coefficient relative to the 2+ and 3+ endmembers\nradii, ds = (\n    [get_ionic_radii(\"Eu\", charge=c, coordination=8) for c in [3, 3, 2, 2]],\n    [D_Eu3, D_Eu, D_Eu, D_Eu2],\n)\nax.plot(radii, ds, ls=\"--\", color=\"0.9\", label=\"Effective $D_{Eu}$\", zorder=-1)\nax.legend(bbox_to_anchor=(1.05, 1))\nfig"
      ]
    },
    {
      "cell_type": "markdown",
      "metadata": {},
      "source": [
        ".. [#ref_1] Blundy, J., Wood, B., 1994. Prediction of crystal\u2013melt partition coefficients\n            from elastic moduli. Nature 372, 452.\n            doi: `10.1038/372452A0 <https://doi.org/10.1038/372452A0>`__\n\n.. [#ref_2] Dohmen, R., Blundy, J., 2014. A predictive thermodynamic model for element partitioning\n            between plagioclase and melt as a function of pressure, temperature and composition.\n            American Journal of Science 314, 1319\u20131372.\n            doi: `10.2475/09.2014.04 <https://doi.org/10.2475/09.2014.04>`__\n\n.. seealso::\n\n  Examples:\n    `Shannon Radii <../indexes/shannon.html>`__,\n    `REE Radii Plot <../plotting/REE_v_radii.html>`__\n\n  Functions:\n    :func:`~pyrolite.mineral.lattice.strain_coefficient`,\n    :func:`~pyrolite.mineral.lattice.youngs_modulus_approximation`,\n    :func:`~pyrolite.geochem.get_ionic_radii`\n\n"
      ]
    }
  ],
  "metadata": {
    "kernelspec": {
      "display_name": "Python 3",
      "language": "python",
      "name": "python3"
    },
    "language_info": {
      "codemirror_mode": {
        "name": "ipython",
        "version": 3
      },
      "file_extension": ".py",
      "mimetype": "text/x-python",
      "name": "python",
      "nbconvert_exporter": "python",
      "pygments_lexer": "ipython3",
      "version": "3.7.9"
    }
  },
  "nbformat": 4,
  "nbformat_minor": 0
}