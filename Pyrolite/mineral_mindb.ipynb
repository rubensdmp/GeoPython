{
 "cells": [
  {
   "cell_type": "code",
   "execution_count": 1,
   "metadata": {},
   "outputs": [],
   "source": [
    "%matplotlib inline"
   ]
  },
  {
   "cell_type": "markdown",
   "metadata": {},
   "source": [
    "\n",
    "Mineral Database\n",
    "====================\n",
    "\n",
    "pyrolite includes a limited mineral database which is useful for\n",
    "for looking up endmember compositions. This part of the package is being actively\n",
    "developed, so expect expansions and improvements soon.\n"
   ]
  },
  {
   "cell_type": "code",
   "execution_count": 2,
   "metadata": {},
   "outputs": [],
   "source": [
    "import pandas as pd\n",
    "from pyrolite.mineral.mindb import (\n",
    "    list_groups,\n",
    "    list_minerals,\n",
    "    list_formulae,\n",
    "    get_mineral,\n",
    "    get_mineral_group,\n",
    ")\n",
    "\n",
    "pd.set_option(\"precision\", 3)  # smaller outputs"
   ]
  },
  {
   "cell_type": "markdown",
   "metadata": {},
   "source": [
    "From the database, you can get the list of its contents using a few utility\n",
    "functions:\n",
    "\n"
   ]
  },
  {
   "cell_type": "code",
   "execution_count": 3,
   "metadata": {},
   "outputs": [
    {
     "data": {
      "text/plain": [
       "['amphibole',\n",
       " 'pyroxene',\n",
       " 'garnet',\n",
       " 'mica',\n",
       " 'epidote',\n",
       " 'feldspar',\n",
       " 'spinel',\n",
       " 'olivine']"
      ]
     },
     "execution_count": 3,
     "metadata": {},
     "output_type": "execute_result"
    }
   ],
   "source": [
    "list_groups()"
   ]
  },
  {
   "cell_type": "code",
   "execution_count": 4,
   "metadata": {},
   "outputs": [
    {
     "data": {
      "text/plain": [
       "['uvarovite',\n",
       " 'diopside',\n",
       " 'tremolite',\n",
       " 'hedenbergite',\n",
       " 'jadeite',\n",
       " 'albite',\n",
       " 'epidote',\n",
       " 'ferroedenite',\n",
       " 'magnesioreibeckite',\n",
       " 'anorthite',\n",
       " 'liebenbergite',\n",
       " 'anthopyllite',\n",
       " 'margarite',\n",
       " 'polylithionite',\n",
       " 'magnesioferrite',\n",
       " 'magnesiohornblende',\n",
       " 'tschermakite',\n",
       " 'ferroaluminoceladonite',\n",
       " 'hercynite',\n",
       " 'fayalite',\n",
       " 'magnesiohastingsite',\n",
       " 'gedrite',\n",
       " 'kosmochlor',\n",
       " 'paragonite',\n",
       " 'taramite',\n",
       " 'eastonite',\n",
       " 'winchite',\n",
       " 'clinozoisite',\n",
       " 'majorite',\n",
       " 'clintonite',\n",
       " 'phlogopite',\n",
       " 'annite',\n",
       " 'trilithionite',\n",
       " 'spessartine',\n",
       " 'eckermanite',\n",
       " 'spinel',\n",
       " 'ferrokatophorite',\n",
       " 'magnesioarfvedsonite',\n",
       " 'hastingsite',\n",
       " 'katophorite',\n",
       " 'microcline',\n",
       " 'manganiceladonite',\n",
       " 'siderophyllite',\n",
       " 'ferrosilite',\n",
       " 'grossular',\n",
       " 'chromoceladonite',\n",
       " 'kaersutite',\n",
       " 'allanite',\n",
       " 'piemontite',\n",
       " 'magnesiochromite',\n",
       " 'ferrorichterite',\n",
       " 'muscovite',\n",
       " 'morimotoite',\n",
       " 'ferropargasite',\n",
       " 'pargasite',\n",
       " 'almandine',\n",
       " 'riebeckite',\n",
       " 'magnetite',\n",
       " 'ferrokaersutite',\n",
       " 'ferrohornblende',\n",
       " 'andradite',\n",
       " 'esseneite',\n",
       " 'ferroeckermanite',\n",
       " 'aluminoceladonite',\n",
       " 'glaucophane',\n",
       " 'richterite',\n",
       " 'namansilite',\n",
       " 'phengite',\n",
       " 'enstatite',\n",
       " 'ferroceladonite',\n",
       " 'aegirine',\n",
       " 'ferrotschermakite',\n",
       " 'forsterite',\n",
       " 'tephroite',\n",
       " 'arvedsonite',\n",
       " 'edenite',\n",
       " 'celadonite',\n",
       " 'johannsenite',\n",
       " 'pyrope',\n",
       " 'chromphyllite',\n",
       " 'barroisite',\n",
       " 'spodumene',\n",
       " 'chromite']"
      ]
     },
     "execution_count": 4,
     "metadata": {},
     "output_type": "execute_result"
    }
   ],
   "source": [
    "list_minerals()"
   ]
  },
  {
   "cell_type": "code",
   "execution_count": 5,
   "metadata": {},
   "outputs": [
    {
     "data": {
      "text/plain": [
       "['Na(Ca2)(Mg4Fe{3+})(Si6Al2)O22(OH)2',\n",
       " 'Na(Ca2)(Fe{2+}4Fe{3+})(Si6Al2)O22(OH)2',\n",
       " 'K2(Mg4)(Si4Al6)O20(OH)4',\n",
       " 'NaCrSi2O6',\n",
       " 'Mg2SiO4',\n",
       " 'Na(NaCa)(Fe5)(Si8)O22(OH)2',\n",
       " 'CaAlFe{3+}SiO6',\n",
       " 'NaAlSi2O6',\n",
       " 'Na(Ca2)(Mg5)(Si7Al)O22(OH)2',\n",
       " 'Ca3Cr2(SiO4)3',\n",
       " 'LiAlSi2O6',\n",
       " 'Na(Ca2)(Mg4Ti)(Si6Al2)O22(OH)2',\n",
       " 'K2(Fe{2+}2Al2)(Si8)O20(OH)4',\n",
       " '(Ca2)(Mg4Al)(Si7Al)O22(OH)2',\n",
       " 'Ca3(TiFe{2+})(SiO4)3',\n",
       " 'Na(NaCa)(Mg4Al)(Si7Al)O22(OH)2',\n",
       " 'CaMnSi2O6',\n",
       " 'Fe{2+}Cr{3+}2O4',\n",
       " 'KAlSi3O8',\n",
       " 'Fe2SiO4',\n",
       " 'K2(Mg2Al2)(Si8)O20(OH)4',\n",
       " 'K2(Fe{3+}2Fe{2+}2)(Si8)O20(OH)4',\n",
       " '(Na2)(Mg3Fe{3+}2)(Si8)O22(OH)2',\n",
       " 'Ca3Al2(SiO4)3',\n",
       " 'Na(NaCa)(Mg3Al2)(Si6Al2)O22(OH)2',\n",
       " 'Fe{2+}3Al2(SiO4)3',\n",
       " 'Na(Ca2)(Mg4Al)(Si6Al2)O22(OH)2',\n",
       " 'Fe{2+}Al2O4',\n",
       " 'Fe2Si2O6',\n",
       " 'Mg2Si2O6',\n",
       " 'K2(Fe{2+}6)(Si6Al2)O20(OH)4',\n",
       " 'Na(Ca2)(Fe4Al)(Si6Al2)O22(OH)2',\n",
       " 'Ca2Al3(Si2O7)(SiO4)O(OH)',\n",
       " 'Mn2SiO4',\n",
       " 'Ca3Fe{3+}2(SiO4)3',\n",
       " 'Ca2Al2Fe{3+}(Si2O7)(SiO4)O(OH)',\n",
       " 'Mn3Al2(SiO4)3',\n",
       " 'Fe{2+}Fe{3+}2O4',\n",
       " 'K2(Fe{2+}4)(Si4Al6)O20(OH)4',\n",
       " 'CaAl2Si2O8',\n",
       " 'Ni1.5Mg0.5SiO4',\n",
       " '(Mg2)(Mg3Al2)(Si6Al2)O22(OH)2',\n",
       " '(Na2)(Fe3Fe{3+}2)(Si8)O22(OH)2',\n",
       " 'K2(Fe{3+}2Mg2)(Si8)O20(OH)4',\n",
       " 'Ca2(Al4)(Si4Al4)O20(OH)4',\n",
       " 'NaAlSi3O8',\n",
       " 'K2(Mg2Cr{3+}2)(Si8)O20(OH)4',\n",
       " '(Ca2)(Mg3Al2)(Si6Al2)O22(OH)2',\n",
       " 'Ca2(Mg4Al2)(Si2Al6)O20(OH)4',\n",
       " 'K2(Cr{3+}4)(Si6Al2)O20(OH)4',\n",
       " 'K2(Al3Mg)(Si7Al)O20(OH)4',\n",
       " 'K2(Mn{3+}2Mg2)(Si8)O20(OH)4',\n",
       " 'Na(Na2)(Mg4Al)(Si8)O22(OH)2',\n",
       " 'Ca2Al2Mn{3+}(Si2O7)(SiO4)O(OH)',\n",
       " '(Ca2)(Fe3Al2)(Si6Al2)O22(OH)2',\n",
       " 'MgFe{3+}2O4',\n",
       " 'Na2(Al4)(Si6Al2)O20(OH)4',\n",
       " '(Mg2)(Mg5)(Si8)O22(OH)2',\n",
       " 'CaFeSi2O6',\n",
       " 'K2(Al3Li3)(Si6Al2)O20(OH)4',\n",
       " '(NaCa)(Mg3Al2)(Si7Al)O22(OH)2',\n",
       " 'K2(Al2Li2)(Si8)O20(OH)4',\n",
       " 'Na(NaCa)(Fe4Al)(Si7Al)O22(OH)2',\n",
       " 'Na(Ca2)(Fe4Ti)(Si6Al2)O22(OH)2',\n",
       " 'Na(Ca2)(Fe5)(Si7Al)O22(OH)2',\n",
       " 'NaMn{3+}Si2O6',\n",
       " 'Mg3Al2(SiO4)3',\n",
       " 'NaFe{3+}Si2O6',\n",
       " 'CaCe{3+}Al2Fe{2+}(Si2O7)(SiO4)O(OH)',\n",
       " 'Na(Na2)(Fe{2+}4Fe{3+})(Si8)O22(OH)2',\n",
       " 'Na(Na2)(Fe4Al)(Si8)O22(OH)2',\n",
       " 'K2(Mg6)(Si6Al2)O20(OH)4',\n",
       " '(NaCa)(Mg4Al)(Si8)O22(OH)2',\n",
       " '(Na2)(Mg3Al2)(Si8)O22(OH)2',\n",
       " 'CaMgSi2O6',\n",
       " 'K2(Al4)(Si6Al2)O20(OH)4',\n",
       " '(Ca2)(Fe4Al)(Si7Al)O22(OH)2',\n",
       " 'Na(Na2)(Mg4Fe{3+})(Si8)O22(OH)2',\n",
       " 'Mg3(MgSi)(SiO4)3',\n",
       " '(Ca2)(Mg5)(Si8)O22(OH)2',\n",
       " 'MgAl2O4',\n",
       " 'MgCr{3+}2O4',\n",
       " 'Na(NaCa)(Mg5)(Si8)O22(OH)2']"
      ]
     },
     "execution_count": 5,
     "metadata": {},
     "output_type": "execute_result"
    }
   ],
   "source": [
    "list_formulae()"
   ]
  },
  {
   "cell_type": "markdown",
   "metadata": {},
   "source": [
    "You can also directly get the composition of specific minerals by name:\n",
    "\n",
    "\n"
   ]
  },
  {
   "cell_type": "code",
   "execution_count": 6,
   "metadata": {},
   "outputs": [
    {
     "data": {
      "text/plain": [
       "name       forsterite\n",
       "group         olivine\n",
       "formula       Mg2SiO4\n",
       "Mg              0.346\n",
       "Si                0.2\n",
       "O               0.455\n",
       "Fe                0.0\n",
       "Mn                0.0\n",
       "Ni                0.0\n",
       "Ca                0.0\n",
       "Al                0.0\n",
       "Fe{3+}            0.0\n",
       "Na                0.0\n",
       "Mn{3+}            0.0\n",
       "Cr                0.0\n",
       "Li                0.0\n",
       "Cr{3+}            0.0\n",
       "Fe{2+}            0.0\n",
       "K                 0.0\n",
       "H                 0.0\n",
       "Ti                0.0\n",
       "Ce{3+}            0.0\n",
       "dtype: object"
      ]
     },
     "execution_count": 6,
     "metadata": {},
     "output_type": "execute_result"
    }
   ],
   "source": [
    "get_mineral(\"forsterite\")"
   ]
  },
  {
   "cell_type": "markdown",
   "metadata": {},
   "source": [
    "If you want to get compositions for all minerals within a specific group, you can\n",
    "use :func:`~pyrolite.mineral.mindb.get_mineral_group`:\n",
    "\n"
   ]
  },
  {
   "cell_type": "code",
   "execution_count": null,
   "metadata": {},
   "outputs": [],
   "source": [
    "get_mineral_group(\"olivine\")"
   ]
  }
 ],
 "metadata": {
  "kernelspec": {
   "display_name": "Python 3",
   "language": "python",
   "name": "python3"
  },
  "language_info": {
   "codemirror_mode": {
    "name": "ipython",
    "version": 3
   },
   "file_extension": ".py",
   "mimetype": "text/x-python",
   "name": "python",
   "nbconvert_exporter": "python",
   "pygments_lexer": "ipython3",
   "version": "3.8.8"
  }
 },
 "nbformat": 4,
 "nbformat_minor": 1
}
