{
  "cells": [
    {
      "cell_type": "code",
      "execution_count": null,
      "metadata": {
        "collapsed": false
      },
      "outputs": [],
      "source": [
        "%matplotlib inline"
      ]
    },
    {
      "cell_type": "markdown",
      "metadata": {},
      "source": [
        "\nParallel Coordinate Plots\n============================\n\nParallel coordinate plots are one way to visualise data relationships and clusters in\nhigher dimensional data. pyrolite now includes an implementation of this which allows\na handy quick exploratory visualisation.\n"
      ]
    },
    {
      "cell_type": "code",
      "execution_count": null,
      "metadata": {
        "collapsed": false
      },
      "outputs": [],
      "source": [
        "import numpy as np\nimport pandas as pd\nimport matplotlib.pyplot as plt\nimport matplotlib.axes\nimport pyrolite.plot\nimport pyrolite.data.Aitchison"
      ]
    },
    {
      "cell_type": "markdown",
      "metadata": {},
      "source": [
        "To start, let's load up an example dataset from Aitchison\n\n\n"
      ]
    },
    {
      "cell_type": "code",
      "execution_count": null,
      "metadata": {
        "collapsed": false
      },
      "outputs": [],
      "source": [
        "df = pyrolite.data.Aitchison.load_coxite()\ncomp = [\n    i for i in df.columns if i not in [\"Depth\", \"Porosity\"]\n]  # compositional data variables"
      ]
    },
    {
      "cell_type": "code",
      "execution_count": null,
      "metadata": {
        "collapsed": false
      },
      "outputs": [],
      "source": [
        "ax = df.pyroplot.parallel()\nplt.show()"
      ]
    },
    {
      "cell_type": "markdown",
      "metadata": {},
      "source": [
        "By rescaling this using the mean and standard deviation, we can account for scale\ndifferences between variables:\n\n\n"
      ]
    },
    {
      "cell_type": "code",
      "execution_count": null,
      "metadata": {
        "collapsed": false
      },
      "outputs": [],
      "source": [
        "ax = df.pyroplot.parallel(rescale=True)\nplt.show()"
      ]
    },
    {
      "cell_type": "markdown",
      "metadata": {},
      "source": [
        "We can also use a centred-log transform for compositional data to reduce the effects\nof spurious correlation:\n\n\n"
      ]
    },
    {
      "cell_type": "code",
      "execution_count": null,
      "metadata": {
        "collapsed": false
      },
      "outputs": [],
      "source": [
        "from pyrolite.util.skl.transform import CLRTransform\n\ncmap = \"inferno\"\ncompdata = df.copy()\ncompdata[comp] = CLRTransform().transform(compdata[comp])\nax = compdata.loc[:, comp].pyroplot.parallel(color_by=compdata.Depth.values, cmap=cmap)\n\n# we can add a meaningful colorbar to indicate one variable also, here Depth\nsm = plt.cm.ScalarMappable(cmap=cmap)\nsm.set_array(df.Depth)\nplt.colorbar(sm)\nplt.show()"
      ]
    },
    {
      "cell_type": "code",
      "execution_count": null,
      "metadata": {
        "collapsed": false
      },
      "outputs": [],
      "source": [
        "ax = compdata.loc[:, comp].pyroplot.parallel(\n    rescale=True, color_by=compdata.Depth.values, cmap=cmap\n)\nplt.colorbar(sm)\nplt.show()"
      ]
    }
  ],
  "metadata": {
    "kernelspec": {
      "display_name": "Python 3",
      "language": "python",
      "name": "python3"
    },
    "language_info": {
      "codemirror_mode": {
        "name": "ipython",
        "version": 3
      },
      "file_extension": ".py",
      "mimetype": "text/x-python",
      "name": "python",
      "nbconvert_exporter": "python",
      "pygments_lexer": "ipython3",
      "version": "3.7.4"
    }
  },
  "nbformat": 4,
  "nbformat_minor": 0
}