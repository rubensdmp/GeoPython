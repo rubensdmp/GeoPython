{
  "cells": [
    {
      "cell_type": "code",
      "execution_count": null,
      "metadata": {
        "collapsed": false
      },
      "outputs": [],
      "source": [
        "%matplotlib inline"
      ]
    },
    {
      "cell_type": "markdown",
      "metadata": {},
      "source": [
        "\n# Spiderplots & Density Spiderplots\n"
      ]
    },
    {
      "cell_type": "code",
      "execution_count": null,
      "metadata": {
        "collapsed": false
      },
      "outputs": [],
      "source": [
        "import numpy as np\nimport pandas as pd\nimport matplotlib.pyplot as plt"
      ]
    },
    {
      "cell_type": "markdown",
      "metadata": {},
      "source": [
        "Here we'll set up an example which uses EMORB as a starting point. Typically we'll\nnormalise trace element compositions to a reference composition\nto be able to link the diagram to 'relative enrichement' occuring during geological\nprocesses, so here we're normalising to a Primitive Mantle composition first.\nWe're here taking this normalised composition and adding some noise in log-space to\ngenerate multiple compositions about this mean (i.e. a compositional distribution).\nFor simplicility, this is handlded by\n:func:`~pyrolite.util.synthetic.example_spider_data`:\n\n\n"
      ]
    },
    {
      "cell_type": "code",
      "execution_count": null,
      "metadata": {
        "collapsed": false
      },
      "outputs": [],
      "source": [
        "from pyrolite.util.synthetic import example_spider_data\n\nnormdf = example_spider_data(start=\"EMORB_SM89\", norm_to=\"PM_PON\")"
      ]
    },
    {
      "cell_type": "markdown",
      "metadata": {},
      "source": [
        ".. seealso:: `Normalisation <../geochem/normalization.html>`__\n\n\n"
      ]
    },
    {
      "cell_type": "markdown",
      "metadata": {},
      "source": [
        "Basic spider plots are straightforward to produce:\n\n\n"
      ]
    },
    {
      "cell_type": "code",
      "execution_count": null,
      "metadata": {
        "collapsed": false
      },
      "outputs": [],
      "source": [
        "import pyrolite.plot\n\nax = normdf.pyroplot.spider(color=\"0.5\", alpha=0.5, unity_line=True, figsize=(10, 4))\nax.set_ylabel(\"X / $X_{Primitive Mantle}$\")\nplt.show()"
      ]
    },
    {
      "cell_type": "markdown",
      "metadata": {},
      "source": [
        "## Index Ordering\n\nThe default ordering here follows that of the dataframe columns, but we typically\nwant to reorder these based on some physical ordering. A :code:`index_order` keyword\nargument can be used to supply a function which will reorder the elements before\nplotting. Here we order the elements by relative incompatibility (using\n:func:`pyrolite.geochem.ind.by_incompatibility` behind the scenes):\n\n"
      ]
    },
    {
      "cell_type": "code",
      "execution_count": null,
      "metadata": {
        "collapsed": false
      },
      "outputs": [],
      "source": [
        "from pyrolite.geochem.ind import by_incompatibility\n\nax = normdf.pyroplot.spider(\n    color=\"k\",\n    alpha=0.1,\n    unity_line=True,\n    index_order=\"incompatibility\",\n    figsize=(10, 4),\n)\nax.set_ylabel(\"X / $X_{Primitive Mantle}$\")\nplt.show()"
      ]
    },
    {
      "cell_type": "markdown",
      "metadata": {},
      "source": [
        "Similarly, you can also rearrange elements to be in order of atomic number:\n\n\n"
      ]
    },
    {
      "cell_type": "code",
      "execution_count": null,
      "metadata": {
        "collapsed": false
      },
      "outputs": [],
      "source": [
        "from pyrolite.geochem.ind import by_number\n\nax = normdf.pyroplot.spider(\n    color=\"k\",\n    alpha=0.1,\n    unity_line=True,\n    index_order=\"number\",\n    figsize=(10, 4),\n)\nax.set_ylabel(\"X / $X_{Primitive Mantle}$\")\nplt.show()"
      ]
    },
    {
      "cell_type": "markdown",
      "metadata": {},
      "source": [
        "## Color Mapping\n\nWe can also specify either continuous or categorical values to use for the colors,\nand even map categorical values to specific colors where useful:\n\n\n"
      ]
    },
    {
      "cell_type": "code",
      "execution_count": null,
      "metadata": {
        "collapsed": false
      },
      "outputs": [],
      "source": [
        "fig, ax = plt.subplots(3, 1, sharex=True, sharey=True, figsize=(10, 8))\nax[0].set_title(\"Continuous Values\")\nnormdf.pyroplot.spider(\n    ax=ax[0],\n    unity_line=True,\n    index_order='incompatibility',\n    cmap=\"plasma\",\n    alpha=0.1,\n    color=np.log(normdf[\"Li\"]),  # a range of continous values\n)\nax[1].set_title(\"Boolean/Categorical Values\")\nnormdf.pyroplot.spider(\n    ax=ax[1],\n    alpha=0.1,\n    unity_line=True,\n    index_order='incompatibility',\n    color=normdf[\"Cs\"] > 3.5,  # a boolean/categorical set of values\n)\nax[2].set_title(\"Boolean/Categorical Values with Color Mapping\")\nnormdf.pyroplot.spider(\n    ax=ax[2],\n    alpha=0.1,\n    unity_line=True,\n    index_order='incompatibility',\n    color=normdf[\"Cs\"] > 3.5,  # a boolean/categorical set of values\n    color_mappings={  # mapping the boolean values to specific colors\n        \"color\": {True: \"green\", False: \"purple\"}\n    },\n)\n[a.set_ylabel(\"X / $X_{Primitive Mantle}$\") for a in ax]\nplt.show()"
      ]
    },
    {
      "cell_type": "markdown",
      "metadata": {},
      "source": [
        "## Split Configuration\n\nIf you have potential conflicts between desired configurations for the lines and\nmarkers of your plots, you can explictly separate the configuration using the\n:code:`scatter_kw` and :code:`line_kw` keyword arguments:\n\n"
      ]
    },
    {
      "cell_type": "code",
      "execution_count": null,
      "metadata": {
        "collapsed": false
      },
      "outputs": [],
      "source": [
        "fig, ax = plt.subplots(1, 1, sharex=True, sharey=True, figsize=(10, 4))\nax.set_title(\"Split Configuration\")\nnormdf.pyroplot.spider(\n    ax=ax,\n    unity_line=True,\n    index_order='incompatibility',\n    scatter_kw=dict(cmap=\"magma_r\", color=np.log(normdf[\"Li\"])),\n    line_kw=dict(\n        color=normdf[\"Cs\"] > 5,\n        color_mappings={\"color\": {True: \"green\", False: \"purple\"}},\n    ),\n    alpha=0.2,  # common alpha config between lines and markers\n    s=25,  # argument for scatter which won't be passed to lines\n)\nplt.show()"
      ]
    },
    {
      "cell_type": "markdown",
      "metadata": {},
      "source": [
        "## Filled Ranges\n\nThe spiderplot can be extended to provide visualisations of ranges and density via the\nvarious modes. We could now plot the range of compositions as a filled range:\n\n\n"
      ]
    },
    {
      "cell_type": "code",
      "execution_count": null,
      "metadata": {
        "collapsed": false
      },
      "outputs": [],
      "source": [
        "ax = normdf.pyroplot.spider(\n    mode=\"fill\",\n    color=\"green\",\n    alpha=0.5,\n    unity_line=True,\n    index_order='incompatibility',\n    figsize=(10, 4),\n)\nax.set_ylabel(\"X / $X_{Primitive Mantle}$\")\nplt.show()"
      ]
    },
    {
      "cell_type": "markdown",
      "metadata": {},
      "source": [
        "## Spider Density Plots\n\nAlternatively, we can plot a conditional density spider plot:\n\n\n"
      ]
    },
    {
      "cell_type": "code",
      "execution_count": null,
      "metadata": {
        "collapsed": false
      },
      "outputs": [],
      "source": [
        "fig, ax = plt.subplots(2, 1, sharex=True, sharey=True, figsize=(10, 6))\nnormdf.pyroplot.spider(\n    ax=ax[0], color=\"k\", alpha=0.05, unity_line=True, index_order=by_incompatibility\n)\nnormdf.pyroplot.spider(\n    ax=ax[1],\n    mode=\"binkde\",\n    vmin=0.05,  # 95th percentile,\n    resolution=10,\n    unity_line=True,\n    index_order='incompatibility',\n)\n[a.set_ylabel(\"X / $X_{Primitive Mantle}$\") for a in ax]\nplt.show()"
      ]
    },
    {
      "cell_type": "markdown",
      "metadata": {},
      "source": [
        "We can now assemble a more complete comparison of some of the conditional density\nmodes for spider plots:\n\n\n"
      ]
    },
    {
      "cell_type": "code",
      "execution_count": null,
      "metadata": {
        "collapsed": false
      },
      "outputs": [],
      "source": [
        "modes = [\n    (\"plot\", \"plot\", [], dict(color=\"k\", alpha=0.01)),\n    (\"fill\", \"fill\", [], dict(color=\"k\", alpha=0.5)),\n    (\"binkde\", \"binkde\", [], dict(resolution=5)),\n    (\n        \"binkde\",\n        \"binkde contours specified\",\n        [],\n        dict(contours=[0.95], resolution=5),  # 95th percentile contour\n    ),\n    (\"histogram\", \"histogram\", [], dict(resolution=5, bins=30)),\n]"
      ]
    },
    {
      "cell_type": "code",
      "execution_count": null,
      "metadata": {
        "collapsed": false
      },
      "outputs": [],
      "source": [
        "down, across = len(modes), 1\nfig, ax = plt.subplots(\n    down, across, sharey=True, sharex=True, figsize=(across * 8, 2 * down)\n)\n[a.set_ylabel(\"X / $X_{Primitive Mantle}$\") for a in ax]\nfor a, (m, name, args, kwargs) in zip(ax, modes):\n    a.annotate(  # label the axes rows\n        \"Mode: {}\".format(name),\n        xy=(0.1, 1.05),\n        xycoords=a.transAxes,\n        fontsize=8,\n        ha=\"left\",\n        va=\"bottom\",\n    )\nax = ax.flat\nfor mix, (m, name, args, kwargs) in enumerate(modes):\n    normdf.pyroplot.spider(\n        mode=m,\n        ax=ax[mix],\n        vmin=0.05,  # minimum percentile\n        fontsize=8,\n        unity_line=True,\n        index_order='incompatibility',\n        *args,\n        **kwargs\n    )\n\nplt.tight_layout()"
      ]
    },
    {
      "cell_type": "markdown",
      "metadata": {},
      "source": [
        "## REE Density Plots\n\nNote that this can also be used for REE-indexed plots, in both configurations. Here\nwe first specify a set of common keyword-argument configurations and use them for\nboth plots:\n\n\n"
      ]
    },
    {
      "cell_type": "code",
      "execution_count": null,
      "metadata": {
        "collapsed": false
      },
      "outputs": [],
      "source": [
        "REE_config = dict(unity_line=True, mode=\"binkde\", vmin=0.05, resolution=10)\n\nfig, ax = plt.subplots(1, 2, sharey=True, figsize=(12, 4))\nnormdf.pyroplot.REE(ax=ax[0], **REE_config)\nnormdf.pyroplot.REE(ax=ax[1], index=\"radii\", **REE_config)\n[a.set_ylabel(\"X / $X_{Primitive Mantle}$\") for a in ax]\nplt.show()"
      ]
    },
    {
      "cell_type": "markdown",
      "metadata": {},
      "source": [
        ".. seealso:: `Heatscatter Plots <heatscatter.html>`__,\n             `Density Diagrams <density.html>`__\n\n"
      ]
    }
  ],
  "metadata": {
    "kernelspec": {
      "display_name": "Python 3",
      "language": "python",
      "name": "python3"
    },
    "language_info": {
      "codemirror_mode": {
        "name": "ipython",
        "version": 3
      },
      "file_extension": ".py",
      "mimetype": "text/x-python",
      "name": "python",
      "nbconvert_exporter": "python",
      "pygments_lexer": "ipython3",
      "version": "3.7.9"
    }
  },
  "nbformat": 4,
  "nbformat_minor": 0
}