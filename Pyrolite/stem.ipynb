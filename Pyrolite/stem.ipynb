{
  "cells": [
    {
      "cell_type": "code",
      "execution_count": null,
      "metadata": {
        "collapsed": false
      },
      "outputs": [],
      "source": [
        "%matplotlib inline"
      ]
    },
    {
      "cell_type": "markdown",
      "metadata": {},
      "source": [
        "\nStem Plots\n============\n\nStem plots are commonly used to visualise discrete distributions of data,\nand are useful to highlight discrete observations where the precision of values along\none axis is high (e.g. an independent spatial measure like depth) and the other is less\nso (such that the sampling frequency along this axis is important, which is not\nemphasised by a scatter plot).\n"
      ]
    },
    {
      "cell_type": "code",
      "execution_count": null,
      "metadata": {
        "collapsed": false
      },
      "outputs": [],
      "source": [
        "import pandas as pd\nimport numpy as np\nimport matplotlib.pyplot as plt\nfrom pyrolite.plot import pyroplot\nfrom pyrolite.plot.stem import stem\n\n\nnp.random.seed(82)"
      ]
    },
    {
      "cell_type": "markdown",
      "metadata": {},
      "source": [
        "First let's create some example data:\n\n\n"
      ]
    },
    {
      "cell_type": "code",
      "execution_count": null,
      "metadata": {
        "collapsed": false
      },
      "outputs": [],
      "source": [
        "x = np.linspace(0, 10, 10) + np.random.randn(10) / 2.0\ny = np.random.rand(10)\ndf = pd.DataFrame(np.vstack([x, y]).T, columns=[\"Depth\", \"Fe3O4\"])"
      ]
    },
    {
      "cell_type": "markdown",
      "metadata": {},
      "source": [
        "A minimal stem plot can be constructed as follows:\n\n"
      ]
    },
    {
      "cell_type": "code",
      "execution_count": null,
      "metadata": {
        "collapsed": false
      },
      "outputs": [],
      "source": [
        "ax = df.pyroplot.stem(color=\"k\", figsize=(5, 3))"
      ]
    },
    {
      "cell_type": "markdown",
      "metadata": {},
      "source": [
        "Stem plots can also be used in a vertical orientation, such as for visualising\ndiscrete observations down a drill hole:\n\n\n"
      ]
    },
    {
      "cell_type": "code",
      "execution_count": null,
      "metadata": {
        "collapsed": false
      },
      "outputs": [],
      "source": [
        "ax = df.pyroplot.stem(\n    orientation=\"vertical\",\n    s=12,\n    linestyle=\"--\",\n    linewidth=0.5,\n    color=\"k\",\n    figsize=(3, 5),\n)\n# the yaxes can then be inverted using:\nax.invert_yaxis()\n# and if you'd like the xaxis to be labeled at the top:\nax.xaxis.set_ticks_position(\"top\")\nax.xaxis.set_label_position(\"top\")"
      ]
    }
  ],
  "metadata": {
    "kernelspec": {
      "display_name": "Python 3",
      "language": "python",
      "name": "python3"
    },
    "language_info": {
      "codemirror_mode": {
        "name": "ipython",
        "version": 3
      },
      "file_extension": ".py",
      "mimetype": "text/x-python",
      "name": "python",
      "nbconvert_exporter": "python",
      "pygments_lexer": "ipython3",
      "version": "3.7.4"
    }
  },
  "nbformat": 4,
  "nbformat_minor": 0
}