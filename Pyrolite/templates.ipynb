{
  "cells": [
    {
      "cell_type": "code",
      "execution_count": null,
      "metadata": {
        "collapsed": false
      },
      "outputs": [],
      "source": [
        "%matplotlib inline"
      ]
    },
    {
      "cell_type": "markdown",
      "metadata": {},
      "source": [
        "\nPlot Templates\n============================\n\n:mod:`pyrolite` includes some ready-made templates for well-known plots. These can\nbe used to create new plots, or add a template to an existing\n:class:`matplotlib.axes.Axes`.\n"
      ]
    },
    {
      "cell_type": "code",
      "execution_count": null,
      "metadata": {
        "collapsed": false
      },
      "outputs": [],
      "source": [
        "import matplotlib.pyplot as plt\nfrom pyrolite.util.plot.axes import share_axes"
      ]
    },
    {
      "cell_type": "markdown",
      "metadata": {},
      "source": [
        "First let's build a simple total-alkali vs silica (\n:func:`~pyrolite.plot.templates.TAS`) diagram:\n\n\n"
      ]
    },
    {
      "cell_type": "code",
      "execution_count": null,
      "metadata": {
        "collapsed": false
      },
      "outputs": [],
      "source": [
        "from pyrolite.plot.templates import TAS\n\nax = TAS(linewidth=0.5, labels='ID')\nplt.show()"
      ]
    },
    {
      "cell_type": "markdown",
      "metadata": {},
      "source": [
        "The other templates currently included in :mod:`pyrolite` are the\n:func:`~pyrolite.plot.templates.pearceThNbYb` and\n:func:`~pyrolite.plot.templates.pearceTiNbYb` diagrams.\nWe can create some axes and add these templates to them:\n\n\n"
      ]
    },
    {
      "cell_type": "code",
      "execution_count": null,
      "metadata": {
        "collapsed": false
      },
      "outputs": [],
      "source": [
        "from pyrolite.plot.templates import pearceThNbYb, pearceTiNbYb\n\nfig, ax = plt.subplots(1, 2, figsize=(10, 4))\nshare_axes(ax, which=\"x\")  # these diagrams have the same x axis\n\npearceThNbYb(ax=ax[0])\npearceTiNbYb(ax=ax[1])\n\nplt.tight_layout()  # nicer spacing for axis labels"
      ]
    },
    {
      "cell_type": "markdown",
      "metadata": {},
      "source": [
        "References and other notes for diagram templates can be found within the docstrings\nand within the pyrolite documentation:\n\n\n"
      ]
    },
    {
      "cell_type": "code",
      "execution_count": null,
      "metadata": {
        "collapsed": false
      },
      "outputs": [],
      "source": [
        "help(TAS)"
      ]
    }
  ],
  "metadata": {
    "kernelspec": {
      "display_name": "Python 3",
      "language": "python",
      "name": "python3"
    },
    "language_info": {
      "codemirror_mode": {
        "name": "ipython",
        "version": 3
      },
      "file_extension": ".py",
      "mimetype": "text/x-python",
      "name": "python",
      "nbconvert_exporter": "python",
      "pygments_lexer": "ipython3",
      "version": "3.7.4"
    }
  },
  "nbformat": 4,
  "nbformat_minor": 0
}