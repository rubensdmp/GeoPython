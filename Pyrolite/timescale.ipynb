{
  "cells": [
    {
      "cell_type": "code",
      "execution_count": null,
      "metadata": {
        "collapsed": false
      },
      "outputs": [],
      "source": [
        "%matplotlib inline"
      ]
    },
    {
      "cell_type": "markdown",
      "metadata": {},
      "source": [
        "\n# Geological Timescale\n\npyrolite includes a simple geological timescale, based on a recent verion\nof the International Chronostratigraphic Chart [#ICS]_. The\n:class:`~pyrolite.util.time.Timescale` class can be used to look up names for\nspecific geological ages, to look up times for known geological age names\nand to access a reference table for all of these.\n\n.. [#ICS] Cohen, K.M., Finney, S.C., Gibbard, P.L., Fan, J.-X., 2013.\n    `The ICS International Chronostratigraphic Chart <https://stratigraphy.org/chart>`__.\n    Episodes 36, 199\u2013204.\n"
      ]
    },
    {
      "cell_type": "markdown",
      "metadata": {},
      "source": [
        "First we'll create a timescale:\n\n\n"
      ]
    },
    {
      "cell_type": "code",
      "execution_count": null,
      "metadata": {
        "collapsed": false
      },
      "outputs": [],
      "source": [
        "from pyrolite.util.time import Timescale\nts = Timescale()"
      ]
    },
    {
      "cell_type": "markdown",
      "metadata": {},
      "source": [
        "From this we can look up the names of ages (in million years, or Ma):\n\n\n"
      ]
    },
    {
      "cell_type": "code",
      "execution_count": null,
      "metadata": {
        "collapsed": false
      },
      "outputs": [],
      "source": [
        "ts.named_age(1212.1)"
      ]
    },
    {
      "cell_type": "markdown",
      "metadata": {},
      "source": [
        "As geological age names are hierarchical, the name you give an age depends on what\nlevel you're looking at. By default, the timescale will return the most specific\nnon-null level. The levels accessible within the timescale are listed\nas an attribute:\n\n\n"
      ]
    },
    {
      "cell_type": "code",
      "execution_count": null,
      "metadata": {
        "collapsed": false
      },
      "outputs": [],
      "source": [
        "ts.levels"
      ]
    },
    {
      "cell_type": "markdown",
      "metadata": {},
      "source": [
        "These can be used to refine the output names to your desired level of specificity\n(noting that for some ages, the levels which are accessible can differ; see the chart):\n\n\n"
      ]
    },
    {
      "cell_type": "code",
      "execution_count": null,
      "metadata": {
        "collapsed": false
      },
      "outputs": [],
      "source": [
        "ts.named_age(1212.1, level=\"Epoch\")"
      ]
    },
    {
      "cell_type": "markdown",
      "metadata": {},
      "source": [
        "The timescale can also do the inverse for you, and return the timing information for a\ngiven named age:\n\n"
      ]
    },
    {
      "cell_type": "code",
      "execution_count": null,
      "metadata": {
        "collapsed": false
      },
      "outputs": [],
      "source": [
        "ts.text2age(\"Holocene\")"
      ]
    },
    {
      "cell_type": "markdown",
      "metadata": {},
      "source": [
        "We can use this to create a simple template to visualise the geological timescale:\n\n\n"
      ]
    },
    {
      "cell_type": "code",
      "execution_count": null,
      "metadata": {
        "collapsed": false
      },
      "outputs": [],
      "source": [
        "import pandas as pd\nimport matplotlib.pyplot as plt\n\nfig, ax = plt.subplots(1, figsize=(5, 10))\n\nfor ix, level in enumerate(ts.levels):\n    ldf = ts.data.loc[ts.data.Level == level, :]\n    for pix, period in ldf.iterrows():\n        ax.bar(\n            ix,\n            period.Start - period.End,\n            facecolor=period.Color,\n            bottom=period.End,\n            width=1,\n            edgecolor=\"k\",\n        )\n\nax.set_xticks(range(len(ts.levels)))\nax.set_xticklabels(ts.levels, rotation=60)\nax.xaxis.set_ticks_position(\"top\")\nax.set_ylabel(\"Age (Ma)\")\nax.invert_yaxis()"
      ]
    },
    {
      "cell_type": "markdown",
      "metadata": {},
      "source": [
        "This doesn't quite look like the geological timescale you may be used to. We can improve\non the output somewhat with a bit of customisation for the positioning. Notably, this is\nless readable, but produces something closer to what we're after. Some of this may soon\nbe integrated as a :class:`~pyrolite.util.time.Timescale` method, if there's interest.\n\n\n"
      ]
    },
    {
      "cell_type": "code",
      "execution_count": null,
      "metadata": {
        "collapsed": false
      },
      "outputs": [],
      "source": [
        "import numpy as np\nfrom matplotlib.patches import Rectangle\n\n# first let's set up some x-limits for the different timescale levels\nxlims = {\n    \"Eon\": (0, 1),\n    \"Era\": (1, 2),\n    \"Period\": (2, 3),\n    \"Superepoch\": (3, 4),\n    \"Epoch\": (3, 5),\n    \"Age\": (5, 7),\n}\n\n\nfig, ax = plt.subplots(1, figsize=(4, 10))\n\nfor ix, level in enumerate(ts.levels[::-1]):\n    ldf = ts.data.loc[ts.data.Level == level, :]\n    for pix, period in ldf.iterrows():\n        left, right = xlims[level]\n        if ix != len(ts.levels) - 1:\n            time = np.mean(ts.text2age(period.Name))\n            general = None\n            _ix = ix\n            while general is None:\n                try:\n                    general = ts.named_age(time, level=ts.levels[::-1][_ix + 1])\n                except:\n                    pass\n                _ix += 1\n            _l, _r = xlims[ts.levels[::-1][_ix]]\n            if _r > left:\n                left = _r\n\n        rect = Rectangle(\n            (left, period.End),\n            right - left,\n            period.Start - period.End,\n            facecolor=period.Color,\n            edgecolor=\"k\",\n        )\n        ax.add_artist(rect)\n\nax.set_xticks([np.mean(xlims[lvl]) for lvl in ts.levels])\nax.set_xticklabels(ts.levels, rotation=60)\nax.xaxis.set_ticks_position(\"top\")\nax.set_xlim(0, 7)\nax.set_ylabel(\"Age (Ma)\")\nax.set_ylim(500, 0)"
      ]
    }
  ],
  "metadata": {
    "kernelspec": {
      "display_name": "Python 3",
      "language": "python",
      "name": "python3"
    },
    "language_info": {
      "codemirror_mode": {
        "name": "ipython",
        "version": 3
      },
      "file_extension": ".py",
      "mimetype": "text/x-python",
      "name": "python",
      "nbconvert_exporter": "python",
      "pygments_lexer": "ipython3",
      "version": "3.7.9"
    }
  },
  "nbformat": 4,
  "nbformat_minor": 0
}