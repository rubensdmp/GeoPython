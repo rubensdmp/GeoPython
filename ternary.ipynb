{
  "cells": [
    {
      "cell_type": "code",
      "execution_count": null,
      "metadata": {
        "collapsed": false
      },
      "outputs": [],
      "source": [
        "%matplotlib inline"
      ]
    },
    {
      "cell_type": "markdown",
      "metadata": {},
      "source": [
        "\n# Ternary Plots\n"
      ]
    },
    {
      "cell_type": "code",
      "execution_count": null,
      "metadata": {
        "collapsed": false
      },
      "outputs": [],
      "source": [
        "import pandas as pd\nimport numpy as np\nimport matplotlib.pyplot as plt\nfrom pyrolite.plot import pyroplot\n\nnp.random.seed(82)"
      ]
    },
    {
      "cell_type": "markdown",
      "metadata": {},
      "source": [
        "Let's first create some example data:\n\n\n"
      ]
    },
    {
      "cell_type": "code",
      "execution_count": null,
      "metadata": {
        "collapsed": false
      },
      "outputs": [],
      "source": [
        "df = pd.DataFrame(data=np.exp(np.random.rand(100, 3)), columns=[\"SiO2\", \"MgO\", \"CaO\"])\ndf.loc[:, [\"SiO2\", \"MgO\", \"CaO\"]].head()"
      ]
    },
    {
      "cell_type": "markdown",
      "metadata": {},
      "source": [
        "Now we can create a simple scatter plot:\n\n\n"
      ]
    },
    {
      "cell_type": "code",
      "execution_count": null,
      "metadata": {
        "collapsed": false
      },
      "outputs": [],
      "source": [
        "ax = df.loc[:, [\"SiO2\", \"MgO\", \"CaO\"]].pyroplot.scatter(c=\"k\")\nplt.show()"
      ]
    },
    {
      "cell_type": "markdown",
      "metadata": {},
      "source": [
        "If the data represent some continuting, you could also simply plot them as lines:\n\n\n"
      ]
    },
    {
      "cell_type": "code",
      "execution_count": null,
      "metadata": {
        "collapsed": false
      },
      "outputs": [],
      "source": [
        "ax = df.loc[:, [\"SiO2\", \"MgO\", \"CaO\"]].pyroplot.plot(color=\"k\", alpha=0.5)\nplt.show()"
      ]
    },
    {
      "cell_type": "markdown",
      "metadata": {},
      "source": [
        "The plotting axis can be specified to use exisiting axes:\n\n\n"
      ]
    },
    {
      "cell_type": "code",
      "execution_count": null,
      "metadata": {
        "collapsed": false
      },
      "outputs": [],
      "source": [
        "fig, ax = plt.subplots(1, 2, sharex=True, sharey=True, figsize=(12, 5))\n\ndf.loc[:, [\"SiO2\", \"MgO\", \"CaO\"]].sample(20).pyroplot.scatter(ax=ax[0], c=\"k\")\ndf.loc[:, [\"SiO2\", \"MgO\", \"CaO\"]].sample(20).pyroplot.scatter(ax=ax[1], c=\"g\")\n\nax = fig.orderedaxes  # creating scatter plots reorders axes, this is the correct order\nplt.tight_layout()"
      ]
    },
    {
      "cell_type": "markdown",
      "metadata": {},
      "source": [
        ".. seealso:: `Heatscatter Plots <heatscatter.html>`__,\n             `Density Plots <density.html>`__,\n             `Spider Density Diagrams <spider.html>`__\n\n"
      ]
    }
  ],
  "metadata": {
    "kernelspec": {
      "display_name": "Python 3",
      "language": "python",
      "name": "python3"
    },
    "language_info": {
      "codemirror_mode": {
        "name": "ipython",
        "version": 3
      },
      "file_extension": ".py",
      "mimetype": "text/x-python",
      "name": "python",
      "nbconvert_exporter": "python",
      "pygments_lexer": "ipython3",
      "version": "3.7.9"
    }
  },
  "nbformat": 4,
  "nbformat_minor": 0
}